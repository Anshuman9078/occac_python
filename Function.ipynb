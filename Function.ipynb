{
 "cells": [
  {
   "cell_type": "markdown",
   "id": "6399766a-8f45-4581-9b55-e3e1ec62780f",
   "metadata": {},
   "source": [
    "# Function"
   ]
  },
  {
   "cell_type": "markdown",
   "id": "6a5a0f02-2e6c-44b3-96c0-945ffc6c092e",
   "metadata": {},
   "source": [
    "The function is a group of related statements that performs  a specific tasks .\n",
    "A function is a set of statements that takes inputs  , do some specific computation and produces output.\n"
   ]
  },
  {
   "cell_type": "code",
   "execution_count": 1,
   "id": "5b5bfc31-0624-453d-86a3-05c918184ee7",
   "metadata": {},
   "outputs": [
    {
     "data": {
      "text/plain": [
       "(1, 2)"
      ]
     },
     "execution_count": 1,
     "metadata": {},
     "output_type": "execute_result"
    }
   ],
   "source": [
    "divmod(6,4)"
   ]
  },
  {
   "cell_type": "code",
   "execution_count": 5,
   "id": "0d44d775-6bbe-420c-8824-47d5eadbf326",
   "metadata": {},
   "outputs": [],
   "source": [
    "def even_odd ():\n",
    "     \"\"\" checking even or odd with no argument \"\"\"\n",
    "    a=int(input(\"enter a number\"))\n",
    "    if a % 2 == 0 :\n",
    "        print(\"the number is even\")\n",
    "    else:\n",
    "        print(\"the number is odd\")\n"
   ]
  },
  {
   "cell_type": "code",
   "execution_count": 6,
   "id": "75a623df-1d3a-4f18-b517-c08e9b81c401",
   "metadata": {},
   "outputs": [
    {
     "name": "stdin",
     "output_type": "stream",
     "text": [
      "enter a number 5\n"
     ]
    },
    {
     "name": "stdout",
     "output_type": "stream",
     "text": [
      "the number is odd\n"
     ]
    }
   ],
   "source": [
    "even_odd ()"
   ]
  },
  {
   "cell_type": "code",
   "execution_count": 7,
   "id": "6022813e-5435-4bb5-a2f5-2315320967f3",
   "metadata": {},
   "outputs": [],
   "source": [
    "def even_odd (a                                         # function is one argument \n",
    "    \"\"\" checking even or odd with one argument \"\"\"\n",
    "    if a % 2 == 0 :\n",
    "        print(\"the number is even\")\n",
    "    else:\n",
    "        print(\"the number is odd\")\n"
   ]
  },
  {
   "cell_type": "code",
   "execution_count": 8,
   "id": "ae5b40fc-a957-4739-ad76-2536ab0d48e3",
   "metadata": {},
   "outputs": [
    {
     "name": "stdout",
     "output_type": "stream",
     "text": [
      "the number is odd\n"
     ]
    }
   ],
   "source": [
    " even_odd (5)"
   ]
  },
  {
   "cell_type": "code",
   "execution_count": 19,
   "id": "ba1a3723-7438-4751-ac13-a0563923ad1e",
   "metadata": {},
   "outputs": [],
   "source": [
    "def even_odd_2 ():                                      # function is no argument \n",
    "    \"\"\" checking even or odd with one argument \"\"\"\n",
    "    a=int(input(\"enter a number\"))\n",
    "    b=int(input(\"enter a number\"))\n",
    "    s = a+b\n",
    "    if s % 2 == 0 :\n",
    "       print(\"the number\",s,\" is even\") \n",
    "    else:\n",
    "        print(\"the number\",s,\" is odd\")\n"
   ]
  },
  {
   "cell_type": "code",
   "execution_count": 20,
   "id": "bab14cfb-de41-49f4-8d53-d35fa816ff62",
   "metadata": {},
   "outputs": [
    {
     "name": "stdin",
     "output_type": "stream",
     "text": [
      "enter a number 5\n",
      "enter a number 4\n"
     ]
    },
    {
     "name": "stdout",
     "output_type": "stream",
     "text": [
      "the number 9  is odd\n"
     ]
    }
   ],
   "source": [
    "even_odd_2 ()"
   ]
  },
  {
   "cell_type": "code",
   "execution_count": 21,
   "id": "88cc926d-8769-4f6c-973a-87279ef64298",
   "metadata": {},
   "outputs": [],
   "source": [
    "def even_odd_2 (a,b):                                           # function with 2 argument\n",
    "    \"\"\" checking even or odd with one argument \"\"\"\n",
    "    s = a+b                                                 \n",
    "    if s % 2 == 0 :\n",
    "        print(\"the number\",s,\" is even\")\n",
    "    else:\n",
    "        print(\"the number\",s,\" is odd\")\n"
   ]
  },
  {
   "cell_type": "code",
   "execution_count": 23,
   "id": "3a2ebc45-6943-48de-8957-90a99f8e303c",
   "metadata": {},
   "outputs": [
    {
     "name": "stdout",
     "output_type": "stream",
     "text": [
      "the number 14  is even\n"
     ]
    }
   ],
   "source": [
    " even_odd_2 (6,8)"
   ]
  },
  {
   "cell_type": "code",
   "execution_count": 33,
   "id": "012eed85-8eb6-4f06-90c0-bff69755296d",
   "metadata": {},
   "outputs": [],
   "source": [
    "def fact():\n",
    "    # n = int(input(\"enter a number\"))\n",
    "    n =  25\n",
    "    if n<0:\n",
    "        print(\"no reult\")\n",
    "    elif n == 0:\n",
    "        print(\"the factorial is 1\")\n",
    "    elif n>=1:\n",
    "        fact = 1\n",
    "        for i in range(1,n+1):\n",
    "            fact = fact*i\n",
    "        print(\"the factorial is :\", fact)"
   ]
  },
  {
   "cell_type": "code",
   "execution_count": 32,
   "id": "73d8dae2-bb17-4c46-b662-243e8f32e380",
   "metadata": {},
   "outputs": [
    {
     "name": "stdin",
     "output_type": "stream",
     "text": [
      "enter a number 5\n"
     ]
    },
    {
     "name": "stdout",
     "output_type": "stream",
     "text": [
      "the factorial is : 120\n"
     ]
    }
   ],
   "source": [
    "fact()"
   ]
  },
  {
   "cell_type": "code",
   "execution_count": 34,
   "id": "cf059052-5e1c-455e-9ff3-867a556ede1e",
   "metadata": {},
   "outputs": [
    {
     "name": "stdout",
     "output_type": "stream",
     "text": [
      "the factorial is : 15511210043330985984000000\n"
     ]
    }
   ],
   "source": [
    "fact()"
   ]
  },
  {
   "cell_type": "code",
   "execution_count": 38,
   "id": "91fdbe65-8cec-4fe0-befc-8913bd7fb361",
   "metadata": {},
   "outputs": [],
   "source": [
    "def double():\n",
    "    n = int(input(\"enter a number\"))\n",
    "    a= n**2\n",
    "    print(a)"
   ]
  },
  {
   "cell_type": "code",
   "execution_count": 39,
   "id": "f30718b1-e67b-4df8-ad57-b54f0ad1ce3d",
   "metadata": {},
   "outputs": [
    {
     "name": "stdin",
     "output_type": "stream",
     "text": [
      "enter a number 5\n"
     ]
    },
    {
     "name": "stdout",
     "output_type": "stream",
     "text": [
      "25\n"
     ]
    }
   ],
   "source": [
    "double()"
   ]
  },
  {
   "cell_type": "code",
   "execution_count": 2,
   "id": "ddc5d389-30f3-4308-a035-9c172630d9fd",
   "metadata": {},
   "outputs": [],
   "source": [
    "def double():\n",
    "    n = int(input(\"enter a number\"))\n",
    "    return n**2\n"
   ]
  },
  {
   "cell_type": "code",
   "execution_count": 3,
   "id": "5420c501-9658-4964-9d9c-ed33df64e0b9",
   "metadata": {},
   "outputs": [
    {
     "name": "stdin",
     "output_type": "stream",
     "text": [
      "enter a number 6\n"
     ]
    },
    {
     "data": {
      "text/plain": [
       "36"
      ]
     },
     "execution_count": 3,
     "metadata": {},
     "output_type": "execute_result"
    }
   ],
   "source": [
    "double()"
   ]
  },
  {
   "cell_type": "markdown",
   "id": "6ae96b39-7d21-4c88-9d02-b2296a4cadaf",
   "metadata": {},
   "source": [
    "# DEFAULT ARGUMENTS"
   ]
  },
  {
   "cell_type": "code",
   "execution_count": 9,
   "id": "e09a9e65-89d5-43c3-9848-519e756f6371",
   "metadata": {},
   "outputs": [],
   "source": [
    "def multiple(a,b):       # a ,b are the parameter\n",
    "    mul = a*b\n",
    "    print (\"the ultiplicaton of {} and {} is {} \".format(a,b,mul))\n",
    "    "
   ]
  },
  {
   "cell_type": "code",
   "execution_count": 11,
   "id": "e5fe2448-8797-4a59-a9b6-3d025776915a",
   "metadata": {},
   "outputs": [
    {
     "name": "stdout",
     "output_type": "stream",
     "text": [
      "the ultiplicaton of 5 and 6 is 30 \n"
     ]
    }
   ],
   "source": [
    "multiple(5,6)              # 5,6 are arguments  "
   ]
  },
  {
   "cell_type": "code",
   "execution_count": 14,
   "id": "645ec560-54e6-41df-bba8-8ef2fbf67dbb",
   "metadata": {},
   "outputs": [],
   "source": [
    "def multiple(a,b):\n",
    "    a = int(input(\"enter a number\"))\n",
    "    b = int(input(\"enter a number\"))\n",
    "    mul = a*b\n",
    "    print (\"the multiplicaton of {} and {} is {} \".format(a,b,mul))"
   ]
  },
  {
   "cell_type": "code",
   "execution_count": 15,
   "id": "730f6f03-286d-45bc-9da8-203cd874d4a9",
   "metadata": {},
   "outputs": [
    {
     "name": "stdin",
     "output_type": "stream",
     "text": [
      "enter a number 5\n",
      "enter a number 6\n"
     ]
    },
    {
     "name": "stdout",
     "output_type": "stream",
     "text": [
      "the multiplicaton of 5 and 6 is 30 \n"
     ]
    }
   ],
   "source": [
    "multiple(5,3)"
   ]
  },
  {
   "cell_type": "code",
   "execution_count": 16,
   "id": "26a81f68-51ca-4a0f-8137-64546eb17d9d",
   "metadata": {},
   "outputs": [],
   "source": [
    "def multiple(a):\n",
    "    a = int(input(\"enter a number\"))\n",
    "    b = int(input(\"enter a number\"))\n",
    "    mul = a*b\n",
    "    print (\"the multiplicaton of {} and {} is {} \".format(a,b,mul))"
   ]
  },
  {
   "cell_type": "code",
   "execution_count": 17,
   "id": "d8bd74f9-b0bc-4bfd-ba85-e589e6833a89",
   "metadata": {},
   "outputs": [
    {
     "name": "stdin",
     "output_type": "stream",
     "text": [
      "enter a number 5\n",
      "enter a number 6\n"
     ]
    },
    {
     "name": "stdout",
     "output_type": "stream",
     "text": [
      "the multiplicaton of 5 and 6 is 30 \n"
     ]
    }
   ],
   "source": [
    "multiple(5)"
   ]
  },
  {
   "cell_type": "code",
   "execution_count": 19,
   "id": "acc63d8d-016c-44b5-9e70-d66a76504fe3",
   "metadata": {},
   "outputs": [],
   "source": [
    "def multiple(a,b,c=3):\n",
    "    a = int(input(\"enter a number\"))\n",
    "    b = int(input(\"enter a number\"))\n",
    "    mul = (a*b)+3\n",
    "    print (\"the multiplicaton of {} and {} is {} \".format(a,b,mul))"
   ]
  },
  {
   "cell_type": "code",
   "execution_count": 20,
   "id": "7a11c5a3-9d9a-4eb6-9999-e7785b079823",
   "metadata": {},
   "outputs": [
    {
     "name": "stdin",
     "output_type": "stream",
     "text": [
      "enter a number 4\n",
      "enter a number 5\n"
     ]
    },
    {
     "name": "stdout",
     "output_type": "stream",
     "text": [
      "the multiplicaton of 4 and 5 is 23 \n"
     ]
    }
   ],
   "source": [
    "multiple(5,6)"
   ]
  },
  {
   "cell_type": "code",
   "execution_count": null,
   "id": "d37b5aea-69df-4f1b-8de7-ac96a96d56eb",
   "metadata": {},
   "outputs": [],
   "source": [
    "def multiple(c,a=2,b=3):\n",
    "    mul = (a*b)+c\n",
    "    print (\"the multiplicaton of {} and {} is {} \".format(a,b,mul))"
   ]
  },
  {
   "cell_type": "code",
   "execution_count": 28,
   "id": "dad39e9c-0d83-48d5-bc3c-6406edc3572b",
   "metadata": {},
   "outputs": [
    {
     "name": "stdout",
     "output_type": "stream",
     "text": [
      "the multiplicaton of 2 and 3 is 11 \n"
     ]
    }
   ],
   "source": [
    "multiple(5)"
   ]
  },
  {
   "cell_type": "code",
   "execution_count": 29,
   "id": "b8d85c87-6389-4b70-8afe-b435072ea100",
   "metadata": {},
   "outputs": [
    {
     "name": "stdout",
     "output_type": "stream",
     "text": [
      "the multiplicaton of 4 and 3 is 17 \n"
     ]
    }
   ],
   "source": [
    "multiple(5,4)"
   ]
  },
  {
   "cell_type": "code",
   "execution_count": 31,
   "id": "29223365-dc90-4d4e-8721-f9f73f73a008",
   "metadata": {},
   "outputs": [
    {
     "name": "stdout",
     "output_type": "stream",
     "text": [
      "the multiplicaton of 2 and 9 is 23 \n"
     ]
    }
   ],
   "source": [
    "multiple(5,2,9)"
   ]
  },
  {
   "cell_type": "markdown",
   "id": "b75c8d7a-0d2a-444f-9bbb-fdd03987c07f",
   "metadata": {},
   "source": [
    "# KEYWORD ARGUMENTS"
   ]
  },
  {
   "cell_type": "code",
   "execution_count": 55,
   "id": "e544e267-66a8-484b-a545-4a289df3565b",
   "metadata": {},
   "outputs": [
    {
     "name": "stdout",
     "output_type": "stream",
     "text": [
      "hello anshu , good morning ,how are you\n"
     ]
    }
   ],
   "source": [
    "def greet(**kwargs):\n",
    "    if kwrgs:\n",
    "        print(\"hello {} , {} ,{}\".format(kwargs['name'],kwargs['msg'],kwargs['v']))\n",
    "\n",
    "greet(name=\"anshu\", msg=\"good morning\", v= \"how are you\")"
   ]
  },
  {
   "cell_type": "code",
   "execution_count": 58,
   "id": "f2e7d244-71cf-45b2-907b-3b914d8e9d14",
   "metadata": {},
   "outputs": [
    {
     "name": "stdout",
     "output_type": "stream",
     "text": [
      "{'name': 'anshu', 'msg': 'good morning', 'v': 'how are you'}\n",
      "hello anshu , good morning ,how are you\n"
     ]
    }
   ],
   "source": [
    "def greet(**names):\n",
    "    print(names)\n",
    "    print(\"hello {} , {} ,{}\".format(names['name'],names['msg'],names['v']))\n",
    "\n",
    "greet(name=\"anshu\", msg=\"good morning\", v= \"how are you\")"
   ]
  },
  {
   "cell_type": "code",
   "execution_count": 77,
   "id": "f5c95b43-1289-4ad3-af73-f595010a0673",
   "metadata": {},
   "outputs": [
    {
     "name": "stdout",
     "output_type": "stream",
     "text": [
      "{'msg': 'helllo'}\n",
      "hello , msg\n"
     ]
    }
   ],
   "source": [
    "def greet(**names):\n",
    "    print(names)                            # it is not applicable  for this \n",
    "    for name in names:\n",
    "        print(\"hello , {0}\".format(name))\n",
    "\n",
    "greet(msg  ='helllo')"
   ]
  },
  {
   "cell_type": "code",
   "execution_count": 75,
   "id": "c099e0a7-cc90-4d67-8c45-85ab57ee55ad",
   "metadata": {},
   "outputs": [
    {
     "ename": "TypeError",
     "evalue": "greet() takes 0 positional arguments but 1 was given",
     "output_type": "error",
     "traceback": [
      "\u001b[1;31m---------------------------------------------------------------------------\u001b[0m",
      "\u001b[1;31mTypeError\u001b[0m                                 Traceback (most recent call last)",
      "Cell \u001b[1;32mIn[75], line 1\u001b[0m\n\u001b[1;32m----> 1\u001b[0m greet(\u001b[38;5;124m'\u001b[39m\u001b[38;5;124mpravas\u001b[39m\u001b[38;5;124m'\u001b[39m)\n",
      "\u001b[1;31mTypeError\u001b[0m: greet() takes 0 positional arguments but 1 was given"
     ]
    }
   ],
   "source": [
    "greet('pravas')"
   ]
  },
  {
   "cell_type": "code",
   "execution_count": null,
   "id": "98398fc6-2224-450e-a8bf-42ff3fb505b0",
   "metadata": {},
   "outputs": [],
   "source": []
  },
  {
   "cell_type": "markdown",
   "id": "4e6bddb2-704b-4a1f-a520-03f09d02d3fd",
   "metadata": {},
   "source": [
    "# ARBITARY ARGUMENTS"
   ]
  },
  {
   "cell_type": "code",
   "execution_count": 51,
   "id": "a8001e6f-e2ff-44a1-a764-b44a03795462",
   "metadata": {},
   "outputs": [],
   "source": [
    "def greet(*names):\n",
    "    print(names)\n",
    "    for name in names :\n",
    "        print(\"hello , {}\".format(name))"
   ]
  },
  {
   "cell_type": "code",
   "execution_count": 52,
   "id": "e11dbd8e-440a-42bf-8526-bdc54fe9c14a",
   "metadata": {},
   "outputs": [
    {
     "name": "stdout",
     "output_type": "stream",
     "text": [
      "('anshu', 'pravas')\n",
      "hello , anshu\n",
      "hello , pravas\n"
     ]
    }
   ],
   "source": [
    "greet('anshu','pravas')"
   ]
  },
  {
   "cell_type": "markdown",
   "id": "f8410a8f-ec26-4229-9676-e6cde2745a66",
   "metadata": {},
   "source": [
    "# RECURSIVE FUNCTION OR RECURSION"
   ]
  },
  {
   "cell_type": "code",
   "execution_count": 78,
   "id": "40af1b98-aef0-47b9-b704-f9da334c60ef",
   "metadata": {},
   "outputs": [],
   "source": [
    "def factorial(num):\n",
    "    if num==0:\n",
    "        return 1\n",
    "    else:\n",
    "        return num * factorial(num-1)"
   ]
  },
  {
   "cell_type": "code",
   "execution_count": 79,
   "id": "080700aa-6c0e-4f4b-b7a2-8c4ea852d4aa",
   "metadata": {},
   "outputs": [
    {
     "data": {
      "text/plain": [
       "120"
      ]
     },
     "execution_count": 79,
     "metadata": {},
     "output_type": "execute_result"
    }
   ],
   "source": [
    "factorial(5)"
   ]
  },
  {
   "cell_type": "code",
   "execution_count": 80,
   "id": "333309db-3eec-4dbe-8314-b434234329eb",
   "metadata": {},
   "outputs": [],
   "source": [
    "#### python program to make a simple calculator that can add ,substract,multiply nad division ."
   ]
  },
  {
   "cell_type": "code",
   "execution_count": 1,
   "id": "266b4fd3-b5c3-4b4b-a511-7275ff7f8033",
   "metadata": {},
   "outputs": [
    {
     "name": "stdout",
     "output_type": "stream",
     "text": [
      "select an operation :\n",
      "1. addition\n",
      "2. substraction\n",
      "3. multiplication\n",
      "4. division\n",
      "5. modulus\n"
     ]
    },
    {
     "name": "stdin",
     "output_type": "stream",
     "text": [
      "chose a number 1,2,3,4,5 as per your choice  5\n",
      "enter your number 10\n",
      "enter your number 20\n"
     ]
    },
    {
     "name": "stdout",
     "output_type": "stream",
     "text": [
      "the modulus of 10 20 is 10\n"
     ]
    }
   ],
   "source": [
    "def add(a,b):\n",
    "    sum= a+b\n",
    "    return sum\n",
    "\n",
    "def substact(a,b):\n",
    "    sub= a-b\n",
    "    return sub\n",
    "\n",
    "def multiply(a,b):\n",
    "    mul= a*b\n",
    "    return mul\n",
    "\n",
    "def division(a,b):\n",
    "    div= a/b\n",
    "    return div\n",
    "\n",
    "def modulo(a,b):\n",
    "    mod= a%b\n",
    "    return mod\n",
    "\n",
    "\n",
    "print(\"select an operation :\")\n",
    "print(\"1. addition\")\n",
    "print(\"2. substraction\")\n",
    "print(\"3. multiplication\")\n",
    "print(\"4. division\")\n",
    "print(\"5. modulus\")\n",
    "\n",
    "choice = int(input(\"chose a number 1,2,3,4,5 as per your choice \"))\n",
    "\n",
    "a = int(input(\"enter your number\"))\n",
    "b = int(input(\"enter your number\"))\n",
    "\n",
    "if choice == 1:\n",
    "    print(\"the summation of {} {} is {}\".format(a,b,add(a,b)))\n",
    "elif choice == 2:\n",
    "    print(\"the substraction of {} {} is {}\".format(a,b,substact(a,b)))\n",
    "elif choice == 3:\n",
    "    print(\"the multiplication of {} {} is {}\".format(a,b,multiply(a,b)))\n",
    "elif choice == 4:\n",
    "    print(\"the division of {} {} is {}\".format(a,b,division(a,b)))\n",
    "elif choice == 5:\n",
    "    print(\"the modulus of {} {} is {}\".format(a,b,modulo(a,b)))\n",
    "else:\n",
    "    print('invalid number')\n",
    "\n",
    "\n"
   ]
  },
  {
   "cell_type": "markdown",
   "id": "d7c15ea7-ac7a-455a-87c1-8291569986f2",
   "metadata": {},
   "source": [
    "### Write a program \n",
    "   1. enter 10 students name using function \n",
    "    2. loop\n",
    "    3. print \n",
    "    4. store a list\n",
    "\n",
    "### create a function to ca;culate compound intrest \n",
    "    1. function \n",
    "    2. operatpor \n",
    "    3. user input    "
   ]
  },
  {
   "cell_type": "code",
   "execution_count": 2,
   "id": "13a34748-cea7-47c4-9f80-73663ac6bc1f",
   "metadata": {},
   "outputs": [
    {
     "name": "stdin",
     "output_type": "stream",
     "text": [
      "Enter the name of student 1:  biswajit\n",
      "Enter the name of student 2:  anshu\n",
      "Enter the name of student 3:  pravas \n",
      "Enter the name of student 4:  ram\n",
      "Enter the name of student 5:  pritiranjan\n",
      "Enter the name of student 6:  jaga\n",
      "Enter the name of student 7:  subham\n",
      "Enter the name of student 8:  subrat\n",
      "Enter the name of student 9:  binayak\n",
      "Enter the name of student 10:  udita \n"
     ]
    },
    {
     "name": "stdout",
     "output_type": "stream",
     "text": [
      "The names of the students are:\n",
      "biswajit\n",
      "anshu\n",
      "pravas \n",
      "ram\n",
      "pritiranjan\n",
      "jaga\n",
      "subham\n",
      "subrat\n",
      "binayak\n",
      "udita \n"
     ]
    }
   ],
   "source": [
    "def enter_student_names(num_students):\n",
    "    student_names = []\n",
    "    for i in range(num_students):\n",
    "        name = input(f\"Enter the name of student {i+1}: \")\n",
    "        student_names.append(name)\n",
    "    return student_names\n",
    "\n",
    "# Define the number of students\n",
    "num_students = 10\n",
    "\n",
    "# Call the function to enter student names\n",
    "students = enter_student_names(num_students)\n",
    "\n",
    "# Print the list of student names\n",
    "print(\"The names of the students are:\")\n",
    "for name in students:\n",
    "    print(name)\n"
   ]
  },
  {
   "cell_type": "code",
   "execution_count": 3,
   "id": "000d16de-1b37-4822-81e7-c63dad28b503",
   "metadata": {},
   "outputs": [
    {
     "name": "stdin",
     "output_type": "stream",
     "text": [
      "Enter the name of student 1:  a\n",
      "Enter the name of student 2:  s\n",
      "Enter the name of student 3:  d\n",
      "Enter the name of student 4:  f\n",
      "Enter the name of student 5:  g\n",
      "Enter the name of student 6:  \n",
      "Enter the name of student 7:  h\n",
      "Enter the name of student 8:  gf\n",
      "Enter the name of student 9:  f\n",
      "Enter the name of student 10:  f\n"
     ]
    },
    {
     "name": "stdout",
     "output_type": "stream",
     "text": [
      "The names of the students are:\n",
      "a\n",
      "s\n",
      "d\n",
      "f\n",
      "g\n",
      "\n",
      "h\n",
      "gf\n",
      "f\n",
      "f\n"
     ]
    }
   ],
   "source": [
    "def get_student_names():\n",
    "    student_names = []\n",
    "    for i in range(10):\n",
    "        name = input(f\"Enter the name of student {i+1}: \")\n",
    "        student_names.append(name)\n",
    "    return student_names\n",
    "\n",
    "# Call the function and store the names in a list\n",
    "students = get_student_names()\n",
    "\n",
    "# Print the list of student names\n",
    "print(\"The names of the students are:\")\n",
    "for name in students:\n",
    "    print(name)\n"
   ]
  },
  {
   "cell_type": "code",
   "execution_count": 4,
   "id": "a872cfb5-9081-4cc4-ac48-47b1246da8ac",
   "metadata": {},
   "outputs": [
    {
     "name": "stdin",
     "output_type": "stream",
     "text": [
      "Enter the principal amount:  2000\n",
      "Enter the annual interest rate (in %):  2\n",
      "Enter the number of times interest is compounded per year:  10\n",
      "Enter the number of years:  5\n"
     ]
    },
    {
     "name": "stdout",
     "output_type": "stream",
     "text": [
      "The total amount after interest is: 2210.12\n",
      "The compound interest earned is: 210.12\n"
     ]
    }
   ],
   "source": [
    "def calculate_compound_interest():\n",
    "    # Get user inputs\n",
    "    principal = float(input(\"Enter the principal amount: \"))\n",
    "    rate = float(input(\"Enter the annual interest rate (in %): \")) / 100\n",
    "    times_compounded = int(input(\"Enter the number of times interest is compounded per year: \"))\n",
    "    years = int(input(\"Enter the number of years: \"))\n",
    "    \n",
    "    # Calculate compound interest\n",
    "    amount = principal * (1 + rate / times_compounded) ** (times_compounded * years)\n",
    "    \n",
    "    # Calculate interest earned\n",
    "    interest = amount - principal\n",
    "    \n",
    "    return amount, interest\n",
    "\n",
    "# Call the function and get the results\n",
    "total_amount, interest_earned = calculate_compound_interest()\n",
    "\n",
    "# Print the results\n",
    "print(f\"The total amount after interest is: {total_amount:.2f}\")\n",
    "print(f\"The compound interest earned is: {interest_earned:.2f}\")\n"
   ]
  },
  {
   "cell_type": "markdown",
   "id": "6e127d96-914d-4e0b-b0bb-1d0f724a43c3",
   "metadata": {},
   "source": [
    "###  Check prime number\n",
    "###        find maximum number in a list\n",
    "###     tempreture conversion \n",
    "###     count vowel in a string\n",
    "        "
   ]
  },
  {
   "cell_type": "code",
   "execution_count": 6,
   "id": "9877072d-c240-4a9d-b70a-d6543202201e",
   "metadata": {},
   "outputs": [
    {
     "name": "stdin",
     "output_type": "stream",
     "text": [
      "Enter a number to check if it is prime:  21\n"
     ]
    },
    {
     "name": "stdout",
     "output_type": "stream",
     "text": [
      "21 is not a prime number.\n"
     ]
    }
   ],
   "source": [
    "\n",
    "# 1\n",
    "\n",
    "def is_prime(number):\n",
    "    if number <= 1:\n",
    "        return False\n",
    "    for i in range(2, int(number ** 0.5) + 1):\n",
    "        if number % i == 0:\n",
    "            return False\n",
    "    return True\n",
    "\n",
    "# Get user input\n",
    "num = int(input(\"Enter a number to check if it is prime: \"))\n",
    "\n",
    "# Check if the number is prime and print the result\n",
    "if is_prime(num):\n",
    "    print(f\"{num} is a prime number.\")\n",
    "else:\n",
    "    print(f\"{num} is not a prime number.\")\n"
   ]
  },
  {
   "cell_type": "code",
   "execution_count": 7,
   "id": "ac5cf1e6-d7d6-4184-a2de-0edb233a431f",
   "metadata": {},
   "outputs": [
    {
     "name": "stdin",
     "output_type": "stream",
     "text": [
      "Enter a string:  anshuman\n"
     ]
    },
    {
     "name": "stdout",
     "output_type": "stream",
     "text": [
      "The number of vowels in the string is: 3\n"
     ]
    }
   ],
   "source": [
    "# 2 \n",
    "\n",
    "def count_vowels(input_string):\n",
    "    vowels = 'aeiouAEIOU'\n",
    "    count = 0\n",
    "    for char in input_string:\n",
    "        if char in vowels:\n",
    "            count += 1\n",
    "    return count\n",
    "\n",
    "# Get user input\n",
    "user_input = input(\"Enter a string: \")\n",
    "\n",
    "# Count the number of vowels in the input string\n",
    "vowel_count = count_vowels(user_input)\n",
    "\n",
    "# Print the result\n",
    "print(f\"The number of vowels in the string is: {vowel_count}\")\n"
   ]
  },
  {
   "cell_type": "code",
   "execution_count": null,
   "id": "63acf4a8-cc10-46f7-ba6e-2f29146cf0b9",
   "metadata": {},
   "outputs": [],
   "source": []
  }
 ],
 "metadata": {
  "kernelspec": {
   "display_name": "Python 3 (ipykernel)",
   "language": "python",
   "name": "python3"
  },
  "language_info": {
   "codemirror_mode": {
    "name": "ipython",
    "version": 3
   },
   "file_extension": ".py",
   "mimetype": "text/x-python",
   "name": "python",
   "nbconvert_exporter": "python",
   "pygments_lexer": "ipython3",
   "version": "3.11.7"
  }
 },
 "nbformat": 4,
 "nbformat_minor": 5
}
