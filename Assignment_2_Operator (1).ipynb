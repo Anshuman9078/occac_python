{
  "cells": [
    {
      "cell_type": "markdown",
      "id": "697caf9e-6072-490e-8131-e14edf6dcdfe",
      "metadata": {
        "id": "697caf9e-6072-490e-8131-e14edf6dcdfe"
      },
      "source": [
        "### A . Assignment Questions on Operators\n",
        "\n",
        "1. **Arithmetic Operators**\n",
        "    - Write a program that takes two numbers from the user.\n",
        "    - Perform and print the results of addition, subtraction, multiplication, division, and modulus operations.\n",
        "\n",
        "2. **Relational Operators**\n",
        "    - Write a program that takes two numbers from the user.\n",
        "    - Use relational operators (`>`, `<`, `>=`, `<=`, `==`, `!=`) to compare these numbers and print the results.\n",
        "\n",
        "3. **Logical Operators**\n",
        "    - Write a program that takes two boolean values from the user.\n",
        "    - Perform and print the results of logical AND, logical OR, and logical NOT operations.\n",
        "\n",
        "4. **Assignment Operators**\n",
        "    - Write a program that initializes a variable `x` with the value `10`.\n",
        "    - Use assignment operators (`+=`, `-=`, `*=`, `/=`, `%=`, `**=`, `//=`) to modify `x` and print the results after each operation.\n",
        "\n",
        "5. **Bitwise Operators**\n",
        "    - Write a program that takes two integers from the user.\n",
        "    - Perform and print the results of bitwise AND, OR, XOR, NOT, left shift, and right shift operations.\n",
        "\n",
        "6. **Compound Expressions**\n",
        "    - Write a program that evaluates a compound expression involving multiple arithmetic and relational operators.\n",
        "    - Example: Calculate the value of `3 * (x + y) / 2 > z` where `x`, `y`, and `z` are inputs from the user.\n",
        "\n",
        "7. **Membership Operators**\n",
        "    - Write a program that takes a string and a character from the user.\n",
        "    - Use membership operators (`in`, `not in`) to check if the character is present in the string and print the result.\n",
        "\n",
        "8. **Identity Operators**\n",
        "    - Write a program that initializes two lists with the same values.\n",
        "    - Use identity operators (`is`, `is not`) to check if the lists are the same object and print the result.\n",
        "\n",
        "9. **Precedence and Associativity**\n",
        "    - Write a program that demonstrates the precedence and associativity of different operators.\n",
        "    - Example: Evaluate the expression `3 + 4 * 2 / (1 - 5) ** 2` and print the result.\n",
        "\n",
        "10. **Operator Overloading**\n",
        "    - Create a class `Vector` that represents a mathematical vector.\n",
        "    - Implement operator overloading for addition, subtraction, and multiplication (dot product) for `Vector` objects.\n",
        "    - Write a program to demonstrate the usage of these overloaded operators.\n",
        "\n"
      ]
    },
    {
      "cell_type": "markdown",
      "id": "c98161d7-a8cc-468c-a32f-89a9daf812e0",
      "metadata": {
        "id": "c98161d7-a8cc-468c-a32f-89a9daf812e0"
      },
      "source": [
        "### B . Assignment Questions on Python Operators\n",
        "\n",
        "1. **Basic Arithmetic Operations**\n",
        "    - Write a program that asks the user to enter two numbers.\n",
        "    - Perform addition, subtraction, multiplication, division, and modulus operations on these numbers.\n",
        "    - Print the results of each operation.\n",
        "\n",
        "2. **Comparison Operators**\n",
        "    - Write a program that takes two numbers from the user.\n",
        "    - Use comparison operators to determine and print whether the first number is greater than, less than, or equal to the second number.\n",
        "\n",
        "3. **Logical Operators**\n",
        "    - Write a program that takes two boolean values from the user.\n",
        "    - Perform logical AND, OR, and NOT operations on these values.\n",
        "    - Print the results of each operation.\n",
        "\n",
        "4. **Compound Assignment Operators**\n",
        "    - Assign the value `10` to a variable `x`.\n",
        "    - Use compound assignment operators (`+=`, `-=`, `*=`, `/=`, `%=`) to modify the value of `x` and print the result after each operation.\n",
        "\n",
        "5. **Bitwise Operators**\n",
        "    - Write a program that takes two integers from the user.\n",
        "    - Perform bitwise AND, OR, XOR, and NOT operations on these numbers.\n",
        "    - Print the results of each operation.\n",
        "\n",
        "6. **Exponentiation Operator**\n",
        "    - Write a program that asks the user to enter a base and an exponent.\n",
        "    - Calculate and print the result using the exponentiation operator (`**`).\n",
        "\n",
        "7. **Floor Division Operator**\n",
        "    - Write a program that asks the user to enter two numbers.\n",
        "    - Perform floor division on these numbers and print the result.\n",
        "\n",
        "8. **Operator Precedence**\n",
        "    - Write a program that evaluates the following expression and prints the result: \\( 3 + 5 \\times 2 - 8 / 4 \\).\n",
        "    - Explain the order in which the operations are performed.\n",
        "\n",
        "9. **Ternary Operator (Conditional Expression)**\n",
        "    - Write a program that asks the user to enter two numbers.\n",
        "    - Use a ternary operator to determine and print the larger of the two numbers.\n",
        "\n",
        "10. **Membership Operators**\n",
        "    - Write a program that asks the user to enter a character.\n",
        "    - Check if the character is a vowel (a, e, i, o, u) using the `in` operator and print an appropriate message."
      ]
    },
    {
      "cell_type": "code",
      "execution_count": null,
      "id": "db060d41-72af-4f25-9dbe-8fd1f77920b4",
      "metadata": {
        "id": "db060d41-72af-4f25-9dbe-8fd1f77920b4"
      },
      "outputs": [],
      "source": [
        "# 1"
      ]
    },
    {
      "cell_type": "code",
      "source": [
        "a= input(\"enter a integer\")\n",
        "b= input(\"enter an another integer\")"
      ],
      "metadata": {
        "colab": {
          "base_uri": "https://localhost:8080/"
        },
        "id": "1eZBticJGYdi",
        "outputId": "e311460f-3914-4eb4-b4f5-9f0840b9973e"
      },
      "id": "1eZBticJGYdi",
      "execution_count": null,
      "outputs": [
        {
          "name": "stdout",
          "output_type": "stream",
          "text": [
            "enter a integer20\n",
            "enter an another integer10\n"
          ]
        }
      ]
    },
    {
      "cell_type": "code",
      "source": [
        "a= 20\n",
        "b= 10\n",
        "\n",
        "print(a+b)\n",
        "\n",
        "print(a-b)\n",
        "print(a*b)\n",
        "print(a/b)\n",
        "print(a%b)"
      ],
      "metadata": {
        "colab": {
          "base_uri": "https://localhost:8080/"
        },
        "id": "-YbhpX_mGoVu",
        "outputId": "a6779833-bbe7-47a7-bd58-b780487b86f9"
      },
      "id": "-YbhpX_mGoVu",
      "execution_count": null,
      "outputs": [
        {
          "output_type": "stream",
          "name": "stdout",
          "text": [
            "30\n",
            "10\n",
            "200\n",
            "2.0\n",
            "0\n"
          ]
        }
      ]
    },
    {
      "cell_type": "code",
      "source": [
        "# 2"
      ],
      "metadata": {
        "id": "B7F6QTd3HnFQ"
      },
      "id": "B7F6QTd3HnFQ",
      "execution_count": null,
      "outputs": []
    },
    {
      "cell_type": "code",
      "source": [
        "a= input(\"enter a integer\")\n",
        "b= input(\"enter an another integer\")\n",
        "\n",
        "print(a>b)\n",
        "print(a<b)\n",
        "print(a>=b)\n",
        "print(a<=b)\n",
        "print(a==b)\n",
        "print(a!=b)"
      ],
      "metadata": {
        "colab": {
          "base_uri": "https://localhost:8080/"
        },
        "id": "FrZUbelxH-CB",
        "outputId": "1164c27b-82b0-47e8-c3c3-30f4500f0fae"
      },
      "id": "FrZUbelxH-CB",
      "execution_count": null,
      "outputs": [
        {
          "output_type": "stream",
          "name": "stdout",
          "text": [
            "enter a integer20\n",
            "enter an another integer10\n",
            "True\n",
            "False\n",
            "True\n",
            "False\n",
            "False\n",
            "True\n"
          ]
        }
      ]
    },
    {
      "cell_type": "code",
      "source": [
        "# 3"
      ],
      "metadata": {
        "id": "RwdvK4hOI7MT"
      },
      "id": "RwdvK4hOI7MT",
      "execution_count": null,
      "outputs": []
    },
    {
      "cell_type": "code",
      "source": [
        "a= int(input(\"enter the 1st boolean value \"))\n",
        "b= int(input(\"enter the second boolean value \"))\n",
        "\n",
        "print(\"a and b:\",a & b)\n",
        "print(\"a or b:\",a | b)"
      ],
      "metadata": {
        "colab": {
          "base_uri": "https://localhost:8080/"
        },
        "id": "qajdp7lWLZ74",
        "outputId": "422e293d-2166-4561-8fbb-7cf8965704d0"
      },
      "id": "qajdp7lWLZ74",
      "execution_count": 3,
      "outputs": [
        {
          "output_type": "stream",
          "name": "stdout",
          "text": [
            "enter the 1st boolean value 1\n",
            "enter the second boolean value 0\n",
            "a and b: 0\n",
            "a or b: 1\n"
          ]
        }
      ]
    },
    {
      "cell_type": "code",
      "source": [
        "# 4"
      ],
      "metadata": {
        "id": "A6LzFLNrMCgm"
      },
      "id": "A6LzFLNrMCgm",
      "execution_count": 4,
      "outputs": []
    },
    {
      "cell_type": "code",
      "source": [
        "x = 10\n",
        "x+=5\n",
        "print(\"x+=5:\",x)\n",
        "\n",
        "x-=5\n",
        "print(\"x-=5:\",x)\n",
        "\n",
        "x*=5\n",
        "print(\"x*=5:\",x)\n",
        "\n",
        "x/=5\n",
        "print(\"x/=5:\",x)"
      ],
      "metadata": {
        "id": "oulDY1ErMof5",
        "colab": {
          "base_uri": "https://localhost:8080/"
        },
        "outputId": "3caee542-8667-449c-fe90-104661ce78bf"
      },
      "id": "oulDY1ErMof5",
      "execution_count": 5,
      "outputs": [
        {
          "output_type": "stream",
          "name": "stdout",
          "text": [
            "x+=5: 15\n",
            "x-=5: 10\n",
            "x*=5: 50\n",
            "x/=5: 10.0\n"
          ]
        }
      ]
    },
    {
      "cell_type": "code",
      "source": [
        "# 5"
      ],
      "metadata": {
        "id": "179R0xz1lZpZ"
      },
      "id": "179R0xz1lZpZ",
      "execution_count": 6,
      "outputs": []
    },
    {
      "cell_type": "code",
      "source": [
        "m= int(input(\"enter the first value\"))\n",
        "n= int(input(\"enter the second value\"))\n",
        "\n",
        "print(\"M and N :\",m & n)\n",
        "print(\"M or N :\",m | n)\n",
        "print(\"M xor N :\",m ^ n)\n",
        "print(\" not N :\",~ n)\n",
        "print(\" and m  :\",~ m )"
      ],
      "metadata": {
        "colab": {
          "base_uri": "https://localhost:8080/"
        },
        "id": "qacxujmVlcQ2",
        "outputId": "37f968c5-410e-4d2e-e4b3-3b1fad7c2124"
      },
      "id": "qacxujmVlcQ2",
      "execution_count": 7,
      "outputs": [
        {
          "output_type": "stream",
          "name": "stdout",
          "text": [
            "enter the first value7\n",
            "enter the second value4\n",
            "M and N : 4\n",
            "M or N : 7\n",
            "M xor N : 3\n",
            " not N : -5\n",
            " and m  : -8\n"
          ]
        }
      ]
    },
    {
      "cell_type": "code",
      "source": [
        "# 6"
      ],
      "metadata": {
        "id": "f23vxsemmd_Y"
      },
      "id": "f23vxsemmd_Y",
      "execution_count": 8,
      "outputs": []
    },
    {
      "cell_type": "code",
      "source": [
        "base = int(input(\"enter your base value\"))\n",
        "exponent= int(input(\" enter ypur exponent value \"))\n",
        "result= print(\"result of using exponent operator\", base ** exponent)"
      ],
      "metadata": {
        "colab": {
          "base_uri": "https://localhost:8080/"
        },
        "id": "4jPfcYkEmhwh",
        "outputId": "82e00e8a-3223-4368-c5da-cfa5ad9c96ac"
      },
      "id": "4jPfcYkEmhwh",
      "execution_count": 9,
      "outputs": [
        {
          "output_type": "stream",
          "name": "stdout",
          "text": [
            "enter your base value9\n",
            " enter ypur exponent value 3\n",
            "result of using exponent operator 729\n"
          ]
        }
      ]
    },
    {
      "cell_type": "code",
      "source": [
        "# 7"
      ],
      "metadata": {
        "id": "SJFawv8lnVkN"
      },
      "id": "SJFawv8lnVkN",
      "execution_count": 10,
      "outputs": []
    },
    {
      "cell_type": "code",
      "source": [
        "fst = int(input(\"enter your fst value\"))\n",
        "sec= int(input(\" enter ypur sec value \"))\n",
        "result= print(\"result of using floor Division operator \", fst // sec)"
      ],
      "metadata": {
        "colab": {
          "base_uri": "https://localhost:8080/"
        },
        "id": "kt4APRIbnZR_",
        "outputId": "cfb0784d-af51-4426-b98b-cff044b8c07b"
      },
      "id": "kt4APRIbnZR_",
      "execution_count": 11,
      "outputs": [
        {
          "output_type": "stream",
          "name": "stdout",
          "text": [
            "enter your fst value24\n",
            " enter ypur sec value 5\n",
            "result of using floor Division operator  4\n"
          ]
        }
      ]
    },
    {
      "cell_type": "code",
      "source": [
        "# 8"
      ],
      "metadata": {
        "id": "XO4h-7lZnxdv"
      },
      "id": "XO4h-7lZnxdv",
      "execution_count": 12,
      "outputs": []
    },
    {
      "cell_type": "code",
      "source": [
        "A= 8+3+2*7-8/10+(5*3)-3/12+4%12\n",
        "print(\"the result of expression A is :\" , A)"
      ],
      "metadata": {
        "colab": {
          "base_uri": "https://localhost:8080/"
        },
        "id": "2ij1WtN1n1o4",
        "outputId": "a3f5568d-3422-4cc1-9ac5-911c7cf9f597"
      },
      "id": "2ij1WtN1n1o4",
      "execution_count": 13,
      "outputs": [
        {
          "output_type": "stream",
          "name": "stdout",
          "text": [
            "the result of expression A is : 42.95\n"
          ]
        }
      ]
    },
    {
      "cell_type": "code",
      "source": [
        "# 9"
      ],
      "metadata": {
        "id": "kcZFSx44oPBZ"
      },
      "id": "kcZFSx44oPBZ",
      "execution_count": 14,
      "outputs": []
    },
    {
      "cell_type": "code",
      "source": [
        "first = int(input(\"enter your first value\"))\n",
        "second = int(input(\" enter ypur second value \"))\n",
        "print(\"large no of two number :\", max(first,second))\n",
        "print(\"smallest no of two number\", min(first,second ))"
      ],
      "metadata": {
        "colab": {
          "base_uri": "https://localhost:8080/"
        },
        "id": "FmyIMl54oYZx",
        "outputId": "43ae7f8a-50db-4702-aec4-f5a41ec10ba3"
      },
      "id": "FmyIMl54oYZx",
      "execution_count": 15,
      "outputs": [
        {
          "output_type": "stream",
          "name": "stdout",
          "text": [
            "enter your first value20\n",
            " enter ypur second value 53\n",
            "large no of two number : 53\n",
            "smallest no of two number 20\n"
          ]
        }
      ]
    },
    {
      "cell_type": "code",
      "source": [
        "# 10"
      ],
      "metadata": {
        "id": "cQLTfRVCo4pt"
      },
      "id": "cQLTfRVCo4pt",
      "execution_count": 16,
      "outputs": []
    },
    {
      "cell_type": "code",
      "source": [
        "A = input(\"enter your charecter\")\n",
        "B = 'm' in A\n",
        "print (b)\n",
        "\n",
        "c = input(\"enter your vowel:\")\n",
        "D = 'a' in c\n",
        "print(D)"
      ],
      "metadata": {
        "colab": {
          "base_uri": "https://localhost:8080/"
        },
        "id": "cjwtC6UWo8P6",
        "outputId": "4fd8c770-8f40-44e9-b50b-dc0776680263"
      },
      "id": "cjwtC6UWo8P6",
      "execution_count": 17,
      "outputs": [
        {
          "output_type": "stream",
          "name": "stdout",
          "text": [
            "enter your charecteranshuman\n",
            "0\n",
            "enter your vowel:A,E,I,O,U\n",
            "False\n"
          ]
        }
      ]
    },
    {
      "cell_type": "code",
      "source": [],
      "metadata": {
        "id": "fSVb7ArqpglI"
      },
      "id": "fSVb7ArqpglI",
      "execution_count": null,
      "outputs": []
    }
  ],
  "metadata": {
    "kernelspec": {
      "display_name": "Python 3 (ipykernel)",
      "language": "python",
      "name": "python3"
    },
    "language_info": {
      "codemirror_mode": {
        "name": "ipython",
        "version": 3
      },
      "file_extension": ".py",
      "mimetype": "text/x-python",
      "name": "python",
      "nbconvert_exporter": "python",
      "pygments_lexer": "ipython3",
      "version": "3.11.7"
    },
    "colab": {
      "provenance": []
    }
  },
  "nbformat": 4,
  "nbformat_minor": 5
}