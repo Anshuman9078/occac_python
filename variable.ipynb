{
 "cells": [
  {
   "cell_type": "markdown",
   "id": "10e63ba6-beda-434b-97c8-e918783c83e4",
   "metadata": {},
   "source": [
    "## VARIABLE IN PYTHON "
   ]
  },
  {
   "cell_type": "markdown",
   "id": "397db775-d1e6-479c-b991-2cc33e55f72e",
   "metadata": {},
   "source": [
    "Variable means storing some values "
   ]
  },
  {
   "cell_type": "code",
   "execution_count": 3,
   "id": "fd65dcd2-52bb-44ae-b95c-e72349a67dff",
   "metadata": {},
   "outputs": [
    {
     "data": {
      "text/plain": [
       "' PYTHON '"
      ]
     },
     "execution_count": 3,
     "metadata": {},
     "output_type": "execute_result"
    }
   ],
   "source": [
    "c =' PYTHON '    # Declare a variable c \n",
    "c                   #  c is a variable stroing the value is  python  "
   ]
  },
  {
   "cell_type": "code",
   "execution_count": 4,
   "id": "199cbb08-0c44-42d5-830d-83c0e77cc3a8",
   "metadata": {},
   "outputs": [
    {
     "name": "stdout",
     "output_type": "stream",
     "text": [
      " anshu\n"
     ]
    }
   ],
   "source": [
    "b =' anshu'      # declare a variable c \n",
    "print (b)              #  output using print function "
   ]
  },
  {
   "cell_type": "code",
   "execution_count": null,
   "id": "8b7c3042-858f-416c-8a8a-98102a33a4c4",
   "metadata": {},
   "outputs": [],
   "source": []
  },
  {
   "cell_type": "markdown",
   "id": "24d6624f-10bb-435e-905e-b1123a0fe3e1",
   "metadata": {},
   "source": [
    "## SINGLE VARIABLE  "
   ]
  },
  {
   "cell_type": "markdown",
   "id": "65abcf39-5208-4410-b8c3-1a33f19cd2dc",
   "metadata": {},
   "source": [
    "It is assined by '=' operator "
   ]
  },
  {
   "cell_type": "markdown",
   "id": "5f6ce5b8-6648-4bb3-a817-ff0a20a6e5db",
   "metadata": {},
   "source": [
    "a = 10     # declared a variable 'a' who store the value 10\n",
    "a           #  store the value 10"
   ]
  },
  {
   "cell_type": "code",
   "execution_count": 9,
   "id": "c0262448-2dba-4831-a7b9-9e7e4b486862",
   "metadata": {},
   "outputs": [
    {
     "data": {
      "text/plain": [
       "int"
      ]
     },
     "execution_count": 9,
     "metadata": {},
     "output_type": "execute_result"
    }
   ],
   "source": [
    "type(a)       # declare 'a'  is which type of variable \n"
   ]
  },
  {
   "cell_type": "code",
   "execution_count": 11,
   "id": "96c58599-3d08-49c3-97e1-bcf1747e0d11",
   "metadata": {},
   "outputs": [
    {
     "ename": "NameError",
     "evalue": "name 'j' is not defined",
     "output_type": "error",
     "traceback": [
      "\u001b[1;31m---------------------------------------------------------------------------\u001b[0m",
      "\u001b[1;31mNameError\u001b[0m                                 Traceback (most recent call last)",
      "Cell \u001b[1;32mIn[11], line 1\u001b[0m\n\u001b[1;32m----> 1\u001b[0m \u001b[38;5;28mtype\u001b[39m (j)\n",
      "\u001b[1;31mNameError\u001b[0m: name 'j' is not defined"
     ]
    }
   ],
   "source": [
    "type (j)"
   ]
  },
  {
   "cell_type": "markdown",
   "id": "22f93f22-3366-4a9c-bc4a-e8aa4cacbe64",
   "metadata": {},
   "source": [
    "type(j)    # j becomes error beacause j is not defined "
   ]
  },
  {
   "cell_type": "code",
   "execution_count": 13,
   "id": "8a1a0a48-5b33-4a43-923e-073e70dc824e",
   "metadata": {},
   "outputs": [
    {
     "data": {
      "text/plain": [
       "'60'"
      ]
     },
     "execution_count": 13,
     "metadata": {},
     "output_type": "execute_result"
    }
   ],
   "source": [
    "z = \"60\"\n",
    "z "
   ]
  },
  {
   "cell_type": "code",
   "execution_count": 15,
   "id": "dd8b3ccf-97d8-4612-a304-1a52184cf8a9",
   "metadata": {},
   "outputs": [
    {
     "data": {
      "text/plain": [
       "str"
      ]
     },
     "execution_count": 15,
     "metadata": {},
     "output_type": "execute_result"
    }
   ],
   "source": [
    "type(z)       # Here tpye of z is  became string due to haing double coated comma ."
   ]
  },
  {
   "cell_type": "code",
   "execution_count": 16,
   "id": "4af730c1-8b3b-4e88-a052-32fb313fff6d",
   "metadata": {},
   "outputs": [
    {
     "name": "stdout",
     "output_type": "stream",
     "text": [
      "['False', 'None', 'True', 'and', 'as', 'assert', 'async', 'await', 'break', 'class', 'continue', 'def', 'del', 'elif', 'else', 'except', 'finally', 'for', 'from', 'global', 'if', 'import', 'in', 'is', 'lambda', 'nonlocal', 'not', 'or', 'pass', 'raise', 'return', 'try', 'while', 'with', 'yield']\n"
     ]
    }
   ],
   "source": [
    "import  keyword           # liabray \n",
    "keywords = keyword.kwlist    # declared  all the keywords \n",
    "print (keywords)                # print the keywords name "
   ]
  },
  {
   "cell_type": "code",
   "execution_count": 17,
   "id": "79e74d41-e180-4e28-ba64-db67d4880ac8",
   "metadata": {},
   "outputs": [
    {
     "data": {
      "text/plain": [
       "35"
      ]
     },
     "execution_count": 17,
     "metadata": {},
     "output_type": "execute_result"
    }
   ],
   "source": [
    "len(keyword.kwlist)     # length of keywords "
   ]
  },
  {
   "cell_type": "code",
   "execution_count": 19,
   "id": "169e1a55-d29e-47f0-a2f3-d86d3a5909ba",
   "metadata": {},
   "outputs": [
    {
     "ename": "SyntaxError",
     "evalue": "cannot assign to False (1243744398.py, line 1)",
     "output_type": "error",
     "traceback": [
      "\u001b[1;36m  Cell \u001b[1;32mIn[19], line 1\u001b[1;36m\u001b[0m\n\u001b[1;33m    False = \"9563\"\u001b[0m\n\u001b[1;37m    ^\u001b[0m\n\u001b[1;31mSyntaxError\u001b[0m\u001b[1;31m:\u001b[0m cannot assign to False\n"
     ]
    }
   ],
   "source": [
    "False = \"9563\"\n",
    "False"
   ]
  },
  {
   "cell_type": "code",
   "execution_count": 20,
   "id": "c981d695-e232-4b5c-bf79-47ada94ea84d",
   "metadata": {},
   "outputs": [
    {
     "data": {
      "text/plain": [
       "20"
      ]
     },
     "execution_count": 20,
     "metadata": {},
     "output_type": "execute_result"
    }
   ],
   "source": [
    "a1 = 20\n",
    "a1"
   ]
  },
  {
   "cell_type": "markdown",
   "id": "1122e79b-0ca0-48b2-a8c7-fa55e69c49fc",
   "metadata": {},
   "source": [
    "# variable connot start with any nummber "
   ]
  },
  {
   "cell_type": "code",
   "execution_count": 21,
   "id": "446d4d84-c1ac-4dc8-8c8c-085919757831",
   "metadata": {},
   "outputs": [
    {
     "ename": "SyntaxError",
     "evalue": "invalid decimal literal (1578404690.py, line 1)",
     "output_type": "error",
     "traceback": [
      "\u001b[1;36m  Cell \u001b[1;32mIn[21], line 1\u001b[1;36m\u001b[0m\n\u001b[1;33m    1b = 30           # variable connot start with any nummber\u001b[0m\n\u001b[1;37m    ^\u001b[0m\n\u001b[1;31mSyntaxError\u001b[0m\u001b[1;31m:\u001b[0m invalid decimal literal\n"
     ]
    }
   ],
   "source": [
    "1b = 30           # variable connot start with any nummber \n",
    "1b"
   ]
  },
  {
   "cell_type": "markdown",
   "id": "1ba6a343-b712-4877-aeba-d91d8eaa38eb",
   "metadata": {},
   "source": [
    "# variable connot contain any special charecter "
   ]
  },
  {
   "cell_type": "code",
   "execution_count": 31,
   "id": "23332e9c-c951-4cba-a140-2f8ad9f7b6b5",
   "metadata": {},
   "outputs": [
    {
     "ename": "SyntaxError",
     "evalue": "invalid syntax (2280904920.py, line 1)",
     "output_type": "error",
     "traceback": [
      "\u001b[1;36m  Cell \u001b[1;32mIn[31], line 1\u001b[1;36m\u001b[0m\n\u001b[1;33m    b$6 = 50          # variable connot contain any special charecter\u001b[0m\n\u001b[1;37m     ^\u001b[0m\n\u001b[1;31mSyntaxError\u001b[0m\u001b[1;31m:\u001b[0m invalid syntax\n"
     ]
    }
   ],
   "source": [
    "b$6 = 50          # variable connot contain any special charecter \n",
    "b$6"
   ]
  },
  {
   "cell_type": "markdown",
   "id": "45b149f5-47b4-4a51-961d-e631d8225093",
   "metadata": {},
   "source": [
    "# variable can containt only the underscore "
   ]
  },
  {
   "cell_type": "code",
   "execution_count": 24,
   "id": "52dffd0a-00bd-4e2a-aaee-1eea1f5d935d",
   "metadata": {},
   "outputs": [
    {
     "data": {
      "text/plain": [
       "504"
      ]
     },
     "execution_count": 24,
     "metadata": {},
     "output_type": "execute_result"
    }
   ],
   "source": [
    "b_6 = 504\n",
    "b_6"
   ]
  },
  {
   "cell_type": "markdown",
   "id": "ca5755e8-a204-4068-a505-fa1f4015f0ce",
   "metadata": {},
   "source": [
    "# storsge location"
   ]
  },
  {
   "cell_type": "code",
   "execution_count": 26,
   "id": "7561dff8-7542-4bea-8d2d-a0928ed8a3a9",
   "metadata": {},
   "outputs": [
    {
     "data": {
      "text/plain": [
       "1225928788528"
      ]
     },
     "execution_count": 26,
     "metadata": {},
     "output_type": "execute_result"
    }
   ],
   "source": [
    "\n",
    "id(b_6)"
   ]
  },
  {
   "cell_type": "code",
   "execution_count": 28,
   "id": "1c9ef8c9-a269-4aaa-88de-0efce7157ce3",
   "metadata": {},
   "outputs": [
    {
     "data": {
      "text/plain": [
       "140720351397320"
      ]
     },
     "execution_count": 28,
     "metadata": {},
     "output_type": "execute_result"
    }
   ],
   "source": [
    "v = 22\n",
    "v\n",
    "id(v)"
   ]
  },
  {
   "cell_type": "code",
   "execution_count": 29,
   "id": "08365764-6b49-4d47-b95a-77c6f17112bf",
   "metadata": {},
   "outputs": [
    {
     "data": {
      "text/plain": [
       "140720351398216"
      ]
     },
     "execution_count": 29,
     "metadata": {},
     "output_type": "execute_result"
    }
   ],
   "source": [
    "b =50\n",
    "c =80\n",
    "id(b)"
   ]
  },
  {
   "cell_type": "code",
   "execution_count": 30,
   "id": "188554a5-d80e-4db8-b63f-369e86604be8",
   "metadata": {},
   "outputs": [
    {
     "data": {
      "text/plain": [
       "140720351399176"
      ]
     },
     "execution_count": 30,
     "metadata": {},
     "output_type": "execute_result"
    }
   ],
   "source": [
    "id(c)"
   ]
  },
  {
   "cell_type": "markdown",
   "id": "497aa15a-46fd-4185-846d-8c83fca17d16",
   "metadata": {},
   "source": [
    "# summation in python "
   ]
  },
  {
   "cell_type": "code",
   "execution_count": 32,
   "id": "51f4c231-93ea-49c0-845d-2d2f46938d76",
   "metadata": {},
   "outputs": [
    {
     "name": "stdout",
     "output_type": "stream",
     "text": [
      "The summation of two numbers are  60\n"
     ]
    }
   ],
   "source": [
    "a = 50          # declare the vriable 'a'\n",
    "b = 10            # declare the vriable 'b'\n",
    "sum = a+b        # sum of two variables \n",
    "print(\"The summation of two numbers are \",sum)      # output using print function "
   ]
  },
  {
   "cell_type": "code",
   "execution_count": 34,
   "id": "699f5afd-ed62-4015-8288-3b567e770efd",
   "metadata": {},
   "outputs": [
    {
     "data": {
      "text/plain": [
       "66"
      ]
     },
     "execution_count": 34,
     "metadata": {},
     "output_type": "execute_result"
    }
   ],
   "source": [
    "a = b =c = 66\n",
    "c"
   ]
  },
  {
   "cell_type": "code",
   "execution_count": 35,
   "id": "a312f9fa-78c3-48ae-95a8-9dad3a00b756",
   "metadata": {},
   "outputs": [
    {
     "data": {
      "text/plain": [
       "66"
      ]
     },
     "execution_count": 35,
     "metadata": {},
     "output_type": "execute_result"
    }
   ],
   "source": [
    "b"
   ]
  },
  {
   "cell_type": "code",
   "execution_count": 36,
   "id": "3c881dfe-991d-4e63-a363-aff95d4734f3",
   "metadata": {},
   "outputs": [
    {
     "data": {
      "text/plain": [
       "66"
      ]
     },
     "execution_count": 36,
     "metadata": {},
     "output_type": "execute_result"
    }
   ],
   "source": [
    "a"
   ]
  },
  {
   "cell_type": "code",
   "execution_count": 37,
   "id": "4555ffe3-173c-4001-8ad4-6008751f473e",
   "metadata": {},
   "outputs": [
    {
     "name": "stdout",
     "output_type": "stream",
     "text": [
      "10 6 4\n"
     ]
    }
   ],
   "source": [
    "a= 10\n",
    "b = 6\n",
    "c = 4\n",
    "abc = 87\n",
    "print(a,b,c)"
   ]
  },
  {
   "cell_type": "code",
   "execution_count": 38,
   "id": "572f8be6-27ca-4c87-953a-37572f8a43c5",
   "metadata": {},
   "outputs": [
    {
     "name": "stdout",
     "output_type": "stream",
     "text": [
      "87\n"
     ]
    }
   ],
   "source": [
    "print(abc)"
   ]
  },
  {
   "cell_type": "markdown",
   "id": "16a33892-5790-4bc5-9dfc-17050edf34be",
   "metadata": {},
   "source": [
    "# deletion of variables "
   ]
  },
  {
   "cell_type": "code",
   "execution_count": 39,
   "id": "c3418fc7-7bd7-40fe-92aa-dcd64c03b822",
   "metadata": {},
   "outputs": [
    {
     "name": "stdout",
     "output_type": "stream",
     "text": [
      "64\n"
     ]
    }
   ],
   "source": [
    "a = 64\n",
    "print(a)"
   ]
  },
  {
   "cell_type": "code",
   "execution_count": 41,
   "id": "088afee3-0445-4c0c-b6fa-1f667f5b5570",
   "metadata": {},
   "outputs": [],
   "source": [
    "del(a)"
   ]
  },
  {
   "cell_type": "code",
   "execution_count": 43,
   "id": "07ceafb2-2f74-458e-9691-d2381f541a9d",
   "metadata": {},
   "outputs": [
    {
     "ename": "NameError",
     "evalue": "name 'a' is not defined",
     "output_type": "error",
     "traceback": [
      "\u001b[1;31m---------------------------------------------------------------------------\u001b[0m",
      "\u001b[1;31mNameError\u001b[0m                                 Traceback (most recent call last)",
      "Cell \u001b[1;32mIn[43], line 1\u001b[0m\n\u001b[1;32m----> 1\u001b[0m a\n",
      "\u001b[1;31mNameError\u001b[0m: name 'a' is not defined"
     ]
    }
   ],
   "source": [
    "a            #  value of 'a' is allready deleted "
   ]
  },
  {
   "cell_type": "code",
   "execution_count": 44,
   "id": "893fe9cb-43c2-4aea-a570-daa943ee86ef",
   "metadata": {},
   "outputs": [],
   "source": [
    "a=1\n",
    "b=2\n",
    "c=5\n",
    "del a,b"
   ]
  },
  {
   "cell_type": "code",
   "execution_count": 45,
   "id": "22d84902-e0f6-48ef-a535-e0e296346e17",
   "metadata": {},
   "outputs": [
    {
     "data": {
      "text/plain": [
       "5"
      ]
     },
     "execution_count": 45,
     "metadata": {},
     "output_type": "execute_result"
    }
   ],
   "source": [
    "c"
   ]
  },
  {
   "cell_type": "code",
   "execution_count": 46,
   "id": "6ad188cc-b2be-449a-8133-c384d04f5695",
   "metadata": {},
   "outputs": [
    {
     "ename": "NameError",
     "evalue": "name 'a' is not defined",
     "output_type": "error",
     "traceback": [
      "\u001b[1;31m---------------------------------------------------------------------------\u001b[0m",
      "\u001b[1;31mNameError\u001b[0m                                 Traceback (most recent call last)",
      "Cell \u001b[1;32mIn[46], line 1\u001b[0m\n\u001b[1;32m----> 1\u001b[0m a\n\u001b[0;32m      2\u001b[0m b\n",
      "\u001b[1;31mNameError\u001b[0m: name 'a' is not defined"
     ]
    }
   ],
   "source": [
    "a\n",
    "b           # 'a' &  'b' is alteady deleted "
   ]
  },
  {
   "cell_type": "markdown",
   "id": "1ff0bdcf-a7ec-46fa-852d-4b7813487e84",
   "metadata": {},
   "source": [
    "# multiple variables assiignments "
   ]
  },
  {
   "cell_type": "code",
   "execution_count": 47,
   "id": "1d284519-1572-4828-880d-6ab7c63afcaf",
   "metadata": {},
   "outputs": [
    {
     "name": "stdout",
     "output_type": "stream",
     "text": [
      "1 2 3\n"
     ]
    }
   ],
   "source": [
    "a=1\n",
    "b=2\n",
    "c=3\n",
    "print(a,b,c)"
   ]
  },
  {
   "cell_type": "code",
   "execution_count": 48,
   "id": "479bc72d-3e5a-488b-9030-66dca7f73160",
   "metadata": {},
   "outputs": [
    {
     "name": "stdout",
     "output_type": "stream",
     "text": [
      "1 2 3\n"
     ]
    }
   ],
   "source": [
    "a,b,c = 1,2,3\n",
    "print(a,b,c)"
   ]
  },
  {
   "cell_type": "code",
   "execution_count": 49,
   "id": "98407acf-ad20-4da5-a92d-bcdaaa7efe59",
   "metadata": {},
   "outputs": [
    {
     "name": "stdout",
     "output_type": "stream",
     "text": [
      "Anshu\n"
     ]
    }
   ],
   "source": [
    "a = b = c = \"Anshu\"\n",
    "print(c)"
   ]
  },
  {
   "cell_type": "markdown",
   "id": "9abeb4b4-8084-42ae-bd98-0da75aaf9e90",
   "metadata": {},
   "source": [
    "# user input in python"
   ]
  },
  {
   "cell_type": "raw",
   "id": "7c53c9b6-fd5e-4ff8-a132-29a1e7f22e57",
   "metadata": {},
   "source": [
    "for user input we can use the 'input() ' function nput  ."
   ]
  },
  {
   "cell_type": "code",
   "execution_count": 50,
   "id": "09962f96-afae-42b6-9d3f-86ea59661b15",
   "metadata": {},
   "outputs": [
    {
     "name": "stdin",
     "output_type": "stream",
     "text": [
      "enter your company name ocac\n"
     ]
    },
    {
     "name": "stdout",
     "output_type": "stream",
     "text": [
      "my organisation name is - ocac\n"
     ]
    }
   ],
   "source": [
    "b = input(\"enter your company name\")\n",
    "print(\"my organisation name is -\" ,b)"
   ]
  },
  {
   "cell_type": "code",
   "execution_count": 51,
   "id": "51bd4821-f989-42a6-9ef9-c52e7395a16b",
   "metadata": {},
   "outputs": [
    {
     "name": "stdin",
     "output_type": "stream",
     "text": [
      "enter your mobile no  907856632\n"
     ]
    },
    {
     "name": "stdout",
     "output_type": "stream",
     "text": [
      "my mobile no is  907856632\n"
     ]
    }
   ],
   "source": [
    "z =input(\"enter your mobile no \")\n",
    "\n",
    "print('my mobile no is ',z)"
   ]
  },
  {
   "cell_type": "code",
   "execution_count": 52,
   "id": "3f24a8de-f33a-4a82-82f4-19310a4ed9d7",
   "metadata": {},
   "outputs": [
    {
     "name": "stdout",
     "output_type": "stream",
     "text": [
      "i am form ocac my mobile no is  907856632\n"
     ]
    }
   ],
   "source": [
    "print(\"i am form\",b,\"my mobile no is \" ,z)"
   ]
  },
  {
   "cell_type": "markdown",
   "id": "25680149-7f0c-4965-9eca-4418eb859809",
   "metadata": {},
   "source": [
    "# \" .format in python \" "
   ]
  },
  {
   "cell_type": "code",
   "execution_count": 55,
   "id": "9dd7cf59-dc29-4399-b2ce-a5c559dfe269",
   "metadata": {},
   "outputs": [
    {
     "name": "stdout",
     "output_type": "stream",
     "text": [
      "i am formocac & my mobile no is 907856632\n"
     ]
    }
   ],
   "source": [
    "print(\"i am form{} & my mobile no is {}\" .format(b, z))"
   ]
  },
  {
   "cell_type": "code",
   "execution_count": 57,
   "id": "a9507c77-6184-472b-a1d4-2b24c6f81da0",
   "metadata": {},
   "outputs": [
    {
     "name": "stdout",
     "output_type": "stream",
     "text": [
      "the story of mango,banana and apple\n"
     ]
    }
   ],
   "source": [
    "print('the story of {},{} and {other}'.format('mango','banana',other='apple'))"
   ]
  },
  {
   "cell_type": "markdown",
   "id": "e86919e0-72a9-4405-9112-5ae7d5432091",
   "metadata": {},
   "source": [
    "* which variable is declared infornt of the print function , that variable must be stay in last in '.format ' function\n",
    "*  values of \" .format \"  are must be same or greater than the  blank variable\n"
   ]
  },
  {
   "cell_type": "code",
   "execution_count": null,
   "id": "09fcee20-7b23-48c6-a8cd-47e031689587",
   "metadata": {},
   "outputs": [],
   "source": []
  },
  {
   "cell_type": "code",
   "execution_count": 58,
   "id": "642a8e6c-aad6-4715-9867-6479a349e835",
   "metadata": {},
   "outputs": [
    {
     "ename": "SyntaxError",
     "evalue": "positional argument follows keyword argument (2270342621.py, line 1)",
     "output_type": "error",
     "traceback": [
      "\u001b[1;36m  Cell \u001b[1;32mIn[58], line 1\u001b[1;36m\u001b[0m\n\u001b[1;33m    print('the story of {},{} and {other}'.format(other='apple','mango','banana'))\u001b[0m\n\u001b[1;37m                                                                                ^\u001b[0m\n\u001b[1;31mSyntaxError\u001b[0m\u001b[1;31m:\u001b[0m positional argument follows keyword argument\n"
     ]
    }
   ],
   "source": [
    "print('the story of {},{} and {other}'.format(other='apple','mango','banana'))"
   ]
  },
  {
   "cell_type": "markdown",
   "id": "5ce2cfab-5909-4d3c-b7b4-b77dc36c73eb",
   "metadata": {},
   "source": [
    "# output in python "
   ]
  },
  {
   "cell_type": "markdown",
   "id": "6f73fe87-41cc-4cd0-b561-21e39afc6a57",
   "metadata": {},
   "source": [
    "* there are various way of  printing outpput "
   ]
  },
  {
   "cell_type": "code",
   "execution_count": 62,
   "id": "ec970b51-ca4d-49ad-ad06-7f0d5020eabf",
   "metadata": {},
   "outputs": [
    {
     "name": "stdout",
     "output_type": "stream",
     "text": [
      "55\n"
     ]
    }
   ],
   "source": [
    "print(55)"
   ]
  },
  {
   "cell_type": "code",
   "execution_count": 63,
   "id": "1e387bfb-a1f6-499d-bdee-23842031e504",
   "metadata": {},
   "outputs": [
    {
     "name": "stdout",
     "output_type": "stream",
     "text": [
      "anshuman\n"
     ]
    }
   ],
   "source": [
    "print(\"anshuman\")"
   ]
  },
  {
   "cell_type": "code",
   "execution_count": 64,
   "id": "e6e4ff80-3063-4d65-9eb1-283e4d97cfb1",
   "metadata": {},
   "outputs": [
    {
     "name": "stdout",
     "output_type": "stream",
     "text": [
      "50\n"
     ]
    }
   ],
   "source": [
    "a= 50\n",
    "print(a)"
   ]
  },
  {
   "cell_type": "code",
   "execution_count": 65,
   "id": "f1cccdb9-647c-4066-a0ee-82df09ce0416",
   "metadata": {},
   "outputs": [
    {
     "name": "stdout",
     "output_type": "stream",
     "text": [
      "10\n"
     ]
    }
   ],
   "source": [
    "anshu = 10\n",
    "print(anshu)"
   ]
  },
  {
   "cell_type": "code",
   "execution_count": 66,
   "id": "45f312f4-5631-4595-ab70-a177464557b3",
   "metadata": {},
   "outputs": [
    {
     "name": "stdout",
     "output_type": "stream",
     "text": [
      "50\n"
     ]
    },
    {
     "data": {
      "text/plain": [
       "int"
      ]
     },
     "execution_count": 66,
     "metadata": {},
     "output_type": "execute_result"
    }
   ],
   "source": [
    "print(a)\n",
    "type(a)"
   ]
  },
  {
   "cell_type": "markdown",
   "id": "5e3cbe01-22c6-4e1a-8f21-c25352768f17",
   "metadata": {},
   "source": [
    "*  separate function between thw values of variables "
   ]
  },
  {
   "cell_type": "code",
   "execution_count": 67,
   "id": "96657cf6-6e86-49dd-852d-977fff2f93ba",
   "metadata": {},
   "outputs": [
    {
     "name": "stdout",
     "output_type": "stream",
     "text": [
      "10:5:6:9\n"
     ]
    }
   ],
   "source": [
    "a=10\n",
    "b=5\n",
    "c=6\n",
    "d=9\n",
    "print(a,b,c,d,sep=\":\")"
   ]
  },
  {
   "cell_type": "code",
   "execution_count": 3,
   "id": "eaf015a1-2ff1-45c5-9d37-c7c166adecad",
   "metadata": {},
   "outputs": [
    {
     "name": "stdout",
     "output_type": "stream",
     "text": [
      "my number is 22 and my name is anshu\n",
      "my number is 22 and my name is anshu\n",
      "my number is 22 and my name is number  anshu\n"
     ]
    }
   ],
   "source": [
    "num = 22\n",
    "name = \"anshu\"\n",
    "print('my number is {one} and my name is {two}'.format(one = num , two=name))\n",
    "print('my number is {} and my name is {}'.format(num ,name))\n",
    "print('my number is', num ,'and my name is number ',name )"
   ]
  },
  {
   "cell_type": "code",
   "execution_count": 6,
   "id": "a3968e34-4ab6-4cb5-993d-33f356550a6a",
   "metadata": {},
   "outputs": [
    {
     "name": "stdin",
     "output_type": "stream",
     "text": [
      "what is your name anshu\n"
     ]
    },
    {
     "name": "stdout",
     "output_type": "stream",
     "text": [
      "how are you anshu?\n"
     ]
    }
   ],
   "source": [
    "name = input(\"what is your name\")\n",
    "print(\"how are you \" + name + \"?\")"
   ]
  },
  {
   "cell_type": "code",
   "execution_count": 12,
   "id": "7f108619-02b7-45f7-b95a-f5dab2ce8b52",
   "metadata": {},
   "outputs": [
    {
     "name": "stdin",
     "output_type": "stream",
     "text": [
      "enter your age 25\n"
     ]
    }
   ],
   "source": [
    "z=int(input(\"enter your age\"))"
   ]
  },
  {
   "cell_type": "code",
   "execution_count": 10,
   "id": "fdd7f1de-da1d-4f2c-a573-6fb21bcf38d2",
   "metadata": {},
   "outputs": [
    {
     "name": "stdin",
     "output_type": "stream",
     "text": [
      "enter your age 22.1\n"
     ]
    }
   ],
   "source": [
    "z=float(input(\"enter your age\"))"
   ]
  },
  {
   "cell_type": "markdown",
   "id": "b9bc2646-78a6-4769-9e05-48e38cd5ea97",
   "metadata": {},
   "source": [
    "*  ' .split () ' is used to multiple input in single array "
   ]
  },
  {
   "cell_type": "code",
   "execution_count": 15,
   "id": "1eddee0d-d815-454d-9711-e1e6ef1feebf",
   "metadata": {},
   "outputs": [
    {
     "name": "stdin",
     "output_type": "stream",
     "text": [
      " enter your name   anshu sipun\n"
     ]
    },
    {
     "name": "stdout",
     "output_type": "stream",
     "text": [
      "anshu\n",
      "sipun\n"
     ]
    }
   ],
   "source": [
    "x,y = input(\" enter your name  \").split(\" \")\n",
    "print(x)\n",
    "print(y)"
   ]
  },
  {
   "cell_type": "code",
   "execution_count": null,
   "id": "02263162-ae19-46f0-a0ed-8539fee69478",
   "metadata": {},
   "outputs": [],
   "source": []
  }
 ],
 "metadata": {
  "kernelspec": {
   "display_name": "Python 3 (ipykernel)",
   "language": "python",
   "name": "python3"
  },
  "language_info": {
   "codemirror_mode": {
    "name": "ipython",
    "version": 3
   },
   "file_extension": ".py",
   "mimetype": "text/x-python",
   "name": "python",
   "nbconvert_exporter": "python",
   "pygments_lexer": "ipython3",
   "version": "3.11.7"
  }
 },
 "nbformat": 4,
 "nbformat_minor": 5
}
