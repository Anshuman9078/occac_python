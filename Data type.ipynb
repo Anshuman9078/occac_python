{
 "cells": [
  {
   "cell_type": "markdown",
   "id": "ab7555e7-fa43-49a5-a442-97e4cd9cf6d0",
   "metadata": {},
   "source": [
    "# int"
   ]
  },
  {
   "cell_type": "markdown",
   "id": "1973ecb3-1503-42e8-9539-0ece38fa6bdb",
   "metadata": {},
   "source": [
    "a=20"
   ]
  },
  {
   "cell_type": "code",
   "execution_count": 2,
   "id": "df1c92bf-7fdd-4e5e-9975-78ff6ecadd4d",
   "metadata": {},
   "outputs": [
    {
     "data": {
      "text/plain": [
       "int"
      ]
     },
     "execution_count": 2,
     "metadata": {},
     "output_type": "execute_result"
    }
   ],
   "source": [
    "type(a)"
   ]
  },
  {
   "cell_type": "markdown",
   "id": "5a4d57da-07a7-4614-bd68-40ea3e9c2c10",
   "metadata": {},
   "source": [
    "# float"
   ]
  },
  {
   "cell_type": "code",
   "execution_count": 4,
   "id": "93f8746d-f8e8-453b-b1f9-17aa0e6def50",
   "metadata": {},
   "outputs": [],
   "source": [
    "b=20.0"
   ]
  },
  {
   "cell_type": "code",
   "execution_count": 5,
   "id": "7a0a0f33-8149-43b8-b5e8-eb76356a7ad9",
   "metadata": {},
   "outputs": [
    {
     "data": {
      "text/plain": [
       "float"
      ]
     },
     "execution_count": 5,
     "metadata": {},
     "output_type": "execute_result"
    }
   ],
   "source": [
    "type(a)"
   ]
  },
  {
   "cell_type": "code",
   "execution_count": 6,
   "id": "6cd640fe-a27e-4170-9304-7fc905831883",
   "metadata": {},
   "outputs": [
    {
     "name": "stdout",
     "output_type": "stream",
     "text": [
      "<class 'int'>\n",
      "<class 'float'>\n"
     ]
    }
   ],
   "source": [
    "a=5\n",
    "print(type(a))\n",
    "b=5.0\n",
    "print(type(b))"
   ]
  },
  {
   "cell_type": "code",
   "execution_count": 7,
   "id": "d0fa1510-d753-489f-af39-6d63fcd578a9",
   "metadata": {},
   "outputs": [
    {
     "data": {
      "text/plain": [
       "11.0"
      ]
     },
     "execution_count": 7,
     "metadata": {},
     "output_type": "execute_result"
    }
   ],
   "source": [
    "a=5\n",
    "b=6.0\n",
    "a+b"
   ]
  },
  {
   "cell_type": "markdown",
   "id": "fad70597-dc78-48ab-8e49-aefa96efccaa",
   "metadata": {},
   "source": [
    "# Type   Casting"
   ]
  },
  {
   "cell_type": "code",
   "execution_count": 9,
   "id": "47ef412a-515c-49b6-b5cb-9d790fc80c83",
   "metadata": {},
   "outputs": [
    {
     "data": {
      "text/plain": [
       "40"
      ]
     },
     "execution_count": 9,
     "metadata": {},
     "output_type": "execute_result"
    }
   ],
   "source": [
    "b=40.6\n",
    "int(b)"
   ]
  },
  {
   "cell_type": "code",
   "execution_count": 10,
   "id": "55a12815-7dba-451c-94f9-3e132a20d694",
   "metadata": {},
   "outputs": [
    {
     "data": {
      "text/plain": [
       "20"
      ]
     },
     "execution_count": 10,
     "metadata": {},
     "output_type": "execute_result"
    }
   ],
   "source": [
    "int (20.5698)"
   ]
  },
  {
   "cell_type": "markdown",
   "id": "7681424d-68d9-428c-9b67-e5477aee33a1",
   "metadata": {},
   "source": [
    "# Boolean"
   ]
  },
  {
   "cell_type": "code",
   "execution_count": 12,
   "id": "bc63cf30-2b94-4639-b86c-0f5379641dfe",
   "metadata": {},
   "outputs": [
    {
     "data": {
      "text/plain": [
       "bool"
      ]
     },
     "execution_count": 12,
     "metadata": {},
     "output_type": "execute_result"
    }
   ],
   "source": [
    "b1= True\n",
    "type(b1)"
   ]
  },
  {
   "cell_type": "code",
   "execution_count": 13,
   "id": "99e8cdb5-cd0b-4d13-ab22-8475bc5c4fcc",
   "metadata": {},
   "outputs": [
    {
     "data": {
      "text/plain": [
       "bool"
      ]
     },
     "execution_count": 13,
     "metadata": {},
     "output_type": "execute_result"
    }
   ],
   "source": [
    "type(True)"
   ]
  },
  {
   "cell_type": "code",
   "execution_count": 14,
   "id": "9a74b2ee-8135-4d04-a466-5181c2589ef4",
   "metadata": {},
   "outputs": [
    {
     "data": {
      "text/plain": [
       "bool"
      ]
     },
     "execution_count": 14,
     "metadata": {},
     "output_type": "execute_result"
    }
   ],
   "source": [
    "type(False)"
   ]
  },
  {
   "cell_type": "code",
   "execution_count": 15,
   "id": "a1bed85a-fc2c-414d-988a-3c016d45c9d0",
   "metadata": {},
   "outputs": [
    {
     "data": {
      "text/plain": [
       "1"
      ]
     },
     "execution_count": 15,
     "metadata": {},
     "output_type": "execute_result"
    }
   ],
   "source": [
    "int(True)"
   ]
  },
  {
   "cell_type": "code",
   "execution_count": 16,
   "id": "47bc9c59-a199-4cd9-a33b-a10f9945282f",
   "metadata": {},
   "outputs": [
    {
     "data": {
      "text/plain": [
       "0"
      ]
     },
     "execution_count": 16,
     "metadata": {},
     "output_type": "execute_result"
    }
   ],
   "source": [
    "int(False)"
   ]
  },
  {
   "cell_type": "code",
   "execution_count": 17,
   "id": "c7b83202-adfa-48b4-97ec-576344264f1d",
   "metadata": {},
   "outputs": [
    {
     "data": {
      "text/plain": [
       "2"
      ]
     },
     "execution_count": 17,
     "metadata": {},
     "output_type": "execute_result"
    }
   ],
   "source": [
    "True + True "
   ]
  },
  {
   "cell_type": "code",
   "execution_count": 18,
   "id": "14763a0c-7f35-428c-be5a-df7c4dcc705d",
   "metadata": {},
   "outputs": [
    {
     "data": {
      "text/plain": [
       "5.3"
      ]
     },
     "execution_count": 18,
     "metadata": {},
     "output_type": "execute_result"
    }
   ],
   "source": [
    "b =5.3\n",
    "c= False\n",
    "b+c"
   ]
  },
  {
   "cell_type": "code",
   "execution_count": 19,
   "id": "4534f5f5-8ed5-4ba3-94a1-462dd561b25c",
   "metadata": {},
   "outputs": [
    {
     "data": {
      "text/plain": [
       "6.3"
      ]
     },
     "execution_count": 19,
     "metadata": {},
     "output_type": "execute_result"
    }
   ],
   "source": [
    "b =5.3\n",
    "c= True\n",
    "b+c"
   ]
  },
  {
   "cell_type": "markdown",
   "id": "48cc4d0a-199f-42bd-aeff-686d316f0eb4",
   "metadata": {},
   "source": [
    "# Complex"
   ]
  },
  {
   "cell_type": "code",
   "execution_count": 20,
   "id": "f63ea9e1-498d-4b7e-865e-173f430be7b6",
   "metadata": {},
   "outputs": [],
   "source": [
    "x= 20+10j"
   ]
  },
  {
   "cell_type": "code",
   "execution_count": 21,
   "id": "136bddd0-fbdb-42f1-9636-77b2b5432eb1",
   "metadata": {},
   "outputs": [
    {
     "data": {
      "text/plain": [
       "complex"
      ]
     },
     "execution_count": 21,
     "metadata": {},
     "output_type": "execute_result"
    }
   ],
   "source": [
    "type(x)"
   ]
  },
  {
   "cell_type": "code",
   "execution_count": 22,
   "id": "0c0d178e-1068-41f2-9a8f-0c1948d37b7e",
   "metadata": {},
   "outputs": [
    {
     "data": {
      "text/plain": [
       "20.0"
      ]
     },
     "execution_count": 22,
     "metadata": {},
     "output_type": "execute_result"
    }
   ],
   "source": [
    "x.real"
   ]
  },
  {
   "cell_type": "code",
   "execution_count": 24,
   "id": "4894b020-576a-4093-a69a-1a3a401bfe54",
   "metadata": {},
   "outputs": [
    {
     "data": {
      "text/plain": [
       "10.0"
      ]
     },
     "execution_count": 24,
     "metadata": {},
     "output_type": "execute_result"
    }
   ],
   "source": [
    "x.imag"
   ]
  },
  {
   "cell_type": "code",
   "execution_count": 25,
   "id": "e2cae798-2b33-476e-863d-babc7e83b83b",
   "metadata": {},
   "outputs": [
    {
     "data": {
      "text/plain": [
       "10"
      ]
     },
     "execution_count": 25,
     "metadata": {},
     "output_type": "execute_result"
    }
   ],
   "source": [
    "int(x.imag)"
   ]
  },
  {
   "cell_type": "code",
   "execution_count": 28,
   "id": "dd5ada56-a436-43c4-b7e1-cf0b74e23aab",
   "metadata": {},
   "outputs": [
    {
     "name": "stdout",
     "output_type": "stream",
     "text": [
      "1.0 -2.0\n"
     ]
    }
   ],
   "source": [
    "y=1.0 - 2.0j\n",
    "print(y.real , y.imag)"
   ]
  },
  {
   "cell_type": "markdown",
   "id": "0fe9c65b-e678-4553-8755-b8c38f6a50bf",
   "metadata": {},
   "source": [
    "# String"
   ]
  },
  {
   "cell_type": "code",
   "execution_count": 29,
   "id": "aa608805-cdfa-4e58-b6fa-634dff944784",
   "metadata": {},
   "outputs": [
    {
     "name": "stdout",
     "output_type": "stream",
     "text": [
      "anshu\n",
      "anshu\n",
      "anshu\n"
     ]
    }
   ],
   "source": [
    "mystring1 = 'anshu'\n",
    "print(mystring1)\n",
    "mystring2 = 'anshu'\n",
    "print(mystring2)\n",
    "mystring3 = 'anshu'\n",
    "print(mystring3)"
   ]
  },
  {
   "cell_type": "code",
   "execution_count": 30,
   "id": "1abff97b-0a90-4de1-92fb-aa36ba694d07",
   "metadata": {},
   "outputs": [
    {
     "data": {
      "text/plain": [
       "str"
      ]
     },
     "execution_count": 30,
     "metadata": {},
     "output_type": "execute_result"
    }
   ],
   "source": [
    "a = 'sidhartha'\n",
    "type(a)"
   ]
  },
  {
   "cell_type": "code",
   "execution_count": 31,
   "id": "b89e9a15-ec96-4063-8731-8ce2a9b90424",
   "metadata": {},
   "outputs": [
    {
     "ename": "ValueError",
     "evalue": "invalid literal for int() with base 10: 'sidhartha'",
     "output_type": "error",
     "traceback": [
      "\u001b[1;31m---------------------------------------------------------------------------\u001b[0m",
      "\u001b[1;31mValueError\u001b[0m                                Traceback (most recent call last)",
      "Cell \u001b[1;32mIn[31], line 1\u001b[0m\n\u001b[1;32m----> 1\u001b[0m \u001b[38;5;28mint\u001b[39m(a)\n",
      "\u001b[1;31mValueError\u001b[0m: invalid literal for int() with base 10: 'sidhartha'"
     ]
    }
   ],
   "source": [
    "int(a)"
   ]
  },
  {
   "cell_type": "code",
   "execution_count": 33,
   "id": "b12e3bda-46ec-4671-a48a-aa36da751a7f",
   "metadata": {},
   "outputs": [
    {
     "data": {
      "text/plain": [
       "str"
      ]
     },
     "execution_count": 33,
     "metadata": {},
     "output_type": "execute_result"
    }
   ],
   "source": [
    "type('sidhartha')"
   ]
  },
  {
   "cell_type": "code",
   "execution_count": 34,
   "id": "8dd6b3f6-f5ef-4e13-9a7a-96654471d866",
   "metadata": {},
   "outputs": [
    {
     "data": {
      "text/plain": [
       "str"
      ]
     },
     "execution_count": 34,
     "metadata": {},
     "output_type": "execute_result"
    }
   ],
   "source": [
    "var= \"25896\"\n",
    "type(var)"
   ]
  },
  {
   "cell_type": "code",
   "execution_count": 35,
   "id": "5ddbd783-b7f8-4a9b-8ad4-5171993d0bf7",
   "metadata": {},
   "outputs": [
    {
     "data": {
      "text/plain": [
       "25896"
      ]
     },
     "execution_count": 35,
     "metadata": {},
     "output_type": "execute_result"
    }
   ],
   "source": [
    "z=int(var)\n",
    "z"
   ]
  },
  {
   "cell_type": "code",
   "execution_count": 36,
   "id": "448cfeeb-1460-4f06-8b87-b801532973c2",
   "metadata": {},
   "outputs": [
    {
     "data": {
      "text/plain": [
       "'sipun@1254'"
      ]
     },
     "execution_count": 36,
     "metadata": {},
     "output_type": "execute_result"
    }
   ],
   "source": [
    "a= 'sipun@1254'\n",
    "a"
   ]
  },
  {
   "cell_type": "code",
   "execution_count": 37,
   "id": "b9260de2-9208-48fe-ae5c-51998df14d63",
   "metadata": {},
   "outputs": [],
   "source": [
    "a = '12254'"
   ]
  },
  {
   "cell_type": "code",
   "execution_count": 38,
   "id": "e40f9035-7374-44e2-b3d4-3d13b4cf7604",
   "metadata": {},
   "outputs": [
    {
     "data": {
      "text/plain": [
       "12254"
      ]
     },
     "execution_count": 38,
     "metadata": {},
     "output_type": "execute_result"
    }
   ],
   "source": [
    "int(a)"
   ]
  },
  {
   "cell_type": "code",
   "execution_count": 39,
   "id": "430f6d8d-edb0-4cb9-a051-e73bf59fd356",
   "metadata": {},
   "outputs": [
    {
     "name": "stdout",
     "output_type": "stream",
     "text": [
      "anshu \"mobile\"\n"
     ]
    }
   ],
   "source": [
    "print ('anshu \"mobile\"')"
   ]
  },
  {
   "cell_type": "code",
   "execution_count": 40,
   "id": "5444d9ee-9357-4054-9b15-80c69b73d779",
   "metadata": {},
   "outputs": [
    {
     "ename": "SyntaxError",
     "evalue": "unterminated string literal (detected at line 1) (2687719422.py, line 1)",
     "output_type": "error",
     "traceback": [
      "\u001b[1;36m  Cell \u001b[1;32mIn[40], line 1\u001b[1;36m\u001b[0m\n\u001b[1;33m    print ('anshu 's \"mobile\"')\u001b[0m\n\u001b[1;37m                             ^\u001b[0m\n\u001b[1;31mSyntaxError\u001b[0m\u001b[1;31m:\u001b[0m unterminated string literal (detected at line 1)\n"
     ]
    }
   ],
   "source": [
    "print ('anshu 's \"mobile\"')"
   ]
  },
  {
   "cell_type": "code",
   "execution_count": 42,
   "id": "4840ff75-11fb-4c2d-82a0-f3d2c9780943",
   "metadata": {},
   "outputs": [
    {
     "name": "stdout",
     "output_type": "stream",
     "text": [
      "anshu's \"mobile\"\n"
     ]
    }
   ],
   "source": [
    "print ('anshu\\'s \"mobile\"')"
   ]
  },
  {
   "cell_type": "markdown",
   "id": "02b29901-5525-43c1-9bf3-41fff7427ed3",
   "metadata": {},
   "source": [
    "#  Concatenation"
   ]
  },
  {
   "cell_type": "code",
   "execution_count": 43,
   "id": "398e88b2-cc5e-42f5-b37f-dcc4f3a43ea2",
   "metadata": {},
   "outputs": [
    {
     "data": {
      "text/plain": [
       "'305'"
      ]
     },
     "execution_count": 43,
     "metadata": {},
     "output_type": "execute_result"
    }
   ],
   "source": [
    "a = \"30\"\n",
    "b = \"5\"\n",
    "a+b"
   ]
  },
  {
   "cell_type": "code",
   "execution_count": 45,
   "id": "fd126ba7-fd7a-47e9-b9c0-a06e0a0c812f",
   "metadata": {},
   "outputs": [
    {
     "data": {
      "text/plain": [
       "305"
      ]
     },
     "execution_count": 45,
     "metadata": {},
     "output_type": "execute_result"
    }
   ],
   "source": [
    "int (a+b)"
   ]
  },
  {
   "cell_type": "code",
   "execution_count": 46,
   "id": "d96adccd-a07f-46fe-8060-5ebf2409ce2f",
   "metadata": {},
   "outputs": [
    {
     "data": {
      "text/plain": [
       "35"
      ]
     },
     "execution_count": 46,
     "metadata": {},
     "output_type": "execute_result"
    }
   ],
   "source": [
    "int(a)+ int(b)"
   ]
  },
  {
   "cell_type": "code",
   "execution_count": 47,
   "id": "487a40d9-b97a-4c93-80a3-81b7ec441318",
   "metadata": {},
   "outputs": [],
   "source": [
    "a=\"anshu\"\n",
    "b=235"
   ]
  },
  {
   "cell_type": "code",
   "execution_count": 48,
   "id": "288b3151-180b-45c2-8238-69896ef0d0fb",
   "metadata": {},
   "outputs": [
    {
     "name": "stdout",
     "output_type": "stream",
     "text": [
      "anshu235\n"
     ]
    }
   ],
   "source": [
    "print(a+ str(b))"
   ]
  },
  {
   "cell_type": "code",
   "execution_count": 49,
   "id": "a7affebd-4331-4208-9cf1-724caf7e45f5",
   "metadata": {},
   "outputs": [
    {
     "data": {
      "text/plain": [
       "'navinanshu'"
      ]
     },
     "execution_count": 49,
     "metadata": {},
     "output_type": "execute_result"
    }
   ],
   "source": [
    "'navin' + 'anshu'"
   ]
  },
  {
   "cell_type": "code",
   "execution_count": 50,
   "id": "e4d1d0d3-578a-40ed-91d4-2c327ff4688d",
   "metadata": {},
   "outputs": [
    {
     "data": {
      "text/plain": [
       "'anshuanshuanshuanshuanshu'"
      ]
     },
     "execution_count": 50,
     "metadata": {},
     "output_type": "execute_result"
    }
   ],
   "source": [
    "\"anshu\"  * 5"
   ]
  },
  {
   "cell_type": "raw",
   "id": "c02d3169-1dfe-49a2-a8a6-f9975f4df211",
   "metadata": {},
   "source": []
  },
  {
   "cell_type": "markdown",
   "id": "10db7e8f-3bcb-48bb-b576-09f3be011bb2",
   "metadata": {},
   "source": [
    "# Length of string "
   ]
  },
  {
   "cell_type": "code",
   "execution_count": 56,
   "id": "5600e1ff-962e-49ce-a3ef-5fad291ec2bf",
   "metadata": {},
   "outputs": [
    {
     "data": {
      "text/plain": [
       "23"
      ]
     },
     "execution_count": 56,
     "metadata": {},
     "output_type": "execute_result"
    }
   ],
   "source": [
    "d = \"Good Morning  everyone \"\n",
    "len(d)"
   ]
  },
  {
   "cell_type": "markdown",
   "id": "e5e0cc67-0ba4-4248-8389-7580ac963633",
   "metadata": {},
   "source": [
    "# Delet String "
   ]
  },
  {
   "cell_type": "code",
   "execution_count": 57,
   "id": "a29e916f-4994-4e4e-8d7d-20683b55f6c9",
   "metadata": {},
   "outputs": [],
   "source": [
    "del(d)"
   ]
  },
  {
   "cell_type": "code",
   "execution_count": 58,
   "id": "2386bbb1-011d-482e-8aef-34613e11841e",
   "metadata": {},
   "outputs": [
    {
     "ename": "NameError",
     "evalue": "name 'd' is not defined",
     "output_type": "error",
     "traceback": [
      "\u001b[1;31m---------------------------------------------------------------------------\u001b[0m",
      "\u001b[1;31mNameError\u001b[0m                                 Traceback (most recent call last)",
      "Cell \u001b[1;32mIn[58], line 1\u001b[0m\n\u001b[1;32m----> 1\u001b[0m d\n",
      "\u001b[1;31mNameError\u001b[0m: name 'd' is not defined"
     ]
    }
   ],
   "source": [
    "d"
   ]
  },
  {
   "cell_type": "markdown",
   "id": "54969b3a-d11f-4ba3-bf55-de46bb80e601",
   "metadata": {},
   "source": [
    "# Acces Charecter  in a STRING "
   ]
  },
  {
   "cell_type": "code",
   "execution_count": 59,
   "id": "8f1da9d1-d6aa-4e8e-a74c-7f2711651fa9",
   "metadata": {},
   "outputs": [],
   "source": [
    "z = \"anshuman\""
   ]
  },
  {
   "cell_type": "code",
   "execution_count": 60,
   "id": "d3322e65-039d-40d9-af02-37e334be4386",
   "metadata": {},
   "outputs": [
    {
     "name": "stdout",
     "output_type": "stream",
     "text": [
      "h\n"
     ]
    }
   ],
   "source": [
    "print(z[3])"
   ]
  },
  {
   "cell_type": "code",
   "execution_count": 61,
   "id": "69e8d865-dc67-4ccc-b9fd-bbbbf661cba2",
   "metadata": {},
   "outputs": [
    {
     "name": "stdout",
     "output_type": "stream",
     "text": [
      "n\n"
     ]
    }
   ],
   "source": [
    "print(z[-1])"
   ]
  },
  {
   "cell_type": "code",
   "execution_count": 62,
   "id": "dbe4f586-c401-4c64-bbdc-76912e74134c",
   "metadata": {},
   "outputs": [
    {
     "name": "stdout",
     "output_type": "stream",
     "text": [
      "m\n"
     ]
    }
   ],
   "source": [
    "print(z[-3])"
   ]
  },
  {
   "cell_type": "code",
   "execution_count": 63,
   "id": "2341e927-bf77-4da0-87f5-d2e9c4ba6048",
   "metadata": {},
   "outputs": [
    {
     "ename": "IndexError",
     "evalue": "string index out of range",
     "output_type": "error",
     "traceback": [
      "\u001b[1;31m---------------------------------------------------------------------------\u001b[0m",
      "\u001b[1;31mIndexError\u001b[0m                                Traceback (most recent call last)",
      "Cell \u001b[1;32mIn[63], line 1\u001b[0m\n\u001b[1;32m----> 1\u001b[0m \u001b[38;5;28mprint\u001b[39m(z[\u001b[38;5;241m9\u001b[39m])\n",
      "\u001b[1;31mIndexError\u001b[0m: string index out of range"
     ]
    }
   ],
   "source": [
    "print(z[9])"
   ]
  },
  {
   "cell_type": "code",
   "execution_count": 64,
   "id": "f56af8cb-a0da-4a21-8b34-da9d1bb0eaf6",
   "metadata": {},
   "outputs": [
    {
     "ename": "TypeError",
     "evalue": "string indices must be integers, not 'tuple'",
     "output_type": "error",
     "traceback": [
      "\u001b[1;31m---------------------------------------------------------------------------\u001b[0m",
      "\u001b[1;31mTypeError\u001b[0m                                 Traceback (most recent call last)",
      "Cell \u001b[1;32mIn[64], line 1\u001b[0m\n\u001b[1;32m----> 1\u001b[0m \u001b[38;5;28mprint\u001b[39m(z[\u001b[38;5;241m1\u001b[39m,\u001b[38;5;241m3\u001b[39m])\n",
      "\u001b[1;31mTypeError\u001b[0m: string indices must be integers, not 'tuple'"
     ]
    }
   ],
   "source": [
    "print(z[1,3])"
   ]
  },
  {
   "cell_type": "markdown",
   "id": "166d20cc-145a-4288-9173-9f4b09e8b677",
   "metadata": {},
   "source": [
    "# slicing the string "
   ]
  },
  {
   "cell_type": "code",
   "execution_count": 65,
   "id": "c147f7d6-0068-494a-b30c-431fac99c19a",
   "metadata": {},
   "outputs": [
    {
     "name": "stdout",
     "output_type": "stream",
     "text": [
      "h\n"
     ]
    }
   ],
   "source": [
    "print(z[3:4])"
   ]
  },
  {
   "cell_type": "code",
   "execution_count": 66,
   "id": "043f16f1-f816-471b-8911-63e28fb403cf",
   "metadata": {},
   "outputs": [
    {
     "name": "stdout",
     "output_type": "stream",
     "text": [
      "human\n"
     ]
    }
   ],
   "source": [
    "print(z[3:8])"
   ]
  },
  {
   "cell_type": "code",
   "execution_count": 67,
   "id": "6536ce75-552b-498b-b584-c34f4151f976",
   "metadata": {},
   "outputs": [
    {
     "data": {
      "text/plain": [
       "'anshuman'"
      ]
     },
     "execution_count": 67,
     "metadata": {},
     "output_type": "execute_result"
    }
   ],
   "source": [
    "z[:]"
   ]
  },
  {
   "cell_type": "code",
   "execution_count": 68,
   "id": "bc24a6a4-954a-4937-8646-65355910ee26",
   "metadata": {},
   "outputs": [
    {
     "data": {
      "text/plain": [
       "''"
      ]
     },
     "execution_count": 68,
     "metadata": {},
     "output_type": "execute_result"
    }
   ],
   "source": [
    "z[4:1]"
   ]
  },
  {
   "cell_type": "code",
   "execution_count": 69,
   "id": "306842e2-94a2-44cc-a515-6d1d33eb543f",
   "metadata": {},
   "outputs": [
    {
     "data": {
      "text/plain": [
       "'nhm'"
      ]
     },
     "execution_count": 69,
     "metadata": {},
     "output_type": "execute_result"
    }
   ],
   "source": [
    "z[1:7:2]"
   ]
  },
  {
   "cell_type": "code",
   "execution_count": null,
   "id": "b45e1a59-f54f-4b13-994a-b9a05be8f0c5",
   "metadata": {},
   "outputs": [],
   "source": []
  },
  {
   "cell_type": "markdown",
   "id": "46c75813-b06e-48c1-986d-61727398ac5d",
   "metadata": {},
   "source": [
    "# Capitalize"
   ]
  },
  {
   "cell_type": "code",
   "execution_count": 70,
   "id": "8e7afee9-3dc3-45aa-bf52-ee3a0e406d84",
   "metadata": {},
   "outputs": [
    {
     "data": {
      "text/plain": [
       "'Good morning'"
      ]
     },
     "execution_count": 70,
     "metadata": {},
     "output_type": "execute_result"
    }
   ],
   "source": [
    "\"good morning\".capitalize()"
   ]
  },
  {
   "cell_type": "markdown",
   "id": "1227a46d-ba41-4202-bcf1-3c66e9e13003",
   "metadata": {},
   "source": [
    "# Tittle"
   ]
  },
  {
   "cell_type": "code",
   "execution_count": 71,
   "id": "9ba86383-40d0-4e84-ba21-b7d3f3ced8ec",
   "metadata": {},
   "outputs": [
    {
     "data": {
      "text/plain": [
       "'Good Morning '"
      ]
     },
     "execution_count": 71,
     "metadata": {},
     "output_type": "execute_result"
    }
   ],
   "source": [
    "a = \"gooD MORning \"\n",
    "a.title()"
   ]
  },
  {
   "cell_type": "markdown",
   "id": "5b50e241-5dda-4236-84f9-63ac6045fbbe",
   "metadata": {},
   "source": [
    "# Upper"
   ]
  },
  {
   "cell_type": "code",
   "execution_count": 72,
   "id": "f7b92506-ddbb-45ee-816a-9ded9cefa64d",
   "metadata": {},
   "outputs": [
    {
     "data": {
      "text/plain": [
       "'GOOD MORNING '"
      ]
     },
     "execution_count": 72,
     "metadata": {},
     "output_type": "execute_result"
    }
   ],
   "source": [
    "a.upper()"
   ]
  },
  {
   "cell_type": "markdown",
   "id": "65ac0065-c14a-4360-ba82-93590cff433a",
   "metadata": {},
   "source": [
    "# LOWER"
   ]
  },
  {
   "cell_type": "code",
   "execution_count": 73,
   "id": "39119ad0-a36b-4dd5-b5d3-7e41720a60d3",
   "metadata": {},
   "outputs": [
    {
     "data": {
      "text/plain": [
       "'good morning '"
      ]
     },
     "execution_count": 73,
     "metadata": {},
     "output_type": "execute_result"
    }
   ],
   "source": [
    "a.lower()"
   ]
  },
  {
   "cell_type": "markdown",
   "id": "6318ea8f-71b3-4dff-a557-803b89143468",
   "metadata": {},
   "source": [
    "# SPLIT "
   ]
  },
  {
   "cell_type": "code",
   "execution_count": 75,
   "id": "cf39ede4-9457-4b5c-8343-fb1dfcc0140b",
   "metadata": {},
   "outputs": [
    {
     "data": {
      "text/plain": [
       "['my', 'name', 'is', 'anshu']"
      ]
     },
     "execution_count": 75,
     "metadata": {},
     "output_type": "execute_result"
    }
   ],
   "source": [
    "d= 'my name is anshu'\n",
    "d.split(' ')"
   ]
  },
  {
   "cell_type": "code",
   "execution_count": 76,
   "id": "7c447ae1-b04d-451a-aaa0-c95da26ffd04",
   "metadata": {},
   "outputs": [
    {
     "data": {
      "text/plain": [
       "['how', 'are', 'you', '']"
      ]
     },
     "execution_count": 76,
     "metadata": {},
     "output_type": "execute_result"
    }
   ],
   "source": [
    "hii = 'how are you '\n",
    "hii.split(' ')"
   ]
  },
  {
   "cell_type": "markdown",
   "id": "e3be42da-536e-4c76-acf3-38f89e5c0bac",
   "metadata": {},
   "source": [
    "# join"
   ]
  },
  {
   "cell_type": "code",
   "execution_count": 77,
   "id": "a1d92eaf-d00e-46ac-8c45-639603b7d31a",
   "metadata": {},
   "outputs": [
    {
     "data": {
      "text/plain": [
       "'how are you'"
      ]
     },
     "execution_count": 77,
     "metadata": {},
     "output_type": "execute_result"
    }
   ],
   "source": [
    "' '.join(['how', 'are', 'you', ])"
   ]
  },
  {
   "cell_type": "code",
   "execution_count": null,
   "id": "82cab09b-55bb-4017-852b-63ee26809efb",
   "metadata": {},
   "outputs": [],
   "source": []
  }
 ],
 "metadata": {
  "kernelspec": {
   "display_name": "Python 3 (ipykernel)",
   "language": "python",
   "name": "python3"
  },
  "language_info": {
   "codemirror_mode": {
    "name": "ipython",
    "version": 3
   },
   "file_extension": ".py",
   "mimetype": "text/x-python",
   "name": "python",
   "nbconvert_exporter": "python",
   "pygments_lexer": "ipython3",
   "version": "3.11.7"
  }
 },
 "nbformat": 4,
 "nbformat_minor": 5
}
