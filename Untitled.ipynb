{
 "cells": [
  {
   "cell_type": "code",
   "execution_count": 1,
   "id": "125304a5-b8b8-43f4-97a9-92fe4bc9b4ae",
   "metadata": {},
   "outputs": [
    {
     "name": "stdout",
     "output_type": "stream",
     "text": [
      "hello occac\n"
     ]
    }
   ],
   "source": [
    "print(\"hello occac\")"
   ]
  },
  {
   "cell_type": "code",
   "execution_count": 2,
   "id": "deca1c32-d804-4132-99de-fe11c5172bd9",
   "metadata": {},
   "outputs": [
    {
     "data": {
      "text/plain": [
       "'C:\\\\Users\\\\AMAR\\\\python 1'"
      ]
     },
     "execution_count": 2,
     "metadata": {},
     "output_type": "execute_result"
    }
   ],
   "source": [
    "pwd"
   ]
  },
  {
   "cell_type": "code",
   "execution_count": 3,
   "id": "a44d32fe-37f1-41c5-aa12-35cbe544851d",
   "metadata": {},
   "outputs": [
    {
     "name": "stdout",
     "output_type": "stream",
     "text": [
      "[WinError 123] The filename, directory name, or volume label syntax is incorrect: 'http://localhost:8888/notebooks/python%201/Untitled.ipynb'\n",
      "C:\\Users\\AMAR\\python 1\n"
     ]
    }
   ],
   "source": [
    "cd http://localhost:8888/notebooks/python%201/Untitled.ipynb"
   ]
  },
  {
   "cell_type": "code",
   "execution_count": 4,
   "id": "ed96e7ac-83b0-4ef0-b0a4-84ef240888a4",
   "metadata": {},
   "outputs": [
    {
     "data": {
      "text/plain": [
       "'this is the second class of python \\n     internship batch \\n      and we are studying about variable and identifier '"
      ]
     },
     "execution_count": 4,
     "metadata": {},
     "output_type": "execute_result"
    }
   ],
   "source": [
    "AN = 1      # this is a variable declare \n",
    "b = 5   \n",
    "AN + b   # doing sumation af two variables \n",
    "\n",
    "\"\"\"this is the second class of python \n",
    "     internship batch \n",
    "      and we are studying about variable and identifier \"\"\"\n"
   ]
  },
  {
   "cell_type": "code",
   "execution_count": 3,
   "id": "e402b775-4e94-422d-a78c-3fb8066ef338",
   "metadata": {},
   "outputs": [
    {
     "name": "stdout",
     "output_type": "stream",
     "text": [
      "6\n"
     ]
    }
   ],
   "source": [
    "\n",
    "\"\"\"this is the second class of python \n",
    "     internship batch \n",
    "      and we are studying about variable and identifier \"\"\"\n",
    "AN = 1      # this is a variable declare \n",
    "b = 5   \n",
    "print(AN + b)   # doing sumation af two variables \n",
    "\n"
   ]
  },
  {
   "cell_type": "code",
   "execution_count": 6,
   "id": "f57a0f00-7a0e-416b-9ee9-0f88e1b94606",
   "metadata": {},
   "outputs": [
    {
     "data": {
      "text/plain": [
       "6"
      ]
     },
     "execution_count": 6,
     "metadata": {},
     "output_type": "execute_result"
    }
   ],
   "source": [
    "\"\"\"this is the second class of python \n",
    "     internship batch \n",
    "      and we are studying about variable and identifier \"\"\"\n",
    "AN = 1      # this is a variable declare \n",
    "b = 5   \n",
    "AN + b   # doing sumation af two variables \n",
    "\n"
   ]
  },
  {
   "cell_type": "code",
   "execution_count": 8,
   "id": "33172df5-8a57-4ad9-a68a-013aa6df05f6",
   "metadata": {},
   "outputs": [
    {
     "data": {
      "text/plain": [
       "140720745139784"
      ]
     },
     "execution_count": 8,
     "metadata": {},
     "output_type": "execute_result"
    }
   ],
   "source": [
    "id(a)"
   ]
  },
  {
   "cell_type": "code",
   "execution_count": 9,
   "id": "c5968636-f846-4d88-a6ce-c4a57c599db1",
   "metadata": {},
   "outputs": [
    {
     "data": {
      "text/plain": [
       "90"
      ]
     },
     "execution_count": 9,
     "metadata": {},
     "output_type": "execute_result"
    }
   ],
   "source": [
    "(a)"
   ]
  },
  {
   "cell_type": "code",
   "execution_count": 7,
   "id": "b74f2656-0516-4cc6-a2c5-151e8caf24de",
   "metadata": {},
   "outputs": [],
   "source": [
    "a = 90\n"
   ]
  },
  {
   "cell_type": "code",
   "execution_count": 10,
   "id": "0a2237d7-042a-491e-b185-a08d24f7f652",
   "metadata": {},
   "outputs": [
    {
     "data": {
      "text/plain": [
       "140720745139784"
      ]
     },
     "execution_count": 10,
     "metadata": {},
     "output_type": "execute_result"
    }
   ],
   "source": [
    "b = 90\n",
    "id(b)"
   ]
  },
  {
   "cell_type": "code",
   "execution_count": 11,
   "id": "d0b16d99-d133-4f59-b36c-ba6543ec1620",
   "metadata": {},
   "outputs": [
    {
     "name": "stdout",
     "output_type": "stream",
     "text": [
      "the sumation is  40\n"
     ]
    }
   ],
   "source": [
    "z = 15\n",
    "c = 25\n",
    "u =z+c \n",
    "u\n",
    "v = print(\"the sumation is \", z+c )"
   ]
  },
  {
   "cell_type": "code",
   "execution_count": 12,
   "id": "0707b33d-d086-4bf1-9d08-55cccb4d3f03",
   "metadata": {},
   "outputs": [
    {
     "name": "stdout",
     "output_type": "stream",
     "text": [
      "the sumation is  40\n"
     ]
    }
   ],
   "source": [
    "z = 15\n",
    "c = 25\n",
    "u =z+c \n",
    "u\n",
    "v = print(\"the sumation is \", z+c )\n",
    "v"
   ]
  },
  {
   "cell_type": "code",
   "execution_count": 14,
   "id": "1c2da3da-93bb-4c3f-bd10-95eb33a5f413",
   "metadata": {},
   "outputs": [
    {
     "name": "stdout",
     "output_type": "stream",
     "text": [
      "the sumation is  40\n"
     ]
    },
    {
     "data": {
      "text/plain": [
       "40"
      ]
     },
     "execution_count": 14,
     "metadata": {},
     "output_type": "execute_result"
    }
   ],
   "source": [
    "z = 15\n",
    "c = 25\n",
    "u =z+c \n",
    "u\n",
    "v = print(\"the sumation is \", z+c )\n",
    "v\n",
    "u"
   ]
  },
  {
   "cell_type": "code",
   "execution_count": 15,
   "id": "901252c8-de7d-4017-9057-f91fdcbd0f9d",
   "metadata": {},
   "outputs": [
    {
     "data": {
      "text/plain": [
       "40"
      ]
     },
     "execution_count": 15,
     "metadata": {},
     "output_type": "execute_result"
    }
   ],
   "source": [
    "z = 15\n",
    "c = 25\n",
    "u =z+c \n",
    "u\n",
    "v = (\"the sumation is \", z+c )\n",
    "v\n",
    "u"
   ]
  },
  {
   "cell_type": "code",
   "execution_count": 16,
   "id": "4b8aa46b-2232-43b0-940c-ba145b1069e4",
   "metadata": {},
   "outputs": [
    {
     "ename": "SyntaxError",
     "evalue": "invalid decimal literal (1099300097.py, line 1)",
     "output_type": "error",
     "traceback": [
      "\u001b[1;36m  Cell \u001b[1;32mIn[16], line 1\u001b[1;36m\u001b[0m\n\u001b[1;33m    1a = 147\u001b[0m\n\u001b[1;37m    ^\u001b[0m\n\u001b[1;31mSyntaxError\u001b[0m\u001b[1;31m:\u001b[0m invalid decimal literal\n"
     ]
    }
   ],
   "source": [
    "1a = 147\n",
    "1a"
   ]
  },
  {
   "cell_type": "code",
   "execution_count": 17,
   "id": "2fe34e5d-0a7f-40df-9671-b3619100b9d6",
   "metadata": {},
   "outputs": [
    {
     "data": {
      "text/plain": [
       "147"
      ]
     },
     "execution_count": 17,
     "metadata": {},
     "output_type": "execute_result"
    }
   ],
   "source": [
    "_1a = 147\n",
    "_1a "
   ]
  },
  {
   "cell_type": "code",
   "execution_count": 21,
   "id": "c5f9dfcf-7687-4da1-b1df-7515b1e0e872",
   "metadata": {},
   "outputs": [
    {
     "data": {
      "text/plain": [
       "int"
      ]
     },
     "execution_count": 21,
     "metadata": {},
     "output_type": "execute_result"
    }
   ],
   "source": [
    "w = type(_1a)\n",
    "w"
   ]
  },
  {
   "cell_type": "code",
   "execution_count": 23,
   "id": "190ad6bf-3830-43f2-a95a-e0d9d9137f0b",
   "metadata": {},
   "outputs": [
    {
     "name": "stdout",
     "output_type": "stream",
     "text": [
      "<class 'int'>\n"
     ]
    }
   ],
   "source": [
    "print (w)"
   ]
  },
  {
   "cell_type": "code",
   "execution_count": 24,
   "id": "31b8b717-c634-4ebd-aa9d-7b3ae1e1ba8a",
   "metadata": {},
   "outputs": [
    {
     "name": "stdout",
     "output_type": "stream",
     "text": [
      "['False', 'None', 'True', 'and', 'as', 'assert', 'async', 'await', 'break', 'class', 'continue', 'def', 'del', 'elif', 'else', 'except', 'finally', 'for', 'from', 'global', 'if', 'import', 'in', 'is', 'lambda', 'nonlocal', 'not', 'or', 'pass', 'raise', 'return', 'try', 'while', 'with', 'yield']\n"
     ]
    }
   ],
   "source": [
    "import  keyword           # liabray \n",
    "keywords = keyword.kwlist\n",
    "print (keywords)"
   ]
  },
  {
   "cell_type": "code",
   "execution_count": null,
   "id": "2a5ab6cb-d58a-42c9-bd31-8cdcce08e5bd",
   "metadata": {},
   "outputs": [],
   "source": []
  },
  {
   "cell_type": "code",
   "execution_count": 25,
   "id": "af8dde6e-faab-4cbb-be8d-b4798b899e0c",
   "metadata": {},
   "outputs": [
    {
     "data": {
      "text/plain": [
       "35"
      ]
     },
     "execution_count": 25,
     "metadata": {},
     "output_type": "execute_result"
    }
   ],
   "source": [
    "len(keywords)"
   ]
  },
  {
   "cell_type": "code",
   "execution_count": null,
   "id": "655fe00e-7b27-4a85-b274-cda87ac14011",
   "metadata": {},
   "outputs": [],
   "source": []
  },
  {
   "cell_type": "code",
   "execution_count": 26,
   "id": "1f2449b1-1ad2-4666-aec6-d9a7e570ba1f",
   "metadata": {},
   "outputs": [
    {
     "name": "stdin",
     "output_type": "stream",
     "text": [
      "enter your company name occac\n"
     ]
    },
    {
     "name": "stdout",
     "output_type": "stream",
     "text": [
      "my organisation name is - occac\n"
     ]
    }
   ],
   "source": [
    "b = input(\"enter your company name\")\n",
    "print(\"my organisation name is -\" ,b)\n"
   ]
  },
  {
   "cell_type": "code",
   "execution_count": 30,
   "id": "7b8919e3-fed4-4159-ac63-3ce553850f15",
   "metadata": {},
   "outputs": [
    {
     "name": "stdout",
     "output_type": "stream",
     "text": [
      "occac is organisations name\n"
     ]
    }
   ],
   "source": [
    "print(b,\"is organisations name\")"
   ]
  },
  {
   "cell_type": "code",
   "execution_count": 32,
   "id": "949f4938-9819-4ba1-b0ea-f4b8c282ee18",
   "metadata": {},
   "outputs": [
    {
     "name": "stdout",
     "output_type": "stream",
     "text": [
      "i am form occac whwre are you form?\n"
     ]
    },
    {
     "name": "stdin",
     "output_type": "stream",
     "text": [
      "enter your id 2003\n"
     ]
    }
   ],
   "source": [
    "print(\"i am form\",b,\"whwre are you form?\")\n",
    "c = input(\"enter your id\")"
   ]
  },
  {
   "cell_type": "code",
   "execution_count": 34,
   "id": "4e8e5879-7dfb-4b8b-aa2c-9210b162f15d",
   "metadata": {},
   "outputs": [
    {
     "name": "stdout",
     "output_type": "stream",
     "text": [
      "i am form occac my id is 2003\n"
     ]
    }
   ],
   "source": [
    "print(\"i am form\",b,\"my id is\",c)"
   ]
  },
  {
   "cell_type": "code",
   "execution_count": 36,
   "id": "e0c54e23-864c-4151-9962-68b1f4910914",
   "metadata": {},
   "outputs": [
    {
     "name": "stdout",
     "output_type": "stream",
     "text": [
      "i am form occacand my id is 2003 \n"
     ]
    }
   ],
   "source": [
    "print(\"i am form {}and my id is {} \".format(b,c))"
   ]
  },
  {
   "cell_type": "code",
   "execution_count": 37,
   "id": "63ec1309-c212-48c0-a8bc-f14e95ec58d6",
   "metadata": {},
   "outputs": [
    {
     "name": "stdout",
     "output_type": "stream",
     "text": [
      "i am form 2003and my id is occac \n"
     ]
    }
   ],
   "source": [
    "print(\"i am form {}and my id is {} \".format(c,b))"
   ]
  },
  {
   "cell_type": "code",
   "execution_count": 40,
   "id": "ee4c9fcf-227d-40c9-931f-92d58c134bf9",
   "metadata": {},
   "outputs": [
    {
     "name": "stdout",
     "output_type": "stream",
     "text": [
      "10 20 30\n"
     ]
    }
   ],
   "source": [
    "a,b,c =10,20,30    # multiple pinting \n",
    "print(a,b,c)"
   ]
  },
  {
   "cell_type": "code",
   "execution_count": 41,
   "id": "91a81080-08c3-4d88-b3bd-af00dd145f0b",
   "metadata": {},
   "outputs": [
    {
     "data": {
      "text/plain": [
       "50"
      ]
     },
     "execution_count": 41,
     "metadata": {},
     "output_type": "execute_result"
    }
   ],
   "source": [
    "a = 50 \n",
    "a"
   ]
  },
  {
   "cell_type": "code",
   "execution_count": 42,
   "id": "60ae9a60-a304-4fcd-a707-03cb04b77da5",
   "metadata": {},
   "outputs": [],
   "source": [
    "del (a)"
   ]
  },
  {
   "cell_type": "code",
   "execution_count": 43,
   "id": "34623494-a693-4500-950d-8b9197eb0027",
   "metadata": {},
   "outputs": [
    {
     "ename": "NameError",
     "evalue": "name 'a' is not defined",
     "output_type": "error",
     "traceback": [
      "\u001b[1;31m---------------------------------------------------------------------------\u001b[0m",
      "\u001b[1;31mNameError\u001b[0m                                 Traceback (most recent call last)",
      "Cell \u001b[1;32mIn[43], line 1\u001b[0m\n\u001b[1;32m----> 1\u001b[0m a\n",
      "\u001b[1;31mNameError\u001b[0m: name 'a' is not defined"
     ]
    }
   ],
   "source": [
    "a"
   ]
  },
  {
   "cell_type": "code",
   "execution_count": 44,
   "id": "08b4c786-35b9-4092-af4b-67dc2b0a7205",
   "metadata": {},
   "outputs": [
    {
     "ename": "SyntaxError",
     "evalue": "positional argument follows keyword argument (490075557.py, line 1)",
     "output_type": "error",
     "traceback": [
      "\u001b[1;36m  Cell \u001b[1;32mIn[44], line 1\u001b[1;36m\u001b[0m\n\u001b[1;33m    print('the story of {},{} and {other}'.format(other='georg','bill','manfred'))\u001b[0m\n\u001b[1;37m                                                                                ^\u001b[0m\n\u001b[1;31mSyntaxError\u001b[0m\u001b[1;31m:\u001b[0m positional argument follows keyword argument\n"
     ]
    }
   ],
   "source": [
    "  print('the story of {},{} and {other}'.format(other='georg','bill','manfred'))"
   ]
  },
  {
   "cell_type": "code",
   "execution_count": 45,
   "id": "b1392a8e-a648-4009-9742-40fe94329982",
   "metadata": {},
   "outputs": [
    {
     "ename": "SyntaxError",
     "evalue": "positional argument follows keyword argument (4184059815.py, line 1)",
     "output_type": "error",
     "traceback": [
      "\u001b[1;36m  Cell \u001b[1;32mIn[45], line 1\u001b[1;36m\u001b[0m\n\u001b[1;33m    print('the story of {other},{}and {} '.format(other='georg','bill','manfred'))\u001b[0m\n\u001b[1;37m                                                                                ^\u001b[0m\n\u001b[1;31mSyntaxError\u001b[0m\u001b[1;31m:\u001b[0m positional argument follows keyword argument\n"
     ]
    }
   ],
   "source": [
    " print('the story of {other},{}and {} '.format(other='georg','bill','manfred'))"
   ]
  },
  {
   "cell_type": "code",
   "execution_count": null,
   "id": "481e36e4-de2e-4cf0-a890-ce1db0fe44bf",
   "metadata": {},
   "outputs": [],
   "source": []
  }
 ],
 "metadata": {
  "kernelspec": {
   "display_name": "Python 3 (ipykernel)",
   "language": "python",
   "name": "python3"
  },
  "language_info": {
   "codemirror_mode": {
    "name": "ipython",
    "version": 3
   },
   "file_extension": ".py",
   "mimetype": "text/x-python",
   "name": "python",
   "nbconvert_exporter": "python",
   "pygments_lexer": "ipython3",
   "version": "3.11.7"
  }
 },
 "nbformat": 4,
 "nbformat_minor": 5
}
