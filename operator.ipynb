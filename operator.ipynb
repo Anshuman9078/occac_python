{
 "cells": [
  {
   "cell_type": "markdown",
   "id": "23674d6e-385e-4395-b99f-f1beb4390fb8",
   "metadata": {},
   "source": [
    "# Operator"
   ]
  },
  {
   "cell_type": "code",
   "execution_count": 1,
   "id": "3be806d0-da3e-4dfb-89a8-5f646d5786d2",
   "metadata": {},
   "outputs": [],
   "source": [
    "# Arithmetic Operator "
   ]
  },
  {
   "cell_type": "code",
   "execution_count": 3,
   "id": "ea6024b8-856d-4af3-a37b-66d895494b56",
   "metadata": {},
   "outputs": [
    {
     "data": {
      "text/plain": [
       "8"
      ]
     },
     "execution_count": 3,
     "metadata": {},
     "output_type": "execute_result"
    }
   ],
   "source": [
    "3+5          # addition "
   ]
  },
  {
   "cell_type": "code",
   "execution_count": 4,
   "id": "4a7023c4-b6e8-427b-8a68-e5904af0f9d8",
   "metadata": {},
   "outputs": [
    {
     "data": {
      "text/plain": [
       "10"
      ]
     },
     "execution_count": 4,
     "metadata": {},
     "output_type": "execute_result"
    }
   ],
   "source": [
    "35-25     # Substraction "
   ]
  },
  {
   "cell_type": "code",
   "execution_count": 5,
   "id": "fce59027-a320-47d8-bc24-e9ce508dd9fb",
   "metadata": {},
   "outputs": [
    {
     "data": {
      "text/plain": [
       "10"
      ]
     },
     "execution_count": 5,
     "metadata": {},
     "output_type": "execute_result"
    }
   ],
   "source": [
    "2*5              # Multiplication "
   ]
  },
  {
   "cell_type": "code",
   "execution_count": 6,
   "id": "d47f0e11-797b-4ea7-a8c1-9e5b3870fefe",
   "metadata": {},
   "outputs": [
    {
     "data": {
      "text/plain": [
       "5.0"
      ]
     },
     "execution_count": 6,
     "metadata": {},
     "output_type": "execute_result"
    }
   ],
   "source": [
    " 25/5           # Division  "
   ]
  },
  {
   "cell_type": "code",
   "execution_count": 7,
   "id": "465836cc-4995-405c-bbb6-55664c1ad283",
   "metadata": {},
   "outputs": [
    {
     "data": {
      "text/plain": [
       "1000"
      ]
     },
     "execution_count": 7,
     "metadata": {},
     "output_type": "execute_result"
    }
   ],
   "source": [
    "10**3   # power / exponent "
   ]
  },
  {
   "cell_type": "code",
   "execution_count": 8,
   "id": "7f16b435-4056-4766-b62c-4ead3e2a4f3c",
   "metadata": {},
   "outputs": [
    {
     "data": {
      "text/plain": [
       "0"
      ]
     },
     "execution_count": 8,
     "metadata": {},
     "output_type": "execute_result"
    }
   ],
   "source": [
    "100%5           # modulo / remainder "
   ]
  },
  {
   "cell_type": "code",
   "execution_count": 9,
   "id": "cc1f7453-56e9-411b-abb7-cb4d2343fe6e",
   "metadata": {},
   "outputs": [
    {
     "data": {
      "text/plain": [
       "100"
      ]
     },
     "execution_count": 9,
     "metadata": {},
     "output_type": "execute_result"
    }
   ],
   "source": [
    "(5+5) * (6+4)          # parantasis "
   ]
  },
  {
   "cell_type": "code",
   "execution_count": 10,
   "id": "6b788318-e672-4020-b964-c18dfa288a89",
   "metadata": {},
   "outputs": [
    {
     "name": "stdout",
     "output_type": "stream",
     "text": [
      "600\n",
      "0.6666666666666666\n",
      "20\n"
     ]
    }
   ],
   "source": [
    "# mathematical operator with variable assigment\n",
    "\n",
    "a= 20\n",
    "b= 30\n",
    "print(a*b)\n",
    "print(a/b)\n",
    "print(a%b)"
   ]
  },
  {
   "cell_type": "markdown",
   "id": "74dfe30c-61f0-4f39-b12b-e67de686ae36",
   "metadata": {},
   "source": [
    "# Arthimetic operator precedence "
   ]
  },
  {
   "cell_type": "code",
   "execution_count": 11,
   "id": "f2cb15cf-f151-4c0e-a4bd-0f59d674d64c",
   "metadata": {},
   "outputs": [
    {
     "data": {
      "text/plain": [
       "5.0"
      ]
     },
     "execution_count": 11,
     "metadata": {},
     "output_type": "execute_result"
    }
   ],
   "source": [
    "a= 5\n",
    "b= 3\n",
    "\n",
    "a-b*a/b+a      # BODMAS"
   ]
  },
  {
   "cell_type": "code",
   "execution_count": 12,
   "id": "628637a7-f9fa-4b10-8721-da9e179e065d",
   "metadata": {},
   "outputs": [
    {
     "data": {
      "text/plain": [
       "55"
      ]
     },
     "execution_count": 12,
     "metadata": {},
     "output_type": "execute_result"
    }
   ],
   "source": [
    "(5*(5+6))"
   ]
  },
  {
   "cell_type": "code",
   "execution_count": 13,
   "id": "b028ff2f-7373-4666-867c-97ca640f9cb0",
   "metadata": {},
   "outputs": [
    {
     "data": {
      "text/plain": [
       "7"
      ]
     },
     "execution_count": 13,
     "metadata": {},
     "output_type": "execute_result"
    }
   ],
   "source": [
    "10//6%5+2**3-2"
   ]
  },
  {
   "cell_type": "markdown",
   "id": "5da409aa-20b5-4b8c-8d2e-2b06dd26dff6",
   "metadata": {},
   "source": [
    "# Comparision / Relational operator \n"
   ]
  },
  {
   "cell_type": "code",
   "execution_count": 15,
   "id": "d825127f-37d8-40c6-ac93-6e999282ade7",
   "metadata": {},
   "outputs": [
    {
     "data": {
      "text/plain": [
       "True"
      ]
     },
     "execution_count": 15,
     "metadata": {},
     "output_type": "execute_result"
    }
   ],
   "source": [
    "# Greaterthan\n",
    "50>25\n"
   ]
  },
  {
   "cell_type": "code",
   "execution_count": 16,
   "id": "ca391adf-28e9-4844-8ffe-7674bd1b3c98",
   "metadata": {},
   "outputs": [
    {
     "data": {
      "text/plain": [
       "False"
      ]
     },
     "execution_count": 16,
     "metadata": {},
     "output_type": "execute_result"
    }
   ],
   "source": [
    "# Smallerthan\n",
    "50<25"
   ]
  },
  {
   "cell_type": "code",
   "execution_count": 17,
   "id": "51f4657e-4d24-4c0c-aaab-750e55103990",
   "metadata": {},
   "outputs": [
    {
     "data": {
      "text/plain": [
       "False"
      ]
     },
     "execution_count": 17,
     "metadata": {},
     "output_type": "execute_result"
    }
   ],
   "source": [
    "3*6 < 5*2"
   ]
  },
  {
   "cell_type": "code",
   "execution_count": 18,
   "id": "2ba90f81-028c-4b51-899f-73f26e3fdc2d",
   "metadata": {},
   "outputs": [
    {
     "data": {
      "text/plain": [
       "True"
      ]
     },
     "execution_count": 18,
     "metadata": {},
     "output_type": "execute_result"
    }
   ],
   "source": [
    "50==50"
   ]
  },
  {
   "cell_type": "code",
   "execution_count": 19,
   "id": "f4c70626-b116-46a6-833f-700576bdea0d",
   "metadata": {},
   "outputs": [
    {
     "data": {
      "text/plain": [
       "False"
      ]
     },
     "execution_count": 19,
     "metadata": {},
     "output_type": "execute_result"
    }
   ],
   "source": [
    "5!=5"
   ]
  },
  {
   "cell_type": "code",
   "execution_count": 20,
   "id": "a77fbf2a-8be2-495d-88a2-234258fb631d",
   "metadata": {},
   "outputs": [
    {
     "data": {
      "text/plain": [
       "True"
      ]
     },
     "execution_count": 20,
     "metadata": {},
     "output_type": "execute_result"
    }
   ],
   "source": [
    "5<=5"
   ]
  },
  {
   "cell_type": "code",
   "execution_count": 21,
   "id": "6af1e9fc-dc79-40e5-a93f-39c171808dda",
   "metadata": {},
   "outputs": [
    {
     "data": {
      "text/plain": [
       "True"
      ]
     },
     "execution_count": 21,
     "metadata": {},
     "output_type": "execute_result"
    }
   ],
   "source": [
    "6>=5"
   ]
  },
  {
   "cell_type": "code",
   "execution_count": 22,
   "id": "deae340c-efd1-4517-bb86-f65dfc035926",
   "metadata": {},
   "outputs": [
    {
     "data": {
      "text/plain": [
       "True"
      ]
     },
     "execution_count": 22,
     "metadata": {},
     "output_type": "execute_result"
    }
   ],
   "source": [
    "50==50.0\n"
   ]
  },
  {
   "cell_type": "code",
   "execution_count": 24,
   "id": "d63aa690-12d2-4b8c-8c93-e39ba2d19533",
   "metadata": {},
   "outputs": [
    {
     "data": {
      "text/plain": [
       "False"
      ]
     },
     "execution_count": 24,
     "metadata": {},
     "output_type": "execute_result"
    }
   ],
   "source": [
    "'hii'=='Hii'"
   ]
  },
  {
   "cell_type": "markdown",
   "id": "7fec7ea6-b4ef-4cec-9f99-1aefdad2ec42",
   "metadata": {},
   "source": [
    "# BITWISE OPERATOR "
   ]
  },
  {
   "cell_type": "code",
   "execution_count": 25,
   "id": "0af09933-9b14-4b62-a396-dcfb792c167f",
   "metadata": {},
   "outputs": [
    {
     "data": {
      "text/plain": [
       "'0b1100100'"
      ]
     },
     "execution_count": 25,
     "metadata": {},
     "output_type": "execute_result"
    }
   ],
   "source": [
    "bin(100)"
   ]
  },
  {
   "cell_type": "code",
   "execution_count": 26,
   "id": "b7c1e673-47fd-44ab-a74d-71b1454e4309",
   "metadata": {},
   "outputs": [
    {
     "data": {
      "text/plain": [
       "'0b110010'"
      ]
     },
     "execution_count": 26,
     "metadata": {},
     "output_type": "execute_result"
    }
   ],
   "source": [
    "bin(50)"
   ]
  },
  {
   "cell_type": "code",
   "execution_count": 28,
   "id": "cffe1eeb-4cb8-4d59-84f7-96e834f974b4",
   "metadata": {},
   "outputs": [
    {
     "data": {
      "text/plain": [
       "50"
      ]
     },
     "execution_count": 28,
     "metadata": {},
     "output_type": "execute_result"
    }
   ],
   "source": [
    "0b110010"
   ]
  },
  {
   "cell_type": "code",
   "execution_count": 29,
   "id": "ae057326-eb2c-450a-a2b5-fe0435e4cd7c",
   "metadata": {},
   "outputs": [
    {
     "name": "stdout",
     "output_type": "stream",
     "text": [
      "7\n"
     ]
    }
   ],
   "source": [
    "a= 5        # BITWISE OR \n",
    "b= 6\n",
    "print(a|b)"
   ]
  },
  {
   "cell_type": "code",
   "execution_count": 30,
   "id": "bbec48e6-e27f-46db-9d01-5f93d2add975",
   "metadata": {},
   "outputs": [
    {
     "name": "stdout",
     "output_type": "stream",
     "text": [
      "4\n"
     ]
    }
   ],
   "source": [
    "print(a&b)"
   ]
  },
  {
   "cell_type": "code",
   "execution_count": 31,
   "id": "3083a4a0-6a33-4b36-8c63-ffb4ac84779f",
   "metadata": {},
   "outputs": [
    {
     "data": {
      "text/plain": [
       "14"
      ]
     },
     "execution_count": 31,
     "metadata": {},
     "output_type": "execute_result"
    }
   ],
   "source": [
    "8|6"
   ]
  },
  {
   "cell_type": "code",
   "execution_count": 32,
   "id": "8752291f-65d8-419c-a20b-41077561d92a",
   "metadata": {},
   "outputs": [
    {
     "data": {
      "text/plain": [
       "0"
      ]
     },
     "execution_count": 32,
     "metadata": {},
     "output_type": "execute_result"
    }
   ],
   "source": [
    "8&6"
   ]
  },
  {
   "cell_type": "markdown",
   "id": "6549ff23-b9c2-465c-bf25-284170c3bf47",
   "metadata": {},
   "source": [
    "# LOGICAL OPERATOR "
   ]
  },
  {
   "cell_type": "code",
   "execution_count": 33,
   "id": "5555b9b2-915d-411a-bd96-0aa5dbb5d85f",
   "metadata": {},
   "outputs": [
    {
     "data": {
      "text/plain": [
       "True"
      ]
     },
     "execution_count": 33,
     "metadata": {},
     "output_type": "execute_result"
    }
   ],
   "source": [
    "(1 > 2) or (5 < 8)"
   ]
  },
  {
   "cell_type": "code",
   "execution_count": 34,
   "id": "e06b17ad-407a-4875-8729-e6d4494a48d3",
   "metadata": {},
   "outputs": [
    {
     "data": {
      "text/plain": [
       "False"
      ]
     },
     "execution_count": 34,
     "metadata": {},
     "output_type": "execute_result"
    }
   ],
   "source": [
    "(1 > 2) or (5 < 4)"
   ]
  },
  {
   "cell_type": "code",
   "execution_count": 35,
   "id": "4476cc04-9f67-4655-85b8-e9e2e2c03274",
   "metadata": {},
   "outputs": [
    {
     "data": {
      "text/plain": [
       "False"
      ]
     },
     "execution_count": 35,
     "metadata": {},
     "output_type": "execute_result"
    }
   ],
   "source": [
    "not True "
   ]
  },
  {
   "cell_type": "code",
   "execution_count": 36,
   "id": "6571d09a-8567-4ea9-9ce5-2bc529fdcb1a",
   "metadata": {},
   "outputs": [
    {
     "data": {
      "text/plain": [
       "True"
      ]
     },
     "execution_count": 36,
     "metadata": {},
     "output_type": "execute_result"
    }
   ],
   "source": [
    "not False"
   ]
  },
  {
   "cell_type": "code",
   "execution_count": 39,
   "id": "19bf9b84-74fa-4618-b809-66a28846493c",
   "metadata": {},
   "outputs": [
    {
     "data": {
      "text/plain": [
       "True"
      ]
     },
     "execution_count": 39,
     "metadata": {},
     "output_type": "execute_result"
    }
   ],
   "source": [
    "x= 'anshuman'\n",
    "x.isalpha() or x.isnum()"
   ]
  },
  {
   "cell_type": "code",
   "execution_count": 40,
   "id": "74b2ce8c-b6c2-4cff-9197-6ab4949b798d",
   "metadata": {},
   "outputs": [
    {
     "data": {
      "text/plain": [
       "True"
      ]
     },
     "execution_count": 40,
     "metadata": {},
     "output_type": "execute_result"
    }
   ],
   "source": [
    "(2 == 2) and (2 == 3) or (4 == 4)"
   ]
  },
  {
   "cell_type": "markdown",
   "id": "770cd689-0418-48b0-aeae-e95fbcc7c16a",
   "metadata": {},
   "source": [
    "#   Assignmet operator "
   ]
  },
  {
   "cell_type": "code",
   "execution_count": 41,
   "id": "10808d5e-c77a-4026-a06d-93907c9421ac",
   "metadata": {},
   "outputs": [
    {
     "data": {
      "text/plain": [
       "20"
      ]
     },
     "execution_count": 41,
     "metadata": {},
     "output_type": "execute_result"
    }
   ],
   "source": [
    "a= 20\n",
    "a"
   ]
  },
  {
   "cell_type": "code",
   "execution_count": 42,
   "id": "96d334b9-99d6-41cc-8402-58c37815ed7f",
   "metadata": {},
   "outputs": [
    {
     "name": "stdout",
     "output_type": "stream",
     "text": [
      "21\n"
     ]
    }
   ],
   "source": [
    "a= a+1\n",
    "print(a)"
   ]
  },
  {
   "cell_type": "code",
   "execution_count": 46,
   "id": "da945640-87d1-475c-8515-8a1b910fb9d8",
   "metadata": {},
   "outputs": [
    {
     "data": {
      "text/plain": [
       "22"
      ]
     },
     "execution_count": 46,
     "metadata": {},
     "output_type": "execute_result"
    }
   ],
   "source": [
    "a+=1\n",
    "a"
   ]
  },
  {
   "cell_type": "code",
   "execution_count": 47,
   "id": "99c644d8-d58f-4904-a981-be06163e8278",
   "metadata": {},
   "outputs": [],
   "source": [
    "a-=4"
   ]
  },
  {
   "cell_type": "markdown",
   "id": "eee9341b-3497-4eea-96dc-5da0e623c47a",
   "metadata": {},
   "source": [
    "# IDENTY OPERATOR "
   ]
  },
  {
   "cell_type": "code",
   "execution_count": 48,
   "id": "8bde3812-e083-4201-b333-feab8072ffa0",
   "metadata": {},
   "outputs": [
    {
     "name": "stdout",
     "output_type": "stream",
     "text": [
      "True\n"
     ]
    }
   ],
   "source": [
    "a= 20\n",
    "b= 20\n",
    "print(a is  b)\n"
   ]
  },
  {
   "cell_type": "code",
   "execution_count": 49,
   "id": "71c6f272-c211-409d-82d2-cdc7c3481829",
   "metadata": {},
   "outputs": [
    {
     "name": "stdout",
     "output_type": "stream",
     "text": [
      "False\n"
     ]
    }
   ],
   "source": [
    "x= \"ANSHUMAN\"                # pthon is case sensitive so ....          \n",
    "y= \"Anshuman\"\n",
    "print(x is y)"
   ]
  },
  {
   "cell_type": "code",
   "execution_count": 50,
   "id": "4570e4c0-e862-48a4-9d83-37ed397b32db",
   "metadata": {},
   "outputs": [
    {
     "name": "stdout",
     "output_type": "stream",
     "text": [
      "True\n"
     ]
    }
   ],
   "source": [
    "print(x is not y)"
   ]
  },
  {
   "cell_type": "markdown",
   "id": "28c19a34-8681-4e43-bace-5da67f0aea77",
   "metadata": {},
   "source": [
    "# MEMBERSHIP OPERATOR "
   ]
  },
  {
   "cell_type": "code",
   "execution_count": 51,
   "id": "19dac89d-53d1-4b46-b93e-37dc2acafcac",
   "metadata": {},
   "outputs": [
    {
     "data": {
      "text/plain": [
       "True"
      ]
     },
     "execution_count": 51,
     "metadata": {},
     "output_type": "execute_result"
    }
   ],
   "source": [
    "a= 'Anshuman'\n",
    "'shu' in a"
   ]
  },
  {
   "cell_type": "code",
   "execution_count": 52,
   "id": "b10fb919-aa4b-40c1-958e-aeda6c4344f5",
   "metadata": {},
   "outputs": [
    {
     "data": {
      "text/plain": [
       "False"
      ]
     },
     "execution_count": 52,
     "metadata": {},
     "output_type": "execute_result"
    }
   ],
   "source": [
    "'hman' in a     # charecter must bi serially "
   ]
  },
  {
   "cell_type": "code",
   "execution_count": 53,
   "id": "01d8608c-af24-4023-8098-818f8f004ab8",
   "metadata": {},
   "outputs": [
    {
     "data": {
      "text/plain": [
       "True"
      ]
     },
     "execution_count": 53,
     "metadata": {},
     "output_type": "execute_result"
    }
   ],
   "source": [
    "s=  [1,2,3,4,5,6]\n",
    "5 in s"
   ]
  },
  {
   "cell_type": "code",
   "execution_count": 56,
   "id": "0bce6dae-77c2-4ed9-aee2-af8be409bea7",
   "metadata": {},
   "outputs": [
    {
     "data": {
      "text/plain": [
       "True"
      ]
     },
     "execution_count": 56,
     "metadata": {},
     "output_type": "execute_result"
    }
   ],
   "source": [
    "9 not in s"
   ]
  },
  {
   "cell_type": "code",
   "execution_count": null,
   "id": "b4446548-51d3-4f81-a98c-45f21a68f3ac",
   "metadata": {},
   "outputs": [],
   "source": []
  }
 ],
 "metadata": {
  "kernelspec": {
   "display_name": "Python 3 (ipykernel)",
   "language": "python",
   "name": "python3"
  },
  "language_info": {
   "codemirror_mode": {
    "name": "ipython",
    "version": 3
   },
   "file_extension": ".py",
   "mimetype": "text/x-python",
   "name": "python",
   "nbconvert_exporter": "python",
   "pygments_lexer": "ipython3",
   "version": "3.11.7"
  }
 },
 "nbformat": 4,
 "nbformat_minor": 5
}
