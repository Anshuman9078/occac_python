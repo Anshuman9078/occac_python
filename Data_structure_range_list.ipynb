{
 "cells": [
  {
   "cell_type": "markdown",
   "id": "0df244ff-9775-4c23-b5d1-8a90a3218ab1",
   "metadata": {},
   "source": [
    "# RANGE"
   ]
  },
  {
   "cell_type": "code",
   "execution_count": 2,
   "id": "1821b2af-7b0a-4bd0-b931-18fb97ff94ee",
   "metadata": {},
   "outputs": [
    {
     "data": {
      "text/plain": [
       "range(0, 15)"
      ]
     },
     "execution_count": 2,
     "metadata": {},
     "output_type": "execute_result"
    }
   ],
   "source": [
    "range(15)        # it means it goes 0 to 15 "
   ]
  },
  {
   "cell_type": "code",
   "execution_count": 4,
   "id": "3bb6b136-24b4-462f-98d3-73d3dcf72bd2",
   "metadata": {},
   "outputs": [
    {
     "data": {
      "text/plain": [
       "[0, 1, 2, 3, 4, 5, 6, 7, 8, 9]"
      ]
     },
     "execution_count": 4,
     "metadata": {},
     "output_type": "execute_result"
    }
   ],
   "source": [
    "list(range(10))      # list the item of range 10"
   ]
  },
  {
   "cell_type": "code",
   "execution_count": 5,
   "id": "4f382249-0ce8-4587-a00a-452665b9c9cb",
   "metadata": {},
   "outputs": [
    {
     "data": {
      "text/plain": [
       "[1, 2, 3, 4, 5, 6, 7, 8, 9, 10, 11, 12, 13, 14, 15, 16, 17, 18, 19]"
      ]
     },
     "execution_count": 5,
     "metadata": {},
     "output_type": "execute_result"
    }
   ],
   "source": [
    "list(range(1,20))"
   ]
  },
  {
   "cell_type": "code",
   "execution_count": 6,
   "id": "9ea6a8b6-c88e-4d9d-ae57-0ca219450158",
   "metadata": {},
   "outputs": [
    {
     "data": {
      "text/plain": [
       "[1, 3, 5, 7, 9, 11, 13, 15, 17, 19]"
      ]
     },
     "execution_count": 6,
     "metadata": {},
     "output_type": "execute_result"
    }
   ],
   "source": [
    "list(range(1,20,2))"
   ]
  },
  {
   "cell_type": "code",
   "execution_count": 7,
   "id": "0930a2e6-26b6-4e79-913c-3a75e3b4360a",
   "metadata": {},
   "outputs": [
    {
     "data": {
      "text/plain": [
       "[]"
      ]
     },
     "execution_count": 7,
     "metadata": {},
     "output_type": "execute_result"
    }
   ],
   "source": [
    "list(range(1,20,-1))"
   ]
  },
  {
   "cell_type": "code",
   "execution_count": 8,
   "id": "1469517f-87cd-4c68-9df0-e56a09921fe1",
   "metadata": {},
   "outputs": [
    {
     "data": {
      "text/plain": [
       "[20, 19, 18, 17, 16, 15, 14, 13, 12, 11, 10, 9, 8, 7, 6, 5, 4, 3, 2]"
      ]
     },
     "execution_count": 8,
     "metadata": {},
     "output_type": "execute_result"
    }
   ],
   "source": [
    "list(range(20,1,-1))"
   ]
  },
  {
   "cell_type": "code",
   "execution_count": 9,
   "id": "93c94691-be84-49f1-8522-b756372dda79",
   "metadata": {},
   "outputs": [
    {
     "name": "stdout",
     "output_type": "stream",
     "text": [
      "[100, 99, 98, 97, 96, 95, 94, 93, 92, 91, 90, 89, 88, 87, 86, 85, 84, 83, 82, 81, 80, 79, 78, 77, 76, 75, 74, 73, 72, 71, 70, 69, 68, 67, 66, 65, 64, 63, 62, 61, 60, 59, 58, 57, 56, 55, 54, 53, 52, 51, 50, 49, 48, 47, 46, 45, 44, 43, 42, 41, 40, 39, 38, 37, 36, 35, 34, 33, 32, 31, 30, 29, 28, 27, 26, 25, 24, 23, 22, 21, 20, 19, 18, 17, 16, 15, 14, 13, 12, 11, 10, 9, 8, 7, 6, 5, 4, 3, 2, 1]\n"
     ]
    }
   ],
   "source": [
    "print(list(range(100,0,-1)))"
   ]
  },
  {
   "cell_type": "markdown",
   "id": "5ac35b36-ce18-4233-8a44-153fec5df753",
   "metadata": {},
   "source": [
    "# LIST"
   ]
  },
  {
   "cell_type": "markdown",
   "id": "68d815e3-7458-4845-80e1-20b75c8ac44e",
   "metadata": {},
   "source": [
    "# EMPTY LIST "
   ]
  },
  {
   "cell_type": "code",
   "execution_count": 10,
   "id": "6629bc9f-4f42-4392-aa29-7a76c37f7a0c",
   "metadata": {},
   "outputs": [
    {
     "data": {
      "text/plain": [
       "[]"
      ]
     },
     "execution_count": 10,
     "metadata": {},
     "output_type": "execute_result"
    }
   ],
   "source": [
    "s = []\n",
    "s"
   ]
  },
  {
   "cell_type": "code",
   "execution_count": 11,
   "id": "5c586b44-01d6-4602-9ccf-5ba92070e7fa",
   "metadata": {},
   "outputs": [
    {
     "data": {
      "text/plain": [
       "[]"
      ]
     },
     "execution_count": 11,
     "metadata": {},
     "output_type": "execute_result"
    }
   ],
   "source": [
    "s = list()\n",
    "s"
   ]
  },
  {
   "cell_type": "markdown",
   "id": "23894dc0-4eb6-4f68-ad7b-4b7e8c1866e3",
   "metadata": {},
   "source": [
    "# LIST CREATION"
   ]
  },
  {
   "cell_type": "code",
   "execution_count": 14,
   "id": "84fa3f0a-3511-43a0-a677-52eb19ea1e2a",
   "metadata": {},
   "outputs": [
    {
     "data": {
      "text/plain": [
       "[1, 2, 3, 4, 5]"
      ]
     },
     "execution_count": 14,
     "metadata": {},
     "output_type": "execute_result"
    }
   ],
   "source": [
    "b = [1,2,3,4,5]\n",
    "b                        # the variable b store the number list 1 to 5 "
   ]
  },
  {
   "cell_type": "code",
   "execution_count": 16,
   "id": "d8384744-4e32-4cc3-9605-a20142a0a142",
   "metadata": {},
   "outputs": [
    {
     "data": {
      "text/plain": [
       "list"
      ]
     },
     "execution_count": 16,
     "metadata": {},
     "output_type": "execute_result"
    }
   ],
   "source": [
    "type(s)      # s is the list type "
   ]
  },
  {
   "cell_type": "code",
   "execution_count": 17,
   "id": "0806f094-800a-44bc-bea6-4faa8a6980f6",
   "metadata": {},
   "outputs": [
    {
     "data": {
      "text/plain": [
       "[1, 0.2, 3, 5, True, '2', 'new']"
      ]
     },
     "execution_count": 17,
     "metadata": {},
     "output_type": "execute_result"
    }
   ],
   "source": [
    "s = [1,0.2,3,5,True,'2','new']\n",
    "s                                 # list is a heterogeneous data type means it can contains all tyoe of data "
   ]
  },
  {
   "cell_type": "code",
   "execution_count": 18,
   "id": "4cec08ca-84f0-4c5e-a135-5da834fad459",
   "metadata": {},
   "outputs": [
    {
     "name": "stdout",
     "output_type": "stream",
     "text": [
      "[[1, 2], [3, 4], 5, 6]\n"
     ]
    }
   ],
   "source": [
    "x = [[1,2],[3,4],5,6]\n",
    "print(x                    # list is a NESTED list means it can contains package of numbers "
   ]
  },
  {
   "cell_type": "markdown",
   "id": "e5b1ac85-6b59-4d0f-9e53-2481b076f807",
   "metadata": {},
   "source": [
    "# LIST LENGTH"
   ]
  },
  {
   "cell_type": "code",
   "execution_count": 20,
   "id": "f2039f8f-9c91-45a0-95a2-13446f91d965",
   "metadata": {},
   "outputs": [
    {
     "data": {
      "text/plain": [
       "8"
      ]
     },
     "execution_count": 20,
     "metadata": {},
     "output_type": "execute_result"
    }
   ],
   "source": [
    "lst = ['one','two','three','four',[1,2,3,4,5],3,4,[1,2]]\n",
    "len(lst)"
   ]
  },
  {
   "cell_type": "code",
   "execution_count": 22,
   "id": "e950b52c-26e6-47ef-8afd-e44f892aeda8",
   "metadata": {},
   "outputs": [
    {
     "name": "stdout",
     "output_type": "stream",
     "text": [
      "7\n"
     ]
    }
   ],
   "source": [
    "lst = [1,5,9,8,7,'anshu','pravas']\n",
    "print(len(lst))"
   ]
  },
  {
   "cell_type": "markdown",
   "id": "dd35677e-30ee-4833-8ca7-46d43df7c734",
   "metadata": {},
   "source": [
    "# LIST Indexing"
   ]
  },
  {
   "cell_type": "code",
   "execution_count": 23,
   "id": "a39de768-611e-4b12-9582-f857110f2757",
   "metadata": {},
   "outputs": [
    {
     "data": {
      "text/plain": [
       "[1, 2, [3, 4], [5, [100, 200, ['hello'], 23, 11], 1, 7]]"
      ]
     },
     "execution_count": 23,
     "metadata": {},
     "output_type": "execute_result"
    }
   ],
   "source": [
    "lst = [1,2,[3,4],[5,[100,200,['hello'],23,11],1,7]]\n",
    "lst"
   ]
  },
  {
   "cell_type": "code",
   "execution_count": 24,
   "id": "879c3897-a6bc-4e45-91d3-daf605ce1c83",
   "metadata": {},
   "outputs": [
    {
     "data": {
      "text/plain": [
       "[100, 200, ['hello'], 23, 11]"
      ]
     },
     "execution_count": 24,
     "metadata": {},
     "output_type": "execute_result"
    }
   ],
   "source": [
    "lst[3][1]"
   ]
  },
  {
   "cell_type": "code",
   "execution_count": 27,
   "id": "3c550371-33b5-4dc3-a493-d2cc70000ff7",
   "metadata": {},
   "outputs": [
    {
     "name": "stdout",
     "output_type": "stream",
     "text": [
      "anshu\n"
     ]
    }
   ],
   "source": [
    "z = [10,20,5,'anshu']\n",
    "z[0]\n",
    "print(z[-1])"
   ]
  },
  {
   "cell_type": "code",
   "execution_count": null,
   "id": "777f842e-2ff7-44f3-a32a-a3391c2e92bf",
   "metadata": {},
   "outputs": [],
   "source": []
  },
  {
   "cell_type": "code",
   "execution_count": null,
   "id": "0b03f88f-ef40-45b9-932c-8e57ef0b5bdc",
   "metadata": {},
   "outputs": [],
   "source": []
  },
  {
   "cell_type": "markdown",
   "id": "35b0b571-d7c9-4467-9009-b0cc32fca9a5",
   "metadata": {},
   "source": [
    "# List  Slicing"
   ]
  },
  {
   "cell_type": "code",
   "execution_count": 25,
   "id": "76765576-4c1b-4ca1-a3c5-299fb2ea7a9b",
   "metadata": {},
   "outputs": [
    {
     "data": {
      "text/plain": [
       "['hello']"
      ]
     },
     "execution_count": 25,
     "metadata": {},
     "output_type": "execute_result"
    }
   ],
   "source": [
    "lst[3][1][2]"
   ]
  },
  {
   "cell_type": "code",
   "execution_count": 26,
   "id": "e7aeca7e-0f8f-4ed5-a848-241762d554bc",
   "metadata": {},
   "outputs": [
    {
     "data": {
      "text/plain": [
       "'hello'"
      ]
     },
     "execution_count": 26,
     "metadata": {},
     "output_type": "execute_result"
    }
   ],
   "source": [
    "lst[3][1][2][0]"
   ]
  },
  {
   "cell_type": "markdown",
   "id": "8e1478e7-28c1-4289-932c-ebfdd0f1127b",
   "metadata": {},
   "source": [
    "# List Concatenation "
   ]
  },
  {
   "cell_type": "code",
   "execution_count": 28,
   "id": "1ac62296-4649-45ce-81a7-d4790f655194",
   "metadata": {},
   "outputs": [
    {
     "data": {
      "text/plain": [
       "['anshu', 'c', 'v', 1, 2, 3]"
      ]
     },
     "execution_count": 28,
     "metadata": {},
     "output_type": "execute_result"
    }
   ],
   "source": [
    "l1 = ['anshu','c','v']          # it means adding the two list \n",
    "l2 = [1,2,3]\n",
    "l1+l2"
   ]
  },
  {
   "cell_type": "markdown",
   "id": "94a7fe45-fd70-42a1-99a5-0a7251fb577c",
   "metadata": {},
   "source": [
    "# List Methods - List inbuilts functions \n",
    "# APPEND"
   ]
  },
  {
   "cell_type": "code",
   "execution_count": 29,
   "id": "d2be3406-9c59-4e56-af5a-26614b83694c",
   "metadata": {},
   "outputs": [
    {
     "data": {
      "text/plain": [
       "[1, 2, 3, 4, 5, 9]"
      ]
     },
     "execution_count": 29,
     "metadata": {},
     "output_type": "execute_result"
    }
   ],
   "source": [
    "a = [1,2,3,4,5]\n",
    "a.append(9)             # add value at  the end position \n",
    "a"
   ]
  },
  {
   "cell_type": "code",
   "execution_count": 30,
   "id": "66be1663-2352-4bfb-bd79-a0dcb5a2bd75",
   "metadata": {},
   "outputs": [
    {
     "data": {
      "text/plain": [
       "[1, 2, 3, 4, 5, [5, 8]]"
      ]
     },
     "execution_count": 30,
     "metadata": {},
     "output_type": "execute_result"
    }
   ],
   "source": [
    "a = [1,2,3,4,5]\n",
    "a.append([5,8])             # add value at  the end position \n",
    "a"
   ]
  },
  {
   "cell_type": "markdown",
   "id": "079b3883-dd88-4259-b17d-fafb959ba668",
   "metadata": {},
   "source": [
    "# Extend"
   ]
  },
  {
   "cell_type": "code",
   "execution_count": 31,
   "id": "66201511-6a18-4e0f-aaf0-a7259a4d7099",
   "metadata": {},
   "outputs": [
    {
     "data": {
      "text/plain": [
       "[1, 2, 3, 4, 5, 8, 9]"
      ]
     },
     "execution_count": 31,
     "metadata": {},
     "output_type": "execute_result"
    }
   ],
   "source": [
    "a = [1,2,3,4,5]\n",
    "a.extend([8,9])\n",
    "a                       # same as concatination "
   ]
  },
  {
   "cell_type": "markdown",
   "id": "6fb99e73-b098-4432-ac72-4a5ce69f0108",
   "metadata": {},
   "source": [
    "# INSERT"
   ]
  },
  {
   "cell_type": "code",
   "execution_count": 32,
   "id": "2e3086ef-cdc0-475c-8aca-2588546d4905",
   "metadata": {},
   "outputs": [
    {
     "data": {
      "text/plain": [
       "[7, 8, 2, 3, 4, 5]"
      ]
     },
     "execution_count": 32,
     "metadata": {},
     "output_type": "execute_result"
    }
   ],
   "source": [
    "a = [7,2,3,4,5]\n",
    "a.insert(1,8)               # .insert(location,value)\n",
    "a"
   ]
  },
  {
   "cell_type": "markdown",
   "id": "db2a97e4-68e5-4dbb-ba46-f816e08ad0f8",
   "metadata": {},
   "source": [
    "# REMOVE"
   ]
  },
  {
   "cell_type": "code",
   "execution_count": 33,
   "id": "ec2f0fe9-6ec6-45d9-b6fc-21cfb3ebca5a",
   "metadata": {},
   "outputs": [
    {
     "data": {
      "text/plain": [
       "[2, 3, 4, 5, 7]"
      ]
     },
     "execution_count": 33,
     "metadata": {},
     "output_type": "execute_result"
    }
   ],
   "source": [
    "a = [7,2,3,4,5,7]\n",
    "a.remove(7)\n",
    "a"
   ]
  },
  {
   "cell_type": "markdown",
   "id": "0517f67e-43b8-4c80-87fa-6176a16ab520",
   "metadata": {},
   "source": [
    "# POP"
   ]
  },
  {
   "cell_type": "code",
   "execution_count": 34,
   "id": "6988db2d-1012-4d54-8149-7b21b836cf90",
   "metadata": {},
   "outputs": [
    {
     "data": {
      "text/plain": [
       "[7, 2, 3, 4]"
      ]
     },
     "execution_count": 34,
     "metadata": {},
     "output_type": "execute_result"
    }
   ],
   "source": [
    "a = [7,2,3,4,5]\n",
    "a.pop()\n",
    "a"
   ]
  },
  {
   "cell_type": "markdown",
   "id": "084cd808-3cfa-4cf8-935c-e7a9fc5e4351",
   "metadata": {},
   "source": [
    "# CLEAR "
   ]
  },
  {
   "cell_type": "code",
   "execution_count": 35,
   "id": "c9622ae4-fd66-4fa8-aa6a-7c3a630c4a8c",
   "metadata": {},
   "outputs": [
    {
     "data": {
      "text/plain": [
       "[]"
      ]
     },
     "execution_count": 35,
     "metadata": {},
     "output_type": "execute_result"
    }
   ],
   "source": [
    "a = [7,2,3,4,5]\n",
    "a.clear()\n",
    "a"
   ]
  },
  {
   "cell_type": "markdown",
   "id": "0df51405-18ed-4faa-9d81-55b0ea975c08",
   "metadata": {},
   "source": [
    "# DELETE"
   ]
  },
  {
   "cell_type": "code",
   "execution_count": 36,
   "id": "97ed1617-00b3-4339-bde5-d8ec00b0b80a",
   "metadata": {},
   "outputs": [],
   "source": [
    "lst = ['one','two','three','four','five']        # if i have a database and i delete something and after that i \n",
    "                                                  #       want to show that object which i delete then i use POP other wise use DELETE .\n",
    "del lst[3]\n"
   ]
  },
  {
   "cell_type": "code",
   "execution_count": 37,
   "id": "59568771-4681-4cd1-bd90-745020775451",
   "metadata": {},
   "outputs": [],
   "source": [
    "marks =  [1,2,3,4,5,6,7,8,9,10,11,12,13,14,15]\n",
    "del marks[0:10]"
   ]
  },
  {
   "cell_type": "markdown",
   "id": "b894d18e-95b0-4374-91b1-a354c406dbfd",
   "metadata": {},
   "source": [
    "# REVERSE"
   ]
  },
  {
   "cell_type": "code",
   "execution_count": 38,
   "id": "7aa4f6e4-66fb-4405-bc01-ebac79690210",
   "metadata": {},
   "outputs": [
    {
     "data": {
      "text/plain": [
       "[7, 5, 4, 3, 2, 7]"
      ]
     },
     "execution_count": 38,
     "metadata": {},
     "output_type": "execute_result"
    }
   ],
   "source": [
    "a = [7,2,3,4,5,7]\n",
    "a.reverse()\n",
    "a"
   ]
  },
  {
   "cell_type": "markdown",
   "id": "5b0fb146-243a-48e6-8b3c-028bf734bf7c",
   "metadata": {},
   "source": [
    "#  SORTING"
   ]
  },
  {
   "cell_type": "code",
   "execution_count": 39,
   "id": "2adcdb02-3d41-4914-8cfb-3959d0979810",
   "metadata": {},
   "outputs": [
    {
     "data": {
      "text/plain": [
       "[2, 6, 9, 10, 55]"
      ]
     },
     "execution_count": 39,
     "metadata": {},
     "output_type": "execute_result"
    }
   ],
   "source": [
    "z = [2,55,6,10,9]\n",
    "sorted(z)"
   ]
  },
  {
   "cell_type": "markdown",
   "id": "e4003a6c-c2dd-4318-bde9-0d59cd055a1e",
   "metadata": {},
   "source": [
    "# COUNT "
   ]
  },
  {
   "cell_type": "code",
   "execution_count": 2,
   "id": "253f7faa-8dbf-4ed9-b63d-dbb8f6a2b906",
   "metadata": {},
   "outputs": [
    {
     "name": "stdout",
     "output_type": "stream",
     "text": [
      "4\n"
     ]
    }
   ],
   "source": [
    "z = [1,2,3,2,3,2,3,2,3]      # counting propose \n",
    "print(z.count(2))"
   ]
  },
  {
   "cell_type": "markdown",
   "id": "a06d5c44-d1f1-4391-a448-02756b8c77ad",
   "metadata": {},
   "source": [
    "# copy"
   ]
  },
  {
   "cell_type": "raw",
   "id": "4857640d-1bd3-4182-ab96-b9721ad9e4aa",
   "metadata": {},
   "source": [
    " # sallow copy  "
   ]
  },
  {
   "cell_type": "code",
   "execution_count": 4,
   "id": "293a1308-3588-4ff1-b8a4-fe8b117b232a",
   "metadata": {},
   "outputs": [
    {
     "name": "stdout",
     "output_type": "stream",
     "text": [
      "[1, 2, 3, 4, 4]\n",
      "[1, 2, 3, 4, 4]\n"
     ]
    }
   ],
   "source": [
    "l1 = [1,2,3,4]\n",
    "l2 = l1 \n",
    "l2.append(4)\n",
    "print(l1)\n",
    "print(l2)"
   ]
  },
  {
   "cell_type": "raw",
   "id": "8e43f44d-a581-4e57-9919-59765b4ec827",
   "metadata": {},
   "source": [
    "# deep copy "
   ]
  },
  {
   "cell_type": "code",
   "execution_count": 7,
   "id": "46caa163-6d1a-4193-a2cb-407be437ad67",
   "metadata": {},
   "outputs": [
    {
     "name": "stdout",
     "output_type": "stream",
     "text": [
      "[1, 2, 3, 4]\n",
      "[1, 2, 3, 4, 5]\n"
     ]
    }
   ],
   "source": [
    "l1 = [1,2,3,4]\n",
    "l2 = l1.copy()\n",
    "l2.append(5)\n",
    "print(l1)\n",
    "print(l2)"
   ]
  },
  {
   "cell_type": "markdown",
   "id": "d3cbb38b-2900-4a02-b90a-6e1d2ec50af4",
   "metadata": {},
   "source": [
    "# index "
   ]
  },
  {
   "cell_type": "code",
   "execution_count": 8,
   "id": "028060dd-5cb5-4fe8-ac6f-8552c98b8196",
   "metadata": {},
   "outputs": [
    {
     "data": {
      "text/plain": [
       "3"
      ]
     },
     "execution_count": 8,
     "metadata": {},
     "output_type": "execute_result"
    }
   ],
   "source": [
    "l1 = [1,2,3,4]\n",
    "l1.index(4)"
   ]
  },
  {
   "cell_type": "code",
   "execution_count": 9,
   "id": "84b2c8f7-8c5c-4adb-b7c8-6bdf184c0e7b",
   "metadata": {},
   "outputs": [
    {
     "data": {
      "text/plain": [
       "1"
      ]
     },
     "execution_count": 9,
     "metadata": {},
     "output_type": "execute_result"
    }
   ],
   "source": [
    "min(l1)"
   ]
  },
  {
   "cell_type": "code",
   "execution_count": 10,
   "id": "42cc808b-3eac-4462-b8e4-9065c5be2c44",
   "metadata": {},
   "outputs": [
    {
     "data": {
      "text/plain": [
       "4"
      ]
     },
     "execution_count": 10,
     "metadata": {},
     "output_type": "execute_result"
    }
   ],
   "source": [
    "max(l1)"
   ]
  },
  {
   "cell_type": "code",
   "execution_count": 11,
   "id": "5dd1202d-fe44-446d-8eea-836d8ebbde8d",
   "metadata": {},
   "outputs": [
    {
     "data": {
      "text/plain": [
       "10"
      ]
     },
     "execution_count": 11,
     "metadata": {},
     "output_type": "execute_result"
    }
   ],
   "source": [
    "sum(l1)"
   ]
  },
  {
   "cell_type": "markdown",
   "id": "eae3e5ec-6aab-4c52-b6cc-063c5f96cd10",
   "metadata": {},
   "source": [
    "# TUPPLE "
   ]
  },
  {
   "cell_type": "markdown",
   "id": "d6683ed2-d254-4046-b0ba-ebb86ac0feb5",
   "metadata": {},
   "source": [
    "# Tuple creation "
   ]
  },
  {
   "cell_type": "code",
   "execution_count": 14,
   "id": "d37350b2-648e-4e90-945f-0f08c19ff591",
   "metadata": {},
   "outputs": [
    {
     "data": {
      "text/plain": [
       "tuple"
      ]
     },
     "execution_count": 14,
     "metadata": {},
     "output_type": "execute_result"
    }
   ],
   "source": [
    "t = ()\n",
    "type(t)               # empty tupple "
   ]
  },
  {
   "cell_type": "code",
   "execution_count": 15,
   "id": "2a881d92-2694-410c-bd97-9bc769289dfc",
   "metadata": {},
   "outputs": [
    {
     "data": {
      "text/plain": [
       "tuple"
      ]
     },
     "execution_count": 15,
     "metadata": {},
     "output_type": "execute_result"
    }
   ],
   "source": [
    "tup2 = tuple()\n",
    "type (tup2)"
   ]
  },
  {
   "cell_type": "code",
   "execution_count": 17,
   "id": "605cb9f3-4472-4d19-a053-1253e79cac05",
   "metadata": {},
   "outputs": [
    {
     "data": {
      "text/plain": [
       "(100, 'anshu', 3.05)"
      ]
     },
     "execution_count": 17,
     "metadata": {},
     "output_type": "execute_result"
    }
   ],
   "source": [
    "t3 = (100,'anshu',3.05)          # tupple with   mixed data type \n",
    "t3"
   ]
  },
  {
   "cell_type": "code",
   "execution_count": 23,
   "id": "3c1fea24-4749-467f-bdd1-e3bf6131b290",
   "metadata": {},
   "outputs": [],
   "source": [
    "t4 = (100,'anshu',[50,100],[50,150])     # nested tupples \n"
   ]
  },
  {
   "cell_type": "code",
   "execution_count": 27,
   "id": "04111c97-dc39-4e71-8155-09baf1ffbfec",
   "metadata": {},
   "outputs": [],
   "source": [
    "t4[3][0]= 120      # change the value in direscted position "
   ]
  },
  {
   "cell_type": "code",
   "execution_count": 25,
   "id": "cfa16062-97d5-4328-973e-2380b92d51fd",
   "metadata": {},
   "outputs": [
    {
     "data": {
      "text/plain": [
       "(100, 'anshu', [50, 100], [120, 150])"
      ]
     },
     "execution_count": 25,
     "metadata": {},
     "output_type": "execute_result"
    }
   ],
   "source": [
    "t4"
   ]
  },
  {
   "cell_type": "code",
   "execution_count": 28,
   "id": "3c0d3237-a49d-46e4-be3c-cf06bf5709aa",
   "metadata": {},
   "outputs": [
    {
     "data": {
      "text/plain": [
       "4"
      ]
     },
     "execution_count": 28,
     "metadata": {},
     "output_type": "execute_result"
    }
   ],
   "source": [
    "len(t4)"
   ]
  },
  {
   "cell_type": "markdown",
   "id": "4233b766-4305-4f25-8f53-fa003c991389",
   "metadata": {},
   "source": [
    "PRATICE IN CLASS "
   ]
  },
  {
   "cell_type": "code",
   "execution_count": 69,
   "id": "b0d62fe4-5239-43b0-8553-175471cf26b8",
   "metadata": {},
   "outputs": [
    {
     "data": {
      "text/plain": [
       "7"
      ]
     },
     "execution_count": 69,
     "metadata": {},
     "output_type": "execute_result"
    }
   ],
   "source": [
    "b= (1,2,3,\"sara\",[4,5,8,'10'],(28,231),'DK')\n",
    "len(b)"
   ]
  },
  {
   "cell_type": "code",
   "execution_count": 65,
   "id": "96a41103-c1cb-4856-9a34-99206063f84e",
   "metadata": {},
   "outputs": [
    {
     "data": {
      "text/plain": [
       "8"
      ]
     },
     "execution_count": 65,
     "metadata": {},
     "output_type": "execute_result"
    }
   ],
   "source": [
    "b[4][2]"
   ]
  },
  {
   "cell_type": "code",
   "execution_count": 70,
   "id": "7dcfef61-7e59-4d7f-8558-c93813ac22fd",
   "metadata": {},
   "outputs": [
    {
     "name": "stdout",
     "output_type": "stream",
     "text": [
      "(1, 2, 3, 'sara', [4, 5, 8, 'new'], (28, 231), 'DK')\n"
     ]
    }
   ],
   "source": [
    "b[4][3] = 'new'\n",
    "print(b)"
   ]
  },
  {
   "cell_type": "code",
   "execution_count": null,
   "id": "cf1d3e9e-644f-4ce4-aa98-7d352ba97945",
   "metadata": {},
   "outputs": [],
   "source": []
  },
  {
   "cell_type": "code",
   "execution_count": null,
   "id": "91efc76a-de13-4f7c-9ec8-5de0a32ab9a5",
   "metadata": {},
   "outputs": [],
   "source": []
  },
  {
   "cell_type": "code",
   "execution_count": null,
   "id": "ee4f2703-96e8-4310-8044-ae4a95598b72",
   "metadata": {},
   "outputs": [],
   "source": []
  },
  {
   "cell_type": "code",
   "execution_count": 95,
   "id": "4e7ed29c-b8ad-4985-96a9-640907915799",
   "metadata": {},
   "outputs": [
    {
     "data": {
      "text/plain": [
       "[28, 231]"
      ]
     },
     "execution_count": 95,
     "metadata": {},
     "output_type": "execute_result"
    }
   ],
   "source": [
    "b= (1,2,3,\"sara\",[4,5,8,'10'],(28,231),'DK')\n",
    "v = list(b[5])\n",
    "v\n"
   ]
  },
  {
   "cell_type": "code",
   "execution_count": 100,
   "id": "ce50dd37-b045-4658-9bee-97ddf16f2b8d",
   "metadata": {},
   "outputs": [
    {
     "data": {
      "text/plain": [
       "['28', 231]"
      ]
     },
     "execution_count": 100,
     "metadata": {},
     "output_type": "execute_result"
    }
   ],
   "source": [
    "v[0] = '28'\n",
    "v"
   ]
  },
  {
   "cell_type": "code",
   "execution_count": null,
   "id": "85bcb069-ff00-4986-85dc-b41559c1118c",
   "metadata": {},
   "outputs": [],
   "source": []
  },
  {
   "cell_type": "code",
   "execution_count": 99,
   "id": "183c7fdb-d3fc-438f-b8fb-0da2c37b2e75",
   "metadata": {},
   "outputs": [
    {
     "data": {
      "text/plain": [
       "('28', 231)"
      ]
     },
     "execution_count": 99,
     "metadata": {},
     "output_type": "execute_result"
    }
   ],
   "source": [
    "c = tuple(v)\n",
    "c"
   ]
  },
  {
   "cell_type": "code",
   "execution_count": 104,
   "id": "9177b674-9fb0-4f11-87c6-26065b02907d",
   "metadata": {},
   "outputs": [
    {
     "name": "stdout",
     "output_type": "stream",
     "text": [
      "(1, 2, 3, 'sara', [4, 5, 8, '10'], ('28', 231), 'DK')\n"
     ]
    }
   ],
   "source": [
    "x = b[:5] + (c,) + b[6:]\n",
    "print(x)"
   ]
  },
  {
   "cell_type": "code",
   "execution_count": null,
   "id": "95969383-702c-42e3-9602-916abac82833",
   "metadata": {},
   "outputs": [],
   "source": []
  },
  {
   "cell_type": "code",
   "execution_count": null,
   "id": "33ad4cd5-ce22-48ad-8e59-4c592013e3c4",
   "metadata": {},
   "outputs": [],
   "source": []
  },
  {
   "cell_type": "code",
   "execution_count": null,
   "id": "d7de076e-4a98-486a-a8a6-613909cf7703",
   "metadata": {},
   "outputs": [],
   "source": []
  },
  {
   "cell_type": "code",
   "execution_count": null,
   "id": "3b067d05-a4e5-4121-949e-8350f005badd",
   "metadata": {},
   "outputs": [],
   "source": []
  },
  {
   "cell_type": "code",
   "execution_count": null,
   "id": "51594296-5268-4751-83cb-f4717a5d5a85",
   "metadata": {},
   "outputs": [],
   "source": []
  },
  {
   "cell_type": "markdown",
   "id": "7878edbe-e2ec-49cc-994c-c2c6ee7680eb",
   "metadata": {},
   "source": [
    "# TUPLE INDEXING "
   ]
  },
  {
   "cell_type": "code",
   "execution_count": 105,
   "id": "c65b8961-8456-493d-9464-076bcb1e1f4c",
   "metadata": {},
   "outputs": [
    {
     "data": {
      "text/plain": [
       "(100, 'anshu', [50, 100], [120, 150])"
      ]
     },
     "execution_count": 105,
     "metadata": {},
     "output_type": "execute_result"
    }
   ],
   "source": [
    "t4"
   ]
  },
  {
   "cell_type": "code",
   "execution_count": 29,
   "id": "5c90ba7a-b3e1-4912-be67-25275a82f975",
   "metadata": {},
   "outputs": [
    {
     "data": {
      "text/plain": [
       "[120, 150]"
      ]
     },
     "execution_count": 29,
     "metadata": {},
     "output_type": "execute_result"
    }
   ],
   "source": [
    "\n",
    " \n",
    "t4[3]"
   ]
  },
  {
   "cell_type": "code",
   "execution_count": 30,
   "id": "79aced28-5809-4024-9d07-692288bb8b28",
   "metadata": {},
   "outputs": [
    {
     "data": {
      "text/plain": [
       "120"
      ]
     },
     "execution_count": 30,
     "metadata": {},
     "output_type": "execute_result"
    }
   ],
   "source": [
    "t4[3][0]"
   ]
  },
  {
   "cell_type": "code",
   "execution_count": 31,
   "id": "3ede5332-90e8-4c34-82c4-d484fb6bab17",
   "metadata": {},
   "outputs": [
    {
     "data": {
      "text/plain": [
       "[120, 150]"
      ]
     },
     "execution_count": 31,
     "metadata": {},
     "output_type": "execute_result"
    }
   ],
   "source": [
    "t4[-1]"
   ]
  },
  {
   "cell_type": "markdown",
   "id": "76f54abc-5866-4879-9d95-542ca1490b81",
   "metadata": {},
   "source": [
    "# tupple slicing "
   ]
  },
  {
   "cell_type": "code",
   "execution_count": 33,
   "id": "949a90ad-9fec-46af-91c1-28a363b8a608",
   "metadata": {},
   "outputs": [
    {
     "data": {
      "text/plain": [
       "(100, 'anshu', [50, 100])"
      ]
     },
     "execution_count": 33,
     "metadata": {},
     "output_type": "execute_result"
    }
   ],
   "source": [
    "t5 = (100,'anshu',[50,100],[50,150],20,25,55,58,85,95,)  \n",
    "t5[0:3]"
   ]
  },
  {
   "cell_type": "code",
   "execution_count": 34,
   "id": "af909ba2-5fd8-4eff-aabe-8ae593f3323f",
   "metadata": {},
   "outputs": [
    {
     "data": {
      "text/plain": [
       "([50, 100], [50, 150], 20)"
      ]
     },
     "execution_count": 34,
     "metadata": {},
     "output_type": "execute_result"
    }
   ],
   "source": [
    "t5[2:5]"
   ]
  },
  {
   "cell_type": "code",
   "execution_count": 35,
   "id": "a9c23652-4e2c-407e-a666-0d6b8de9d461",
   "metadata": {},
   "outputs": [
    {
     "data": {
      "text/plain": [
       "(100, 'anshu', [50, 100], [50, 150], 20)"
      ]
     },
     "execution_count": 35,
     "metadata": {},
     "output_type": "execute_result"
    }
   ],
   "source": [
    "t5[:5]"
   ]
  },
  {
   "cell_type": "code",
   "execution_count": 36,
   "id": "ecd122e5-e811-4800-919c-35484ef86e67",
   "metadata": {},
   "outputs": [
    {
     "data": {
      "text/plain": [
       "(85, 95)"
      ]
     },
     "execution_count": 36,
     "metadata": {},
     "output_type": "execute_result"
    }
   ],
   "source": [
    "t5[-2:]"
   ]
  },
  {
   "cell_type": "code",
   "execution_count": 37,
   "id": "dd7b7381-817d-4a46-9086-77c98e0d840c",
   "metadata": {},
   "outputs": [
    {
     "data": {
      "text/plain": [
       "(58, 55, 25, 20, [50, 150], [50, 100], 'anshu', 100)"
      ]
     },
     "execution_count": 37,
     "metadata": {},
     "output_type": "execute_result"
    }
   ],
   "source": [
    "t5[-3::-1]"
   ]
  },
  {
   "cell_type": "code",
   "execution_count": 38,
   "id": "fa22eaec-fada-48e4-b144-742d2a1712f8",
   "metadata": {},
   "outputs": [
    {
     "data": {
      "text/plain": [
       "(100, 'anshu')"
      ]
     },
     "execution_count": 38,
     "metadata": {},
     "output_type": "execute_result"
    }
   ],
   "source": [
    "t5[:2]"
   ]
  },
  {
   "cell_type": "markdown",
   "id": "b47e347d-6218-4b6d-b0dc-12e21abc3c05",
   "metadata": {},
   "source": [
    "#  remove and change items "
   ]
  },
  {
   "cell_type": "code",
   "execution_count": 39,
   "id": "be4fa88c-25ee-465f-a376-9b499c2836e9",
   "metadata": {},
   "outputs": [
    {
     "data": {
      "text/plain": [
       "(100, 'anshu', [50, 100], [50, 150], 20, 25, 55, 58, 85, 95)"
      ]
     },
     "execution_count": 39,
     "metadata": {},
     "output_type": "execute_result"
    }
   ],
   "source": [
    "t5"
   ]
  },
  {
   "cell_type": "markdown",
   "id": "504478ee-87a9-4434-a482-04b676434d3f",
   "metadata": {},
   "source": [
    "Tuples are immutable which means we canot delete the items"
   ]
  },
  {
   "cell_type": "code",
   "execution_count": 41,
   "id": "9e00b8ec-ef56-44ca-9326-f077b352d5bc",
   "metadata": {},
   "outputs": [
    {
     "ename": "TypeError",
     "evalue": "'tuple' object doesn't support item deletion",
     "output_type": "error",
     "traceback": [
      "\u001b[1;31m---------------------------------------------------------------------------\u001b[0m",
      "\u001b[1;31mTypeError\u001b[0m                                 Traceback (most recent call last)",
      "Cell \u001b[1;32mIn[41], line 1\u001b[0m\n\u001b[1;32m----> 1\u001b[0m \u001b[38;5;28;01mdel\u001b[39;00m t5[\u001b[38;5;241m2\u001b[39m]\n",
      "\u001b[1;31mTypeError\u001b[0m: 'tuple' object doesn't support item deletion"
     ]
    }
   ],
   "source": [
    "del t5[2]                 # Tuples are immutable which means we canot delete the items "
   ]
  },
  {
   "cell_type": "markdown",
   "id": "d0b66ef7-23f5-46dc-b951-62af4b07feaa",
   "metadata": {},
   "source": [
    "Tuples are immutable which means we canot change  the items"
   ]
  },
  {
   "cell_type": "code",
   "execution_count": 42,
   "id": "9265a968-547a-4a2d-bcf6-59828429398b",
   "metadata": {},
   "outputs": [
    {
     "ename": "TypeError",
     "evalue": "'tuple' object does not support item assignment",
     "output_type": "error",
     "traceback": [
      "\u001b[1;31m---------------------------------------------------------------------------\u001b[0m",
      "\u001b[1;31mTypeError\u001b[0m                                 Traceback (most recent call last)",
      "Cell \u001b[1;32mIn[42], line 1\u001b[0m\n\u001b[1;32m----> 1\u001b[0m t5[\u001b[38;5;241m2\u001b[39m]\u001b[38;5;241m=\u001b[39m\u001b[38;5;241m5\u001b[39m\n",
      "\u001b[1;31mTypeError\u001b[0m: 'tuple' object does not support item assignment"
     ]
    }
   ],
   "source": [
    "t5[2]=5"
   ]
  },
  {
   "cell_type": "code",
   "execution_count": 48,
   "id": "8a5acc4c-1e2f-4063-9593-e9b886ee00a0",
   "metadata": {},
   "outputs": [],
   "source": [
    " t6 = [1,2,3,4,5,6]   # Deleting entire typle are possible "
   ]
  },
  {
   "cell_type": "code",
   "execution_count": 49,
   "id": "c3c3e750-dda7-4a5f-9064-e434433c1e74",
   "metadata": {},
   "outputs": [],
   "source": [
    "del t6             # Deleting entire typle are possible "
   ]
  },
  {
   "cell_type": "code",
   "execution_count": 50,
   "id": "fed03f82-a8c1-47ea-9695-f0fa39dcefaf",
   "metadata": {},
   "outputs": [
    {
     "ename": "NameError",
     "evalue": "name 't6' is not defined",
     "output_type": "error",
     "traceback": [
      "\u001b[1;31m---------------------------------------------------------------------------\u001b[0m",
      "\u001b[1;31mNameError\u001b[0m                                 Traceback (most recent call last)",
      "Cell \u001b[1;32mIn[50], line 1\u001b[0m\n\u001b[1;32m----> 1\u001b[0m t6\n",
      "\u001b[1;31mNameError\u001b[0m: name 't6' is not defined"
     ]
    }
   ],
   "source": [
    "t6"
   ]
  },
  {
   "cell_type": "markdown",
   "id": "71ee8823-44ac-4436-9814-161970561a47",
   "metadata": {},
   "source": [
    "# tuple method "
   ]
  },
  {
   "cell_type": "code",
   "execution_count": null,
   "id": "9d1c19b2-0663-4818-8d22-de4e09a81892",
   "metadata": {},
   "outputs": [],
   "source": [
    "f = ['one','two','one','four','one','six','seven','two','nine',]"
   ]
  },
  {
   "cell_type": "markdown",
   "id": "23388554-7bac-4e38-bf01-c956c50bb924",
   "metadata": {},
   "source": [
    "# COUNT "
   ]
  },
  {
   "cell_type": "code",
   "execution_count": 52,
   "id": "3a5d6224-24c9-41f8-8044-9a297ff88811",
   "metadata": {},
   "outputs": [
    {
     "data": {
      "text/plain": [
       "3"
      ]
     },
     "execution_count": 52,
     "metadata": {},
     "output_type": "execute_result"
    }
   ],
   "source": [
    "f.count('one')"
   ]
  },
  {
   "cell_type": "code",
   "execution_count": 53,
   "id": "df7d6dd9-9aa2-4963-9b5f-9dd515a2497f",
   "metadata": {},
   "outputs": [
    {
     "data": {
      "text/plain": [
       "2"
      ]
     },
     "execution_count": 53,
     "metadata": {},
     "output_type": "execute_result"
    }
   ],
   "source": [
    "f.count('two')"
   ]
  },
  {
   "cell_type": "markdown",
   "id": "d4c58eac-a03e-4f59-8103-1e75a4dd9783",
   "metadata": {},
   "source": [
    "# INDEX POSITIONING"
   ]
  },
  {
   "cell_type": "code",
   "execution_count": 54,
   "id": "e4c64412-f8d3-474b-95aa-83c8c1f550e0",
   "metadata": {},
   "outputs": [
    {
     "data": {
      "text/plain": [
       "1"
      ]
     },
     "execution_count": 54,
     "metadata": {},
     "output_type": "execute_result"
    }
   ],
   "source": [
    "f.index('two')"
   ]
  },
  {
   "cell_type": "code",
   "execution_count": 55,
   "id": "0e662301-309f-4eda-be14-c64556bd5c93",
   "metadata": {},
   "outputs": [
    {
     "data": {
      "text/plain": [
       "8"
      ]
     },
     "execution_count": 55,
     "metadata": {},
     "output_type": "execute_result"
    }
   ],
   "source": [
    "f.index('nine')"
   ]
  },
  {
   "cell_type": "markdown",
   "id": "1324927b-6a42-4dc0-8842-1c8fc3312303",
   "metadata": {},
   "source": [
    "# SORTING"
   ]
  },
  {
   "cell_type": "code",
   "execution_count": 56,
   "id": "a0fb2f58-7f5d-4ce0-b758-d83477ef5ea4",
   "metadata": {},
   "outputs": [
    {
     "data": {
      "text/plain": [
       "[20, 25, 50, 55, 58, 85, 95, 100, 150]"
      ]
     },
     "execution_count": 56,
     "metadata": {},
     "output_type": "execute_result"
    }
   ],
   "source": [
    "v = (100,50,150,20,25,55,58,85,95)\n",
    "sorted(v)"
   ]
  },
  {
   "cell_type": "code",
   "execution_count": 57,
   "id": "d90616b1-63b6-498e-8a48-96c665f75c06",
   "metadata": {},
   "outputs": [
    {
     "data": {
      "text/plain": [
       "[150, 100, 95, 85, 58, 55, 50, 25, 20]"
      ]
     },
     "execution_count": 57,
     "metadata": {},
     "output_type": "execute_result"
    }
   ],
   "source": [
    "sorted(v , reverse= True)          #  sort in decending order"
   ]
  },
  {
   "cell_type": "code",
   "execution_count": 58,
   "id": "df97a3d4-09d9-45fb-a615-7f543a66788d",
   "metadata": {},
   "outputs": [
    {
     "data": {
      "text/plain": [
       "(100, 50, 150, 20, 25, 55, 58, 85, 95)"
      ]
     },
     "execution_count": 58,
     "metadata": {},
     "output_type": "execute_result"
    }
   ],
   "source": [
    "v"
   ]
  },
  {
   "cell_type": "code",
   "execution_count": 106,
   "id": "a59c4d47-a1c6-4ec7-81f7-c3bda0a259bb",
   "metadata": {},
   "outputs": [
    {
     "data": {
      "text/plain": [
       "[1, 1.0, 1.2, 5.5, 11, 12, 13, 45, 48, 77, 87]"
      ]
     },
     "execution_count": 106,
     "metadata": {},
     "output_type": "execute_result"
    }
   ],
   "source": [
    "x = (12,1,13,11,48,45,77,87,1.0,1.2,5.5)\n",
    "sorted(x)"
   ]
  },
  {
   "cell_type": "code",
   "execution_count": 107,
   "id": "6f2bbcdc-861c-4cc3-827f-a5a31266dc41",
   "metadata": {},
   "outputs": [
    {
     "ename": "TypeError",
     "evalue": "'<' not supported between instances of 'str' and 'int'",
     "output_type": "error",
     "traceback": [
      "\u001b[1;31m---------------------------------------------------------------------------\u001b[0m",
      "\u001b[1;31mTypeError\u001b[0m                                 Traceback (most recent call last)",
      "Cell \u001b[1;32mIn[107], line 2\u001b[0m\n\u001b[0;32m      1\u001b[0m y \u001b[38;5;241m=\u001b[39m (\u001b[38;5;241m12\u001b[39m,\u001b[38;5;241m1\u001b[39m,\u001b[38;5;241m13\u001b[39m,\u001b[38;5;241m11\u001b[39m,\u001b[38;5;241m48\u001b[39m,\u001b[38;5;241m45\u001b[39m,\u001b[38;5;241m77\u001b[39m,\u001b[38;5;241m87\u001b[39m,\u001b[38;5;241m1.0\u001b[39m,\u001b[38;5;241m1.2\u001b[39m,\u001b[38;5;241m5.5\u001b[39m,\u001b[38;5;124m'\u001b[39m\u001b[38;5;124manshu\u001b[39m\u001b[38;5;124m'\u001b[39m,\u001b[38;5;124m'\u001b[39m\u001b[38;5;124mrama\u001b[39m\u001b[38;5;124m'\u001b[39m,\u001b[38;5;124m'\u001b[39m\u001b[38;5;124msubrat\u001b[39m\u001b[38;5;124m'\u001b[39m)\n\u001b[1;32m----> 2\u001b[0m \u001b[38;5;28msorted\u001b[39m(y)\n",
      "\u001b[1;31mTypeError\u001b[0m: '<' not supported between instances of 'str' and 'int'"
     ]
    }
   ],
   "source": [
    "y = (12,1,13,11,48,45,77,87,1.0,1.2,5.5,'anshu','rama','subrat')\n",
    "sorted(y)"
   ]
  },
  {
   "cell_type": "code",
   "execution_count": 108,
   "id": "08c70e28-019a-4f64-a3ec-5f3a13809ba7",
   "metadata": {},
   "outputs": [
    {
     "data": {
      "text/plain": [
       "['a', 'c', 'd', 'g', 'h']"
      ]
     },
     "execution_count": 108,
     "metadata": {},
     "output_type": "execute_result"
    }
   ],
   "source": [
    "z = ('a','d','c','g','h')\n",
    "sorted(z)"
   ]
  },
  {
   "cell_type": "code",
   "execution_count": null,
   "id": "cf641aad-2fca-4c5b-bee4-bbbec4db1dfc",
   "metadata": {},
   "outputs": [],
   "source": []
  },
  {
   "cell_type": "code",
   "execution_count": null,
   "id": "99ca2e7c-5097-499b-b7e8-82d72a06bd1b",
   "metadata": {},
   "outputs": [],
   "source": []
  },
  {
   "cell_type": "code",
   "execution_count": null,
   "id": "914bf6a8-107d-4066-9d2e-28738f8cedb2",
   "metadata": {},
   "outputs": [],
   "source": []
  },
  {
   "cell_type": "code",
   "execution_count": null,
   "id": "27e9e8f8-3dac-461c-9a71-7ec425dea241",
   "metadata": {},
   "outputs": [],
   "source": []
  },
  {
   "cell_type": "code",
   "execution_count": null,
   "id": "db10c92e-e8fc-42c7-bed3-6cbb0132f389",
   "metadata": {},
   "outputs": [],
   "source": []
  },
  {
   "cell_type": "code",
   "execution_count": null,
   "id": "9548f6a3-d922-495f-ae0e-aeed619a3e5b",
   "metadata": {},
   "outputs": [],
   "source": []
  },
  {
   "cell_type": "code",
   "execution_count": null,
   "id": "404ca231-3370-4301-8184-e0a7e11ac59d",
   "metadata": {},
   "outputs": [],
   "source": []
  },
  {
   "cell_type": "markdown",
   "id": "2571d126-4f9f-42f5-9260-d77bc4f4ff9b",
   "metadata": {},
   "source": [
    "# tuple membership"
   ]
  },
  {
   "cell_type": "code",
   "execution_count": 60,
   "id": "4e75aa62-fe1d-4727-897b-a576964e195d",
   "metadata": {},
   "outputs": [
    {
     "data": {
      "text/plain": [
       "True"
      ]
     },
     "execution_count": 60,
     "metadata": {},
     "output_type": "execute_result"
    }
   ],
   "source": [
    "f = ['one','two','one','four','one','six','seven','two','nine',]\n",
    "'four' in f"
   ]
  },
  {
   "cell_type": "code",
   "execution_count": 61,
   "id": "63fc9d76-b462-43fa-bbcb-894f9cdc392b",
   "metadata": {},
   "outputs": [
    {
     "data": {
      "text/plain": [
       "False"
      ]
     },
     "execution_count": 61,
     "metadata": {},
     "output_type": "execute_result"
    }
   ],
   "source": [
    "'ten' in f"
   ]
  },
  {
   "cell_type": "code",
   "execution_count": null,
   "id": "80bb96a7-fcfc-48f1-90c6-1102b589dad5",
   "metadata": {},
   "outputs": [],
   "source": []
  },
  {
   "cell_type": "markdown",
   "id": "acc7a37b-54d6-4c8d-b2bc-b17724aed344",
   "metadata": {},
   "source": [
    "#  Q1- Use random liabrary and generate random numbers then create a empty list and generate numbers use append store the empty list "
   ]
  },
  {
   "cell_type": "code",
   "execution_count": 12,
   "id": "788d0d9e-029a-41eb-a051-4b332e6b0075",
   "metadata": {},
   "outputs": [
    {
     "name": "stdout",
     "output_type": "stream",
     "text": [
      "2 3 9 7\n"
     ]
    }
   ],
   "source": [
    "from random import*\n",
    "print (randint(0,3),randint(0,7),randint(0,9),randint(5,10))"
   ]
  },
  {
   "cell_type": "code",
   "execution_count": 3,
   "id": "6c3fcb1f-f10e-4d78-81e5-4b52ff3a0bb2",
   "metadata": {},
   "outputs": [
    {
     "name": "stdout",
     "output_type": "stream",
     "text": [
      "14 23 29 40\n"
     ]
    }
   ],
   "source": [
    "from random import*\n",
    "print (randint(8,16),randint(20,30),randint(25,33),randint(35,45))"
   ]
  },
  {
   "cell_type": "code",
   "execution_count": 4,
   "id": "21890d26-70cf-417c-a42e-b664f05ca808",
   "metadata": {},
   "outputs": [
    {
     "name": "stdout",
     "output_type": "stream",
     "text": [
      "13 22 30 42\n"
     ]
    }
   ],
   "source": [
    "from random import*\n",
    "print (randint(8,16),randint(20,30),randint(25,33),randint(35,45))"
   ]
  },
  {
   "cell_type": "code",
   "execution_count": 5,
   "id": "67ecbaeb-6a88-4b15-85e8-39a2ca843c67",
   "metadata": {},
   "outputs": [],
   "source": [
    "r1= [2,4,0,59,25,33,37,11,27,31,42]"
   ]
  },
  {
   "cell_type": "code",
   "execution_count": 6,
   "id": "a20ab0b1-4997-4d74-ada6-8b14ae3373de",
   "metadata": {},
   "outputs": [
    {
     "name": "stdout",
     "output_type": "stream",
     "text": [
      "[2, 4, 0, 59, 25, 33, 37, 11, 27, 31, 42]\n",
      "<class 'list'>\n"
     ]
    }
   ],
   "source": [
    "print(r1)\n",
    "print(type(r1))"
   ]
  },
  {
   "cell_type": "code",
   "execution_count": 7,
   "id": "f2518f40-e6c4-4b65-a5b5-170041d8428b",
   "metadata": {},
   "outputs": [],
   "source": [
    "A=[]"
   ]
  },
  {
   "cell_type": "code",
   "execution_count": 8,
   "id": "b09b94b6-fe56-4fc2-9873-579952e4fbcf",
   "metadata": {},
   "outputs": [
    {
     "data": {
      "text/plain": [
       "list"
      ]
     },
     "execution_count": 8,
     "metadata": {},
     "output_type": "execute_result"
    }
   ],
   "source": [
    "type(A)"
   ]
  },
  {
   "cell_type": "code",
   "execution_count": 9,
   "id": "b0848386-3ca2-476f-9ffd-591c6151818d",
   "metadata": {},
   "outputs": [],
   "source": [
    "A.append(2)\n",
    "A.append(4)\n",
    "A.append(0)\n",
    "A.append(59)\n",
    "A.append(25)\n",
    "A.append(33)\n",
    "A.append(37)\n",
    "A.append(11)\n",
    "A.append(27)\n",
    "A.append(31)\n",
    "A.append(42)\n"
   ]
  },
  {
   "cell_type": "code",
   "execution_count": 10,
   "id": "cc4810fb-29ea-4157-9ca9-024504d3c1e8",
   "metadata": {},
   "outputs": [
    {
     "name": "stdout",
     "output_type": "stream",
     "text": [
      "[2, 4, 0, 59, 25, 33, 37, 11, 27, 31, 42]\n"
     ]
    }
   ],
   "source": [
    "print(A)"
   ]
  },
  {
   "cell_type": "code",
   "execution_count": 11,
   "id": "e83c96a8-02b4-4c67-bf9b-e05f54d09045",
   "metadata": {},
   "outputs": [
    {
     "data": {
      "text/plain": [
       "list"
      ]
     },
     "execution_count": 11,
     "metadata": {},
     "output_type": "execute_result"
    }
   ],
   "source": [
    "type(A)"
   ]
  },
  {
   "cell_type": "code",
   "execution_count": null,
   "id": "db8920fd-1321-491b-bd0f-e624a85a8892",
   "metadata": {},
   "outputs": [],
   "source": [
    "# create a password using tkinter from user input like : numeric , alphanumeric , alphabetic atleaast length 8."
   ]
  },
  {
   "cell_type": "code",
   "execution_count": null,
   "id": "2430544d-61ec-4c22-9a25-14f68435c7ce",
   "metadata": {},
   "outputs": [
    {
     "name": "stderr",
     "output_type": "stream",
     "text": [
      "Exception in Tkinter callback\n",
      "Traceback (most recent call last):\n",
      "  File \"C:\\Users\\AMAR\\anaconda3\\Anaconda\\Lib\\tkinter\\__init__.py\", line 1948, in __call__\n",
      "    return self.func(*args)\n",
      "           ^^^^^^^^^^^^^^^^\n",
      "  File \"C:\\Users\\AMAR\\AppData\\Local\\Temp\\ipykernel_15300\\54272508.py\", line 7, in generate_password\n",
      "    length = int(length_entry.get())\n",
      "             ^^^^^^^^^^^^^^^^^^^^^^^\n",
      "ValueError: invalid literal for int() with base 10: 'anshuman'\n",
      "Exception in Tkinter callback\n",
      "Traceback (most recent call last):\n",
      "  File \"C:\\Users\\AMAR\\anaconda3\\Anaconda\\Lib\\tkinter\\__init__.py\", line 1948, in __call__\n",
      "    return self.func(*args)\n",
      "           ^^^^^^^^^^^^^^^^\n",
      "  File \"C:\\Users\\AMAR\\AppData\\Local\\Temp\\ipykernel_15300\\54272508.py\", line 7, in generate_password\n",
      "    length = int(length_entry.get())\n",
      "             ^^^^^^^^^^^^^^^^^^^^^^^\n",
      "ValueError: invalid literal for int() with base 10: 'anshuman'\n",
      "Exception in Tkinter callback\n",
      "Traceback (most recent call last):\n",
      "  File \"C:\\Users\\AMAR\\anaconda3\\Anaconda\\Lib\\tkinter\\__init__.py\", line 1948, in __call__\n",
      "    return self.func(*args)\n",
      "           ^^^^^^^^^^^^^^^^\n",
      "  File \"C:\\Users\\AMAR\\AppData\\Local\\Temp\\ipykernel_15300\\54272508.py\", line 7, in generate_password\n",
      "    length = int(length_entry.get())\n",
      "             ^^^^^^^^^^^^^^^^^^^^^^^\n",
      "ValueError: invalid literal for int() with base 10: 'anshuman'\n",
      "Exception in Tkinter callback\n",
      "Traceback (most recent call last):\n",
      "  File \"C:\\Users\\AMAR\\anaconda3\\Anaconda\\Lib\\tkinter\\__init__.py\", line 1948, in __call__\n",
      "    return self.func(*args)\n",
      "           ^^^^^^^^^^^^^^^^\n",
      "  File \"C:\\Users\\AMAR\\AppData\\Local\\Temp\\ipykernel_15300\\54272508.py\", line 7, in generate_password\n",
      "    length = int(length_entry.get())\n",
      "             ^^^^^^^^^^^^^^^^^^^^^^^\n",
      "ValueError: invalid literal for int() with base 10: 'anshuman'\n",
      "Exception in Tkinter callback\n",
      "Traceback (most recent call last):\n",
      "  File \"C:\\Users\\AMAR\\anaconda3\\Anaconda\\Lib\\tkinter\\__init__.py\", line 1948, in __call__\n",
      "    return self.func(*args)\n",
      "           ^^^^^^^^^^^^^^^^\n",
      "  File \"C:\\Users\\AMAR\\AppData\\Local\\Temp\\ipykernel_15300\\54272508.py\", line 7, in generate_password\n",
      "    length = int(length_entry.get())\n",
      "             ^^^^^^^^^^^^^^^^^^^^^^^\n",
      "ValueError: invalid literal for int() with base 10: 'anshuman'\n",
      "Exception in Tkinter callback\n",
      "Traceback (most recent call last):\n",
      "  File \"C:\\Users\\AMAR\\anaconda3\\Anaconda\\Lib\\tkinter\\__init__.py\", line 1948, in __call__\n",
      "    return self.func(*args)\n",
      "           ^^^^^^^^^^^^^^^^\n",
      "  File \"C:\\Users\\AMAR\\AppData\\Local\\Temp\\ipykernel_15300\\54272508.py\", line 7, in generate_password\n",
      "    length = int(length_entry.get())\n",
      "             ^^^^^^^^^^^^^^^^^^^^^^^\n",
      "ValueError: invalid literal for int() with base 10: 'anshuman'\n",
      "Exception in Tkinter callback\n",
      "Traceback (most recent call last):\n",
      "  File \"C:\\Users\\AMAR\\anaconda3\\Anaconda\\Lib\\tkinter\\__init__.py\", line 1948, in __call__\n",
      "    return self.func(*args)\n",
      "           ^^^^^^^^^^^^^^^^\n",
      "  File \"C:\\Users\\AMAR\\AppData\\Local\\Temp\\ipykernel_15300\\54272508.py\", line 7, in generate_password\n",
      "    length = int(length_entry.get())\n",
      "             ^^^^^^^^^^^^^^^^^^^^^^^\n",
      "ValueError: invalid literal for int() with base 10: 'anshuman'\n",
      "Exception in Tkinter callback\n",
      "Traceback (most recent call last):\n",
      "  File \"C:\\Users\\AMAR\\anaconda3\\Anaconda\\Lib\\tkinter\\__init__.py\", line 1948, in __call__\n",
      "    return self.func(*args)\n",
      "           ^^^^^^^^^^^^^^^^\n",
      "  File \"C:\\Users\\AMAR\\AppData\\Local\\Temp\\ipykernel_15300\\54272508.py\", line 7, in generate_password\n",
      "    length = int(length_entry.get())\n",
      "             ^^^^^^^^^^^^^^^^^^^^^^^\n",
      "ValueError: invalid literal for int() with base 10: 'anshuman'\n",
      "Exception in Tkinter callback\n",
      "Traceback (most recent call last):\n",
      "  File \"C:\\Users\\AMAR\\anaconda3\\Anaconda\\Lib\\tkinter\\__init__.py\", line 1948, in __call__\n",
      "    return self.func(*args)\n",
      "           ^^^^^^^^^^^^^^^^\n",
      "  File \"C:\\Users\\AMAR\\AppData\\Local\\Temp\\ipykernel_15300\\54272508.py\", line 7, in generate_password\n",
      "    length = int(length_entry.get())\n",
      "             ^^^^^^^^^^^^^^^^^^^^^^^\n",
      "ValueError: invalid literal for int() with base 10: 'anshuman'\n",
      "Exception in Tkinter callback\n",
      "Traceback (most recent call last):\n",
      "  File \"C:\\Users\\AMAR\\anaconda3\\Anaconda\\Lib\\tkinter\\__init__.py\", line 1948, in __call__\n",
      "    return self.func(*args)\n",
      "           ^^^^^^^^^^^^^^^^\n",
      "  File \"C:\\Users\\AMAR\\AppData\\Local\\Temp\\ipykernel_15300\\54272508.py\", line 7, in generate_password\n",
      "    length = int(length_entry.get())\n",
      "             ^^^^^^^^^^^^^^^^^^^^^^^\n",
      "ValueError: invalid literal for int() with base 10: 'anshuman'\n",
      "Exception in Tkinter callback\n",
      "Traceback (most recent call last):\n",
      "  File \"C:\\Users\\AMAR\\anaconda3\\Anaconda\\Lib\\tkinter\\__init__.py\", line 1948, in __call__\n",
      "    return self.func(*args)\n",
      "           ^^^^^^^^^^^^^^^^\n",
      "  File \"C:\\Users\\AMAR\\AppData\\Local\\Temp\\ipykernel_15300\\54272508.py\", line 7, in generate_password\n",
      "    length = int(length_entry.get())\n",
      "             ^^^^^^^^^^^^^^^^^^^^^^^\n",
      "ValueError: invalid literal for int() with base 10: 'anshuman'\n",
      "Exception in Tkinter callback\n",
      "Traceback (most recent call last):\n",
      "  File \"C:\\Users\\AMAR\\anaconda3\\Anaconda\\Lib\\tkinter\\__init__.py\", line 1948, in __call__\n",
      "    return self.func(*args)\n",
      "           ^^^^^^^^^^^^^^^^\n",
      "  File \"C:\\Users\\AMAR\\AppData\\Local\\Temp\\ipykernel_15300\\54272508.py\", line 7, in generate_password\n",
      "    length = int(length_entry.get())\n",
      "             ^^^^^^^^^^^^^^^^^^^^^^^\n",
      "ValueError: invalid literal for int() with base 10: 'anshuman'\n",
      "Exception in Tkinter callback\n",
      "Traceback (most recent call last):\n",
      "  File \"C:\\Users\\AMAR\\anaconda3\\Anaconda\\Lib\\tkinter\\__init__.py\", line 1948, in __call__\n",
      "    return self.func(*args)\n",
      "           ^^^^^^^^^^^^^^^^\n",
      "  File \"C:\\Users\\AMAR\\AppData\\Local\\Temp\\ipykernel_15300\\54272508.py\", line 7, in generate_password\n",
      "    length = int(length_entry.get())\n",
      "             ^^^^^^^^^^^^^^^^^^^^^^^\n",
      "ValueError: invalid literal for int() with base 10: 'anshuman'\n",
      "Exception in Tkinter callback\n",
      "Traceback (most recent call last):\n",
      "  File \"C:\\Users\\AMAR\\anaconda3\\Anaconda\\Lib\\tkinter\\__init__.py\", line 1948, in __call__\n",
      "    return self.func(*args)\n",
      "           ^^^^^^^^^^^^^^^^\n",
      "  File \"C:\\Users\\AMAR\\AppData\\Local\\Temp\\ipykernel_15300\\54272508.py\", line 7, in generate_password\n",
      "    length = int(length_entry.get())\n",
      "             ^^^^^^^^^^^^^^^^^^^^^^^\n",
      "ValueError: invalid literal for int() with base 10: 'anshuman'\n",
      "Exception in Tkinter callback\n",
      "Traceback (most recent call last):\n",
      "  File \"C:\\Users\\AMAR\\anaconda3\\Anaconda\\Lib\\tkinter\\__init__.py\", line 1948, in __call__\n",
      "    return self.func(*args)\n",
      "           ^^^^^^^^^^^^^^^^\n",
      "  File \"C:\\Users\\AMAR\\AppData\\Local\\Temp\\ipykernel_15300\\54272508.py\", line 7, in generate_password\n",
      "    length = int(length_entry.get())\n",
      "             ^^^^^^^^^^^^^^^^^^^^^^^\n",
      "ValueError: invalid literal for int() with base 10: 'anshuman'\n",
      "Exception in Tkinter callback\n",
      "Traceback (most recent call last):\n",
      "  File \"C:\\Users\\AMAR\\anaconda3\\Anaconda\\Lib\\tkinter\\__init__.py\", line 1948, in __call__\n",
      "    return self.func(*args)\n",
      "           ^^^^^^^^^^^^^^^^\n",
      "  File \"C:\\Users\\AMAR\\AppData\\Local\\Temp\\ipykernel_15300\\54272508.py\", line 7, in generate_password\n",
      "    length = int(length_entry.get())\n",
      "             ^^^^^^^^^^^^^^^^^^^^^^^\n",
      "ValueError: invalid literal for int() with base 10: 'anshuman'\n",
      "Exception in Tkinter callback\n",
      "Traceback (most recent call last):\n",
      "  File \"C:\\Users\\AMAR\\anaconda3\\Anaconda\\Lib\\tkinter\\__init__.py\", line 1948, in __call__\n",
      "    return self.func(*args)\n",
      "           ^^^^^^^^^^^^^^^^\n",
      "  File \"C:\\Users\\AMAR\\AppData\\Local\\Temp\\ipykernel_15300\\54272508.py\", line 7, in generate_password\n",
      "    length = int(length_entry.get())\n",
      "             ^^^^^^^^^^^^^^^^^^^^^^^\n",
      "ValueError: invalid literal for int() with base 10: 'anshuman'\n",
      "Exception in Tkinter callback\n",
      "Traceback (most recent call last):\n",
      "  File \"C:\\Users\\AMAR\\anaconda3\\Anaconda\\Lib\\tkinter\\__init__.py\", line 1948, in __call__\n",
      "    return self.func(*args)\n",
      "           ^^^^^^^^^^^^^^^^\n",
      "  File \"C:\\Users\\AMAR\\AppData\\Local\\Temp\\ipykernel_15300\\54272508.py\", line 7, in generate_password\n",
      "    length = int(length_entry.get())\n",
      "             ^^^^^^^^^^^^^^^^^^^^^^^\n",
      "ValueError: invalid literal for int() with base 10: 'anshuman'\n",
      "Exception in Tkinter callback\n",
      "Traceback (most recent call last):\n",
      "  File \"C:\\Users\\AMAR\\anaconda3\\Anaconda\\Lib\\tkinter\\__init__.py\", line 1948, in __call__\n",
      "    return self.func(*args)\n",
      "           ^^^^^^^^^^^^^^^^\n",
      "  File \"C:\\Users\\AMAR\\AppData\\Local\\Temp\\ipykernel_15300\\54272508.py\", line 7, in generate_password\n",
      "    length = int(length_entry.get())\n",
      "             ^^^^^^^^^^^^^^^^^^^^^^^\n",
      "ValueError: invalid literal for int() with base 10: 'anshuman'\n",
      "Exception in Tkinter callback\n",
      "Traceback (most recent call last):\n",
      "  File \"C:\\Users\\AMAR\\anaconda3\\Anaconda\\Lib\\tkinter\\__init__.py\", line 1948, in __call__\n",
      "    return self.func(*args)\n",
      "           ^^^^^^^^^^^^^^^^\n",
      "  File \"C:\\Users\\AMAR\\AppData\\Local\\Temp\\ipykernel_15300\\54272508.py\", line 7, in generate_password\n",
      "    length = int(length_entry.get())\n",
      "             ^^^^^^^^^^^^^^^^^^^^^^^\n",
      "ValueError: invalid literal for int() with base 10: 'anshuman'\n",
      "Exception in Tkinter callback\n",
      "Traceback (most recent call last):\n",
      "  File \"C:\\Users\\AMAR\\anaconda3\\Anaconda\\Lib\\tkinter\\__init__.py\", line 1948, in __call__\n",
      "    return self.func(*args)\n",
      "           ^^^^^^^^^^^^^^^^\n",
      "  File \"C:\\Users\\AMAR\\AppData\\Local\\Temp\\ipykernel_15300\\54272508.py\", line 7, in generate_password\n",
      "    length = int(length_entry.get())\n",
      "             ^^^^^^^^^^^^^^^^^^^^^^^\n",
      "ValueError: invalid literal for int() with base 10: 'anshuman'\n",
      "Exception in Tkinter callback\n",
      "Traceback (most recent call last):\n",
      "  File \"C:\\Users\\AMAR\\anaconda3\\Anaconda\\Lib\\tkinter\\__init__.py\", line 1948, in __call__\n",
      "    return self.func(*args)\n",
      "           ^^^^^^^^^^^^^^^^\n",
      "  File \"C:\\Users\\AMAR\\AppData\\Local\\Temp\\ipykernel_15300\\54272508.py\", line 7, in generate_password\n",
      "    length = int(length_entry.get())\n",
      "             ^^^^^^^^^^^^^^^^^^^^^^^\n",
      "ValueError: invalid literal for int() with base 10: 'anshuman'\n",
      "Exception in Tkinter callback\n",
      "Traceback (most recent call last):\n",
      "  File \"C:\\Users\\AMAR\\anaconda3\\Anaconda\\Lib\\tkinter\\__init__.py\", line 1948, in __call__\n",
      "    return self.func(*args)\n",
      "           ^^^^^^^^^^^^^^^^\n",
      "  File \"C:\\Users\\AMAR\\AppData\\Local\\Temp\\ipykernel_15300\\54272508.py\", line 7, in generate_password\n",
      "    length = int(length_entry.get())\n",
      "             ^^^^^^^^^^^^^^^^^^^^^^^\n",
      "ValueError: invalid literal for int() with base 10: 'anshuman'\n",
      "Exception in Tkinter callback\n",
      "Traceback (most recent call last):\n",
      "  File \"C:\\Users\\AMAR\\anaconda3\\Anaconda\\Lib\\tkinter\\__init__.py\", line 1948, in __call__\n",
      "    return self.func(*args)\n",
      "           ^^^^^^^^^^^^^^^^\n",
      "  File \"C:\\Users\\AMAR\\AppData\\Local\\Temp\\ipykernel_15300\\54272508.py\", line 7, in generate_password\n",
      "    length = int(length_entry.get())\n",
      "             ^^^^^^^^^^^^^^^^^^^^^^^\n",
      "ValueError: invalid literal for int() with base 10: 'anshuman'\n",
      "Exception in Tkinter callback\n",
      "Traceback (most recent call last):\n",
      "  File \"C:\\Users\\AMAR\\anaconda3\\Anaconda\\Lib\\tkinter\\__init__.py\", line 1948, in __call__\n",
      "    return self.func(*args)\n",
      "           ^^^^^^^^^^^^^^^^\n",
      "  File \"C:\\Users\\AMAR\\AppData\\Local\\Temp\\ipykernel_15300\\54272508.py\", line 7, in generate_password\n",
      "    length = int(length_entry.get())\n",
      "             ^^^^^^^^^^^^^^^^^^^^^^^\n",
      "ValueError: invalid literal for int() with base 10: 'anshuman'\n",
      "Exception in Tkinter callback\n",
      "Traceback (most recent call last):\n",
      "  File \"C:\\Users\\AMAR\\anaconda3\\Anaconda\\Lib\\tkinter\\__init__.py\", line 1948, in __call__\n",
      "    return self.func(*args)\n",
      "           ^^^^^^^^^^^^^^^^\n",
      "  File \"C:\\Users\\AMAR\\AppData\\Local\\Temp\\ipykernel_15300\\54272508.py\", line 7, in generate_password\n",
      "    length = int(length_entry.get())\n",
      "             ^^^^^^^^^^^^^^^^^^^^^^^\n",
      "ValueError: invalid literal for int() with base 10: 'anshuman'\n",
      "Exception in Tkinter callback\n",
      "Traceback (most recent call last):\n",
      "  File \"C:\\Users\\AMAR\\anaconda3\\Anaconda\\Lib\\tkinter\\__init__.py\", line 1948, in __call__\n",
      "    return self.func(*args)\n",
      "           ^^^^^^^^^^^^^^^^\n",
      "  File \"C:\\Users\\AMAR\\AppData\\Local\\Temp\\ipykernel_15300\\54272508.py\", line 7, in generate_password\n",
      "    length = int(length_entry.get())\n",
      "             ^^^^^^^^^^^^^^^^^^^^^^^\n",
      "ValueError: invalid literal for int() with base 10: 'anshuman'\n",
      "Exception in Tkinter callback\n",
      "Traceback (most recent call last):\n",
      "  File \"C:\\Users\\AMAR\\anaconda3\\Anaconda\\Lib\\tkinter\\__init__.py\", line 1948, in __call__\n",
      "    return self.func(*args)\n",
      "           ^^^^^^^^^^^^^^^^\n",
      "  File \"C:\\Users\\AMAR\\AppData\\Local\\Temp\\ipykernel_15300\\54272508.py\", line 7, in generate_password\n",
      "    length = int(length_entry.get())\n",
      "             ^^^^^^^^^^^^^^^^^^^^^^^\n",
      "ValueError: invalid literal for int() with base 10: 'anshuman'\n",
      "Exception in Tkinter callback\n",
      "Traceback (most recent call last):\n",
      "  File \"C:\\Users\\AMAR\\anaconda3\\Anaconda\\Lib\\tkinter\\__init__.py\", line 1948, in __call__\n",
      "    return self.func(*args)\n",
      "           ^^^^^^^^^^^^^^^^\n",
      "  File \"C:\\Users\\AMAR\\AppData\\Local\\Temp\\ipykernel_15300\\54272508.py\", line 7, in generate_password\n",
      "    length = int(length_entry.get())\n",
      "             ^^^^^^^^^^^^^^^^^^^^^^^\n",
      "ValueError: invalid literal for int() with base 10: 'anshuman'\n",
      "Exception in Tkinter callback\n",
      "Traceback (most recent call last):\n",
      "  File \"C:\\Users\\AMAR\\anaconda3\\Anaconda\\Lib\\tkinter\\__init__.py\", line 1948, in __call__\n",
      "    return self.func(*args)\n",
      "           ^^^^^^^^^^^^^^^^\n",
      "  File \"C:\\Users\\AMAR\\AppData\\Local\\Temp\\ipykernel_15300\\54272508.py\", line 7, in generate_password\n",
      "    length = int(length_entry.get())\n",
      "             ^^^^^^^^^^^^^^^^^^^^^^^\n",
      "ValueError: invalid literal for int() with base 10: 'anshuman'\n",
      "Exception in Tkinter callback\n",
      "Traceback (most recent call last):\n",
      "  File \"C:\\Users\\AMAR\\anaconda3\\Anaconda\\Lib\\tkinter\\__init__.py\", line 1948, in __call__\n",
      "    return self.func(*args)\n",
      "           ^^^^^^^^^^^^^^^^\n",
      "  File \"C:\\Users\\AMAR\\AppData\\Local\\Temp\\ipykernel_15300\\54272508.py\", line 7, in generate_password\n",
      "    length = int(length_entry.get())\n",
      "             ^^^^^^^^^^^^^^^^^^^^^^^\n",
      "ValueError: invalid literal for int() with base 10: 'anshuman'\n",
      "Exception in Tkinter callback\n",
      "Traceback (most recent call last):\n",
      "  File \"C:\\Users\\AMAR\\anaconda3\\Anaconda\\Lib\\tkinter\\__init__.py\", line 1948, in __call__\n",
      "    return self.func(*args)\n",
      "           ^^^^^^^^^^^^^^^^\n",
      "  File \"C:\\Users\\AMAR\\AppData\\Local\\Temp\\ipykernel_15300\\54272508.py\", line 7, in generate_password\n",
      "    length = int(length_entry.get())\n",
      "             ^^^^^^^^^^^^^^^^^^^^^^^\n",
      "ValueError: invalid literal for int() with base 10: 'anshuman'\n",
      "Exception in Tkinter callback\n",
      "Traceback (most recent call last):\n",
      "  File \"C:\\Users\\AMAR\\anaconda3\\Anaconda\\Lib\\tkinter\\__init__.py\", line 1948, in __call__\n",
      "    return self.func(*args)\n",
      "           ^^^^^^^^^^^^^^^^\n",
      "  File \"C:\\Users\\AMAR\\AppData\\Local\\Temp\\ipykernel_15300\\54272508.py\", line 7, in generate_password\n",
      "    length = int(length_entry.get())\n",
      "             ^^^^^^^^^^^^^^^^^^^^^^^\n",
      "ValueError: invalid literal for int() with base 10: 'anshuman'\n"
     ]
    }
   ],
   "source": [
    "import tkinter as tk\n",
    "from tkinter import messagebox\n",
    "import string\n",
    "import random\n",
    "\n",
    "def generate_password():\n",
    "    length = int(length_entry.get())\n",
    "    if length < 8:\n",
    "        messagebox.showwarning(\"Invalid Length\", \"Password length must be at least 8 characters.\")\n",
    "        return\n",
    "\n",
    "    password_type = password_type_var.get()\n",
    "    if password_type == \"Numeric\":\n",
    "        characters = string.digits\n",
    "    elif password_type == \"Alphabetic\":\n",
    "        characters = string.ascii_letters\n",
    "    elif password_type == \"Alphanumeric\":\n",
    "        characters = string.ascii_letters + string.digits\n",
    "    else:\n",
    "        messagebox.showerror(\"Invalid Type\", \"Please select a valid password type.\")\n",
    "        return\n",
    "\n",
    "    password = ''.join(random.choice(characters) for _ in range(length))\n",
    "    password_entry.delete(0, tk.END)\n",
    "    password_entry.insert(0, password)\n",
    "\n",
    "# Create the main window\n",
    "root = tk.Tk()\n",
    "root.title(\"Password Generator\")\n",
    "\n",
    "# Create and place the widgets\n",
    "tk.Label(root, text=\"Password Length:\").grid(row=0, column=0, pady=5)\n",
    "length_entry = tk.Entry(root)\n",
    "length_entry.grid(row=0, column=1, pady=5)\n",
    "\n",
    "password_type_var = tk.StringVar(value=\"Numeric\")\n",
    "tk.Label(root, text=\"Password Type:\", bg=\"green\").grid(row=1, column=0, pady=5)\n",
    "tk.Radiobutton(root, text=\"Numeric\", variable=password_type_var, value=\"Numeric\").grid(row=1, column=1, sticky=\"w\")\n",
    "tk.Radiobutton(root, text=\"Alphabetic\", variable=password_type_var, value=\"Alphabetic\").grid(row=2, column=1, sticky=\"w\")\n",
    "tk.Radiobutton(root, text=\"Alphanumeric\", variable=password_type_var, value=\"Alphanumeric\").grid(row=3, column=1, sticky=\"w\")\n",
    "\n",
    "tk.Button(root, text=\"Generate Password\", bg = \"blue\", command=generate_password).grid(row=4, column=0, columnspan=2, pady=10)\n",
    "tk.Label(root, text=\"Generated Password:\").grid(row=5, column=0, pady=5)\n",
    "password_entry = tk.Entry(root)\n",
    "password_entry.grid(row=5, column=1, pady=5)\n",
    "\n",
    "# Start the main event loop\n",
    "root.mainloop()\n"
   ]
  },
  {
   "cell_type": "code",
   "execution_count": null,
   "id": "64a095ea-cbfd-46f9-a923-31056b07d93c",
   "metadata": {},
   "outputs": [],
   "source": []
  },
  {
   "cell_type": "markdown",
   "id": "1f7131ea-1f99-4437-bc16-55d7d2e56099",
   "metadata": {},
   "source": [
    "# set"
   ]
  },
  {
   "cell_type": "code",
   "execution_count": null,
   "id": "fd9845fb-41f9-4e76-83a8-52ad8ca24eec",
   "metadata": {},
   "outputs": [],
   "source": [
    "s = [10,25,22,101,22,30,5,6,59,80,]\n"
   ]
  },
  {
   "cell_type": "code",
   "execution_count": null,
   "id": "c7bded21-7f00-43bd-9f6b-64c301e33c99",
   "metadata": {},
   "outputs": [],
   "source": []
  }
 ],
 "metadata": {
  "kernelspec": {
   "display_name": "Python 3 (ipykernel)",
   "language": "python",
   "name": "python3"
  },
  "language_info": {
   "codemirror_mode": {
    "name": "ipython",
    "version": 3
   },
   "file_extension": ".py",
   "mimetype": "text/x-python",
   "name": "python",
   "nbconvert_exporter": "python",
   "pygments_lexer": "ipython3",
   "version": "3.11.7"
  }
 },
 "nbformat": 4,
 "nbformat_minor": 5
}
