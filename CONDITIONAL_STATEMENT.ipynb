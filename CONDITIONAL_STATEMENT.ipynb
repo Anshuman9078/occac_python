{
 "cells": [
  {
   "cell_type": "markdown",
   "id": "d8fba62d-ba9a-40e5-af58-c8ddb42d76d3",
   "metadata": {},
   "source": [
    "# Block Structure "
   ]
  },
  {
   "cell_type": "code",
   "execution_count": 1,
   "id": "3d0ed652-f9be-49df-a7b5-37aa481ddd19",
   "metadata": {},
   "outputs": [
    {
     "name": "stdout",
     "output_type": "stream",
     "text": [
      "Hi!\n",
      "Anshu\n"
     ]
    }
   ],
   "source": [
    "if 1<2 :\n",
    "    print('Hi!')\n",
    "    print('Anshu')"
   ]
  },
  {
   "cell_type": "code",
   "execution_count": 4,
   "id": "52856d01-3139-4dc4-a27c-42cb5e351796",
   "metadata": {},
   "outputs": [],
   "source": [
    "if 1>2 :\n",
    "    print('Hi!')\n",
    "    print('Anshu')               # if condtion is false so it canot print  "
   ]
  },
  {
   "cell_type": "code",
   "execution_count": 6,
   "id": "9c38ce90-a6eb-47cf-920c-a613ada5f6d7",
   "metadata": {},
   "outputs": [
    {
     "name": "stdin",
     "output_type": "stream",
     "text": [
      "enter name  anshu\n"
     ]
    },
    {
     "name": "stdout",
     "output_type": "stream",
     "text": [
      "hello anshu good morning \n"
     ]
    }
   ],
   "source": [
    "name = input(\"enter name \")\n",
    "if name == \"anshu\" :\n",
    "\n",
    "    print(\"hello anshu good morning \")"
   ]
  },
  {
   "cell_type": "markdown",
   "id": "89fe72c9-14ce-45b1-ad22-4da41a08fd7a",
   "metadata": {},
   "source": [
    "# if-else syntax"
   ]
  },
  {
   "cell_type": "code",
   "execution_count": 7,
   "id": "4dfc1894-5e30-44ba-84f0-7ed4aaceed01",
   "metadata": {},
   "outputs": [
    {
     "name": "stdout",
     "output_type": "stream",
     "text": [
      "first\n"
     ]
    }
   ],
   "source": [
    "if 2<5:\n",
    "    print('first')\n",
    "\n",
    "else:\n",
    "    print('last')"
   ]
  },
  {
   "cell_type": "code",
   "execution_count": 8,
   "id": "0061b0b3-5505-48c3-b436-6c84f0e856d2",
   "metadata": {},
   "outputs": [
    {
     "name": "stdout",
     "output_type": "stream",
     "text": [
      "last\n"
     ]
    }
   ],
   "source": [
    "if 2>5:\n",
    "    print('first')\n",
    "\n",
    "else:\n",
    "    print('last')"
   ]
  },
  {
   "cell_type": "markdown",
   "id": "e8138c2d-98e4-450f-89fe-f725e63849fa",
   "metadata": {},
   "source": [
    "#### Take a variables x and print \" even \" if the number id divisible by 2 ,otherwise print  \"odd \" .\n"
   ]
  },
  {
   "cell_type": "code",
   "execution_count": 10,
   "id": "537efe66-a671-44e7-be31-4647cb862ac9",
   "metadata": {},
   "outputs": [
    {
     "name": "stdin",
     "output_type": "stream",
     "text": [
      "enter a number 22\n"
     ]
    },
    {
     "name": "stdout",
     "output_type": "stream",
     "text": [
      "22 is even number\n"
     ]
    }
   ],
   "source": [
    "x=int(input('enter a number'))\n",
    "if (x%2==0):\n",
    "    print(x, 'is even number')\n",
    "\n",
    "else:\n",
    "    print(x, 'is a odd number ')"
   ]
  },
  {
   "cell_type": "code",
   "execution_count": 11,
   "id": "6f69aac3-3bdd-4fd0-b8b0-2c64fd87a70b",
   "metadata": {},
   "outputs": [
    {
     "name": "stdin",
     "output_type": "stream",
     "text": [
      "enter a name: anhsu\n"
     ]
    },
    {
     "name": "stdout",
     "output_type": "stream",
     "text": [
      "hello  anhsu good morning\n"
     ]
    }
   ],
   "source": [
    "name = input(\"enter a name:\")\n",
    "if name == \"anshu\":\n",
    "    print(\" hello anshu good morning \")\n",
    "\n",
    "else :\n",
    "    print (\"hello \", name ,\"good morning\")"
   ]
  },
  {
   "cell_type": "markdown",
   "id": "10970c29-e03f-4855-9311-32599f0f71da",
   "metadata": {},
   "source": [
    "##### keyword 'in' is used to test if an pitem is in a list \n",
    "#####    keyword 'not' is used to test  can combined with 'in'"
   ]
  },
  {
   "cell_type": "code",
   "execution_count": 13,
   "id": "34b55b2e-620f-42ba-aa6c-e0ba15a2c91e",
   "metadata": {},
   "outputs": [
    {
     "name": "stdout",
     "output_type": "stream",
     "text": [
      "AI\n",
      "ML\n"
     ]
    }
   ],
   "source": [
    "lst = ['one','two','three','four','five']\n",
    "if 'two' in lst:\n",
    "    print ('AI')\n",
    "\n",
    "if 'six' not in lst:\n",
    "    print('ML')"
   ]
  },
  {
   "cell_type": "markdown",
   "id": "28299ef1-490d-4304-91d5-2923272d8775",
   "metadata": {},
   "source": [
    "#####  check given number is postive or negetive "
   ]
  },
  {
   "cell_type": "code",
   "execution_count": 15,
   "id": "f8bcfa9f-ae91-41b5-8a30-be0509975779",
   "metadata": {},
   "outputs": [
    {
     "name": "stdin",
     "output_type": "stream",
     "text": [
      " 1\n"
     ]
    },
    {
     "name": "stdout",
     "output_type": "stream",
     "text": [
      "1 is positive \n"
     ]
    }
   ],
   "source": [
    "a=int(input())\n",
    "if (a>=0):\n",
    "    print(a,'is positive ')\n",
    "else :\n",
    "    print(a, 'is negetive')\n",
    "    "
   ]
  },
  {
   "cell_type": "markdown",
   "id": "f5d716ec-9879-4c6d-ba43-986dbdcbaf26",
   "metadata": {},
   "source": [
    "# if-elif-else syntax"
   ]
  },
  {
   "cell_type": "code",
   "execution_count": 17,
   "id": "3f00cba7-becb-4abb-8cfd-05bc22a46b57",
   "metadata": {},
   "outputs": [
    {
     "name": "stdout",
     "output_type": "stream",
     "text": [
      "middle\n"
     ]
    }
   ],
   "source": [
    "if 2==4 :\n",
    "    print ('first')\n",
    "\n",
    "elif 3==3 :\n",
    "    print('middle')\n",
    "    "
   ]
  },
  {
   "cell_type": "markdown",
   "id": "1f74fa6c-fc51-45aa-9ae1-f69b7a20efe3",
   "metadata": {},
   "source": [
    "### take a variable and print that variable with differnt type if gredation "
   ]
  },
  {
   "cell_type": "code",
   "execution_count": 18,
   "id": "14d705aa-4867-490b-bc5b-23dcdc098b3e",
   "metadata": {},
   "outputs": [
    {
     "name": "stdout",
     "output_type": "stream",
     "text": [
      "grade c\n"
     ]
    }
   ],
   "source": [
    "y=52\n",
    "\n",
    "if y>90:\n",
    "    print('grade A')\n",
    "elif(y>60):\n",
    "    print('grade B')\n",
    "elif(y>40):\n",
    "    print('grade c')\n",
    "else:\n",
    "    print('grade B')\n",
    "\n",
    "    "
   ]
  },
  {
   "cell_type": "code",
   "execution_count": 5,
   "id": "a7c6c8ba-7960-4c7e-b24f-2d8c479c4079",
   "metadata": {},
   "outputs": [
    {
     "name": "stdout",
     "output_type": "stream",
     "text": [
      "i am in elf block\n",
      "x iis negetiive\n"
     ]
    }
   ],
   "source": [
    "\n",
    "x =-99.0\n",
    "if ((x>0) or (x==-100)):\n",
    "    print (\"x is positive value or -100 \")\n",
    "    print(\"i am if loop\")\n",
    "\n",
    "elif (x<0):\n",
    "    print (\"i am in elf block\")\n",
    "    print ('x iis negetiive')\n",
    "\n",
    "\n",
    "else:\n",
    "    print ('x s zero')\n",
    "    "
   ]
  },
  {
   "cell_type": "code",
   "execution_count": 7,
   "id": "be3cbaf4-80ab-442f-9903-5ca98e2a06cf",
   "metadata": {},
   "outputs": [
    {
     "name": "stdin",
     "output_type": "stream",
     "text": [
      "enter your favourite brand FO\n"
     ]
    },
    {
     "name": "stdout",
     "output_type": "stream",
     "text": [
      "buy one get one free \n"
     ]
    }
   ],
   "source": [
    "brand =input(\"enter your favourite brand\")\n",
    "if brand == \"RC\" :\n",
    "    print (\"it is a children brand\")\n",
    "\n",
    "elif brand == \"KF\":\n",
    "    print (\"it is not that much kick\")\n",
    "\n",
    "elif brand ==\"FO\":\n",
    "    print(\"buy one get one free \")\n",
    "\n",
    "else :\n",
    "    print ('other bramd are not recommanded')"
   ]
  },
  {
   "cell_type": "code",
   "execution_count": null,
   "id": "9906d0a9-b526-4d3c-ac17-f1e95038d232",
   "metadata": {},
   "outputs": [],
   "source": []
  },
  {
   "cell_type": "code",
   "execution_count": 8,
   "id": "734ff31d-817e-44e5-b7ee-e65bf65fb18e",
   "metadata": {},
   "outputs": [
    {
     "name": "stdout",
     "output_type": "stream",
     "text": [
      "all is well iin thw world\n"
     ]
    },
    {
     "name": "stderr",
     "output_type": "stream",
     "text": [
      "<>:1: SyntaxWarning: \"is\" with a literal. Did you mean \"==\"?\n",
      "<>:1: SyntaxWarning: \"is\" with a literal. Did you mean \"==\"?\n",
      "C:\\Users\\AMAR\\AppData\\Local\\Temp\\ipykernel_12744\\2914319217.py:1: SyntaxWarning: \"is\" with a literal. Did you mean \"==\"?\n",
      "  if 1 is 3 :\n"
     ]
    }
   ],
   "source": [
    "if 1 is 3 :\n",
    "    print ('how did that happend?')\n",
    "\n",
    "elif 1>3 :\n",
    "    print ('anshuman')\n",
    "\n",
    "else :\n",
    "    print('all is well iin thw world')\n",
    "    "
   ]
  },
  {
   "cell_type": "code",
   "execution_count": 11,
   "id": "d51461e2-1312-4f9b-941b-c7829bccfd04",
   "metadata": {},
   "outputs": [
    {
     "name": "stdin",
     "output_type": "stream",
     "text": [
      "enter the marks  78\n"
     ]
    },
    {
     "name": "stdout",
     "output_type": "stream",
     "text": [
      "78 B grade \n"
     ]
    }
   ],
   "source": [
    "# student grade \n",
    "\n",
    "a =int(float(input(\"enter the marks \")))\n",
    "\n",
    "if (a>85 and a<=100) :\n",
    "    print(a, 'A grade ')\n",
    "elif(a<=85 and a>75) :\n",
    "    print(a, 'B grade ')\n",
    "\n",
    "elif (a<=75 and a>65) :\n",
    "    print(a, 'C grade ')\n",
    "\n",
    "elif(a<=65 and a>55) :\n",
    "    print(a, 'D grade ')\n",
    "\n",
    "elif(a<=55 and a>45) :\n",
    "    print(a, 'A grade ')\n",
    "\n",
    "else :\n",
    "    print(a, 'fail ')"
   ]
  },
  {
   "cell_type": "markdown",
   "id": "74028dd1-da61-463b-ad56-abc51146f61b",
   "metadata": {},
   "source": [
    "### Write a program to find biggest of given 2 numbers from the input console ?\n"
   ]
  },
  {
   "cell_type": "code",
   "execution_count": 13,
   "id": "bbafe032-5a76-4f16-a8e7-4082112d4aa4",
   "metadata": {},
   "outputs": [
    {
     "name": "stdin",
     "output_type": "stream",
     "text": [
      "enter the first number 55\n",
      "enter the second number 65\n"
     ]
    },
    {
     "name": "stdout",
     "output_type": "stream",
     "text": [
      "biggest number is : 65\n"
     ]
    }
   ],
   "source": [
    "n1  = int (input(\"enter the first number\"))\n",
    "n2  = int (input(\"enter the second number\"))\n",
    "\n",
    "if n1 > n2:\n",
    "    print(\"biggest number is :\", n1)\n",
    "\n",
    "else :\n",
    "    print(\"biggest number is :\", n2)\n",
    "    \n",
    "    "
   ]
  },
  {
   "cell_type": "markdown",
   "id": "631b671a-b61f-4ae7-a2cc-99d8cfd2fd52",
   "metadata": {},
   "source": [
    "### write a program to find the largeest of given 3 numbers from the input cinsole ?\n"
   ]
  },
  {
   "cell_type": "code",
   "execution_count": 15,
   "id": "44b8cb86-dc16-4795-a0a4-76d1d7fccc06",
   "metadata": {},
   "outputs": [
    {
     "name": "stdin",
     "output_type": "stream",
     "text": [
      "enter the first number 45\n",
      "enter the second number 55\n",
      "enter the third number 75\n"
     ]
    },
    {
     "name": "stdout",
     "output_type": "stream",
     "text": [
      "biggest number is : 75\n"
     ]
    }
   ],
   "source": [
    "n1  = int (input(\"enter the first number\"))\n",
    "n2  = int (input(\"enter the second number\"))\n",
    "n3 = int (input(\"enter the third number\"))\n",
    "if n1 > n2 and  n1>n3 :\n",
    "    print(\"biggest number is :\", n1)\n",
    "\n",
    "elif n2 >n3:\n",
    "    print ('biggest number is :',n2)\n",
    "\n",
    "else :\n",
    "    print ('biggest number is :',n3)\n"
   ]
  },
  {
   "cell_type": "markdown",
   "id": "22133975-8071-4cc9-9c1b-14a65316457b",
   "metadata": {},
   "source": [
    "### Comparision of strings :   we can use comparsion operator (<,>,<=,>=,) and e quality operators \n",
    "###  (==,!= ) for strings .  Comparision will be performed based on a alphabetical order\n",
    "\n",
    "\n"
   ]
  },
  {
   "cell_type": "code",
   "execution_count": 17,
   "id": "475de1c9-42ea-412a-a204-a703c969ebfe",
   "metadata": {},
   "outputs": [
    {
     "name": "stdin",
     "output_type": "stream",
     "text": [
      "enter the first string 55\n",
      "enter the second string 75\n"
     ]
    },
    {
     "name": "stdout",
     "output_type": "stream",
     "text": [
      "frist string is less than second strings\n"
     ]
    }
   ],
   "source": [
    "s1  = int (input(\"enter the first string\"))\n",
    "s2  = int (input(\"enter the second string\"))\n",
    "\n",
    "if s1==s2:\n",
    "    print ('both string are equal')\n",
    "\n",
    "elif s1<s2 :\n",
    "    print('frist string is less than second strings')\n",
    "\n",
    "else :\n",
    "    print ('first string is greater than second strings ')\n",
    "    \n",
    "\n"
   ]
  },
  {
   "cell_type": "markdown",
   "id": "ca3568cb-fd8c-4d7f-8ba3-07c2b2fd8abb",
   "metadata": {},
   "source": [
    "# NESTED IF STATEMENTS "
   ]
  },
  {
   "cell_type": "code",
   "execution_count": 53,
   "id": "269f8112-58d5-4825-8e53-06e7873ee565",
   "metadata": {},
   "outputs": [
    {
     "name": "stdout",
     "output_type": "stream",
     "text": [
      "positive number\n"
     ]
    }
   ],
   "source": [
    "num = 20\n",
    "\n",
    "if num>=0:\n",
    "    if num ==  0:\n",
    "        print('not')\n",
    "    else :\n",
    "         print(\"positive number\")\n",
    "        \n",
    "\n",
    "else :\n",
    "    print(\"negetive number\")\n",
    "        "
   ]
  },
  {
   "cell_type": "code",
   "execution_count": 54,
   "id": "6ed271ad-29d8-4d72-b0e0-a513658eedc5",
   "metadata": {},
   "outputs": [
    {
     "name": "stdout",
     "output_type": "stream",
     "text": [
      "less than 6\n",
      "greater then 2\n"
     ]
    }
   ],
   "source": [
    "i=5.1\n",
    "if (i < 6):\n",
    "    print ('less than 6')\n",
    "    if i>2:\n",
    "        print ('greater then 2')\n",
    "\n",
    "elif i <5:\n",
    "    print ('less then 5 ')\n",
    "\n",
    "else :\n",
    "    print ('5 or more ')"
   ]
  },
  {
   "cell_type": "markdown",
   "id": "c59fc242-d845-48c0-8b97-4905534912b7",
   "metadata": {},
   "source": [
    "###  next program on bank transaction using conditionalstatement "
   ]
  },
  {
   "cell_type": "code",
   "execution_count": 46,
   "id": "517568d8-3123-4129-8ef3-cc37a85edc05",
   "metadata": {},
   "outputs": [
    {
     "name": "stdin",
     "output_type": "stream",
     "text": [
      "enter your pin 754215\n",
      "withdraw amount: 15000\n"
     ]
    },
    {
     "name": "stdout",
     "output_type": "stream",
     "text": [
      "15000 succesfully transaction completed\n"
     ]
    }
   ],
   "source": [
    "amount = 20000\n",
    "pin = 754215\n",
    "if (int(input ('enter your pin')) == 754215):\n",
    "    with_draw = int(input('withdraw amount:'))\n",
    "    if (with_draw <= amount):\n",
    "        print(with_draw ,'succesfully transaction completed' )\n",
    "    else:\n",
    "        print(with_draw, 'not sufficent funds in your account ')\n",
    "else:\n",
    "        print('invalid pin number')"
   ]
  },
  {
   "cell_type": "markdown",
   "id": "0a43706e-55ca-4fdf-9e01-d7034925f65c",
   "metadata": {},
   "source": [
    "# Write a multiplicton table of 4"
   ]
  },
  {
   "cell_type": "code",
   "execution_count": 1,
   "id": "2f36b30d-a49c-4e34-98b7-9c2602614b4e",
   "metadata": {},
   "outputs": [
    {
     "name": "stdin",
     "output_type": "stream",
     "text": [
      "enter your number 4\n"
     ]
    },
    {
     "name": "stdout",
     "output_type": "stream",
     "text": [
      "( 4 )( 8 )( 12 )( 16 )( 20 )( 24 )( 28 )( 32 )( 36 )( 40 )\n",
      "\n",
      "( 1 )( 2 )( 3 )( 4 )( 5 )( 6 )( 7 )( 8 )( 9 )( 10 )\n",
      "\n",
      "( 4 )( 4 )( 4 )( 4 )( 4 )( 4 )( 4 )( 4 )( 4 )( 4 )"
     ]
    }
   ],
   "source": [
    "a = int(input(\"enter your number\"))\n",
    "b= a\n",
    "for x in range(1,11):\n",
    "    print('(',a*x,')',end=\"\")\n",
    "\n",
    "print('\\n')\n",
    "for x in range  (1,11):\n",
    "     print('(',x,')',end=\"\")\n",
    "\n",
    "print('\\n')\n",
    "for x in range  (1,11):\n",
    "      print('(',b,')',end=\"\")\n",
    "    "
   ]
  },
  {
   "cell_type": "markdown",
   "id": "3f92b89e-53d6-45b7-9346-c887289ba9d0",
   "metadata": {},
   "source": [
    "# Write a program to display * 's in right angle traingled from "
   ]
  },
  {
   "cell_type": "code",
   "execution_count": 5,
   "id": "62956219-b18a-437f-9350-74b8985cc49a",
   "metadata": {},
   "outputs": [
    {
     "name": "stdin",
     "output_type": "stream",
     "text": [
      "enter the no of rows 5\n"
     ]
    },
    {
     "name": "stdout",
     "output_type": "stream",
     "text": [
      "* \n",
      "* * \n",
      "* * * \n",
      "* * * * \n",
      "* * * * * \n",
      "* * * * * * \n",
      "* * * * * * * \n",
      "* * * * * * * * \n",
      "* * * * * * * * * \n"
     ]
    }
   ],
   "source": [
    "x = int (input(\"enter the no of rows\")) \n",
    "for y in range (1,10):\n",
    "    for z in range (1,y+1):\n",
    "        print(\"*\",end=' ')\n",
    "    print()"
   ]
  },
  {
   "cell_type": "code",
   "execution_count": 7,
   "id": "39184eee-ad97-457f-87a0-1482229e3540",
   "metadata": {},
   "outputs": [
    {
     "name": "stdout",
     "output_type": "stream",
     "text": [
      "* * * * * * * * * * \n",
      "* * * * * * * * * \n",
      "* * * * * * * * \n",
      "* * * * * * * \n",
      "* * * * * * \n",
      "* * * * * \n",
      "* * * * \n",
      "* * * \n",
      "* * \n",
      "* \n"
     ]
    }
   ],
   "source": [
    "for y in range (10,0,-1):\n",
    "    for j in range (y):\n",
    "        print(\"*\",end=\" \")\n",
    "    print()\n",
    "\n"
   ]
  },
  {
   "cell_type": "code",
   "execution_count": null,
   "id": "0fb7867a-f572-48f5-9407-8f75c1fa28bc",
   "metadata": {},
   "outputs": [],
   "source": []
  },
  {
   "cell_type": "code",
   "execution_count": null,
   "id": "91a14c5b-dc5f-4257-8381-96ffde44271a",
   "metadata": {},
   "outputs": [],
   "source": []
  }
 ],
 "metadata": {
  "kernelspec": {
   "display_name": "Python 3 (ipykernel)",
   "language": "python",
   "name": "python3"
  },
  "language_info": {
   "codemirror_mode": {
    "name": "ipython",
    "version": 3
   },
   "file_extension": ".py",
   "mimetype": "text/x-python",
   "name": "python",
   "nbconvert_exporter": "python",
   "pygments_lexer": "ipython3",
   "version": "3.11.7"
  }
 },
 "nbformat": 4,
 "nbformat_minor": 5
}
