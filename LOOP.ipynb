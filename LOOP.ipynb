{
 "cells": [
  {
   "cell_type": "code",
   "execution_count": 1,
   "id": "5c1c5902-2d28-4549-8487-8d51e3814a26",
   "metadata": {},
   "outputs": [
    {
     "name": "stdout",
     "output_type": "stream",
     "text": [
      "1\n",
      "2\n",
      "3\n",
      "4\n",
      "5\n"
     ]
    }
   ],
   "source": [
    "seq = [1,2,3,4,5]\n",
    "for i in seq:\n",
    "    print(i)"
   ]
  },
  {
   "cell_type": "code",
   "execution_count": 2,
   "id": "12a61c91-afd7-42f5-88f2-8bc6fe03365f",
   "metadata": {},
   "outputs": [
    {
     "name": "stdout",
     "output_type": "stream",
     "text": [
      "i am at  tcs\n",
      "i am at  infosys\n",
      "i am at  wipro\n",
      "i am at  mind tree\n"
     ]
    }
   ],
   "source": [
    "data = ['tcs','infosys','wipro','mind tree',]\n",
    "for p in data :\n",
    "    print('i am at ', p)"
   ]
  },
  {
   "cell_type": "code",
   "execution_count": 7,
   "id": "2d2721ce-b050-4236-8057-ef89d939afc3",
   "metadata": {},
   "outputs": [
    {
     "name": "stdout",
     "output_type": "stream",
     "text": [
      "tcs* infosys* wipro* mind tree* "
     ]
    }
   ],
   "source": [
    "for p in data : \n",
    "    print(p , end='* ')          # end= is used for row wise data output \n"
   ]
  },
  {
   "cell_type": "markdown",
   "id": "695f36d2-bac1-4d70-a9b8-7afe44466e61",
   "metadata": {},
   "source": [
    "#### To print sumof n whole numbers "
   ]
  },
  {
   "cell_type": "code",
   "execution_count": 19,
   "id": "96744fa8-f0e5-4841-8379-d38594afd174",
   "metadata": {},
   "outputs": [
    {
     "name": "stdout",
     "output_type": "stream",
     "text": [
      "sum: 1\n",
      "sum: 3\n",
      "sum: 6\n",
      "sum: 10\n",
      "sum: 10\n"
     ]
    }
   ],
   "source": [
    "a =[1,2,3,4]\n",
    "sum1 = 0         #innitialization \n",
    "\n",
    "for i in a:\n",
    "    sum1=sum1+i\n",
    "    print('sum:',sum1)\n",
    "\n",
    "print('sum:',sum1)\n"
   ]
  },
  {
   "cell_type": "markdown",
   "id": "3654d3cd-a356-4f29-90b5-b166539809c9",
   "metadata": {},
   "source": [
    "# For LOOP "
   ]
  },
  {
   "cell_type": "markdown",
   "id": "3959647e-f503-4d42-aef7-a52fdf5df379",
   "metadata": {},
   "source": [
    "The for loop is used to iterate over a sequence (list,typle , string) or other iterable objects .\n",
    "Loops continue untill we reach the last item in the sequence .\n",
    "The body of for loop  is separeted form the rest of the code using indentation ."
   ]
  },
  {
   "cell_type": "code",
   "execution_count": 1,
   "id": "a2d0c8ce-c05c-4fbf-829a-e80ab1623e77",
   "metadata": {},
   "outputs": [
    {
     "name": "stdout",
     "output_type": "stream",
     "text": [
      "1\n",
      "2\n",
      "3\n",
      "4\n",
      "5\n"
     ]
    }
   ],
   "source": [
    "seq = [1,2,3,4,5]\n",
    "for i in seq:\n",
    "    print(i)"
   ]
  },
  {
   "cell_type": "code",
   "execution_count": 2,
   "id": "db099141-eb9a-444a-833d-2d6ee7a6f8ef",
   "metadata": {},
   "outputs": [
    {
     "name": "stdout",
     "output_type": "stream",
     "text": [
      "1\n",
      "2\n",
      "3\n",
      "4\n",
      "5\n"
     ]
    }
   ],
   "source": [
    "seq = [1,2,3,4,5]\n",
    "for item in seq:\n",
    "    print(item)"
   ]
  },
  {
   "cell_type": "code",
   "execution_count": 3,
   "id": "9dd0480e-a303-4f83-90e5-54c676f6e1c7",
   "metadata": {},
   "outputs": [
    {
     "name": "stdout",
     "output_type": "stream",
     "text": [
      "apple\n",
      "mango\n",
      "banana\n",
      "cherry\n"
     ]
    }
   ],
   "source": [
    "fruits  = ['apple','mango','banana','cherry']\n",
    "for x in fruits :\n",
    "    print(x)"
   ]
  },
  {
   "cell_type": "code",
   "execution_count": 4,
   "id": "487102ab-debc-4651-aad1-e94aca54d309",
   "metadata": {},
   "outputs": [
    {
     "name": "stdout",
     "output_type": "stream",
     "text": [
      "1 2 3 4 5 "
     ]
    }
   ],
   "source": [
    "list1 = [1,2,3,4,5]\n",
    "for i in list1:              # end=' ' is used for space and anything between the item\n",
    "    print (i,end=' ')"
   ]
  },
  {
   "cell_type": "code",
   "execution_count": 5,
   "id": "f7fe9776-4826-4c35-adb3-e40e0eaa7d3f",
   "metadata": {},
   "outputs": [
    {
     "name": "stdout",
     "output_type": "stream",
     "text": [
      "1*2*3*"
     ]
    }
   ],
   "source": [
    "a= '123'\n",
    "for char in a:\n",
    "    print(char,end='*')"
   ]
  },
  {
   "cell_type": "code",
   "execution_count": 9,
   "id": "3bc68ab7-a4a7-4db3-8759-b10beb11be8d",
   "metadata": {},
   "outputs": [
    {
     "name": "stdout",
     "output_type": "stream",
     "text": [
      "0 hello\n",
      "1 hello\n",
      "2 hello\n",
      "3 hello\n",
      "4 hello\n",
      "5 hello\n",
      "6 hello\n",
      "7 hello\n",
      "8 hello\n",
      "9 hello\n"
     ]
    }
   ],
   "source": [
    "for x in range (10):\n",
    "    print(x,'hello')"
   ]
  },
  {
   "cell_type": "code",
   "execution_count": 7,
   "id": "f47a6477-7059-4839-a893-1afba5bf10ec",
   "metadata": {},
   "outputs": [
    {
     "name": "stdout",
     "output_type": "stream",
     "text": [
      "1 2 3 4 5 6 7 8 9 10 "
     ]
    }
   ],
   "source": [
    "### print 1 to 10 natural numbers \n",
    "for i in range (1,11):\n",
    "    print(i,end=' ')"
   ]
  },
  {
   "cell_type": "markdown",
   "id": "59c72b96-e502-4821-8847-9d4d920adc93",
   "metadata": {},
   "source": [
    "### for loop to print all the numbers between 10 and 50 ( both inclusive )"
   ]
  },
  {
   "cell_type": "code",
   "execution_count": 10,
   "id": "ad3f0f50-4f77-4630-abf9-b308745412e2",
   "metadata": {},
   "outputs": [
    {
     "name": "stdout",
     "output_type": "stream",
     "text": [
      "11\n",
      "12\n",
      "13\n",
      "14\n",
      "15\n",
      "16\n",
      "17\n",
      "18\n",
      "19\n",
      "20\n",
      "21\n",
      "22\n",
      "23\n",
      "24\n",
      "25\n",
      "26\n",
      "27\n",
      "28\n",
      "29\n"
     ]
    }
   ],
   "source": [
    "for i in range (11,30):\n",
    "    print(i)"
   ]
  },
  {
   "cell_type": "markdown",
   "id": "8fd9552f-363f-484d-b0ae-2dd8d72122e6",
   "metadata": {},
   "source": [
    "#### print even numbers in descending order from 1 to 100\n"
   ]
  },
  {
   "cell_type": "code",
   "execution_count": 12,
   "id": "08ad3e55-c5a9-4eac-8108-df0edc5c6f77",
   "metadata": {},
   "outputs": [
    {
     "name": "stdout",
     "output_type": "stream",
     "text": [
      "100,98,96,94,92,90,88,86,84,82,80,78,76,74,72,70,68,66,64,62,60,58,56,54,52,50,48,46,44,42,40,38,36,34,32,30,28,26,24,22,20,18,16,14,12,10,8,6,4,2,"
     ]
    }
   ],
   "source": [
    "for i in range (100,1,-2):\n",
    "    print (i,end=',')"
   ]
  },
  {
   "cell_type": "markdown",
   "id": "af8788e7-7058-407b-93b4-9b9ee2d23dd6",
   "metadata": {},
   "source": [
    "#### write a for loop to print all the even numbers betweens 10 and 50"
   ]
  },
  {
   "cell_type": "code",
   "execution_count": 13,
   "id": "7803c948-5b21-4e6f-913d-ad7c161ef70b",
   "metadata": {},
   "outputs": [
    {
     "name": "stdout",
     "output_type": "stream",
     "text": [
      "10\n",
      "12\n",
      "14\n",
      "16\n",
      "18\n",
      "20\n",
      "22\n",
      "24\n",
      "26\n",
      "28\n",
      "30\n",
      "32\n",
      "34\n",
      "36\n",
      "38\n",
      "40\n",
      "42\n",
      "44\n",
      "46\n",
      "48\n"
     ]
    }
   ],
   "source": [
    "for i in range (10,50,2):\n",
    "    print(i)"
   ]
  },
  {
   "cell_type": "code",
   "execution_count": 14,
   "id": "6896d2e1-8fd9-407e-9f68-6d2673a87458",
   "metadata": {},
   "outputs": [
    {
     "name": "stdout",
     "output_type": "stream",
     "text": [
      "iteam at index  0 i : item1\n",
      "iteam at index  1 i : item2\n",
      "iteam at index  2 i : item3\n",
      "iteam at index  3 i : item4\n"
     ]
    }
   ],
   "source": [
    "items = ['item1','item2','item3','item4']\n",
    "for i in range (len(items)):\n",
    "    print('iteam at index ', i,'i :',items[i])"
   ]
  },
  {
   "cell_type": "markdown",
   "id": "9da9474a-c13c-4739-a482-aba7507b9eeb",
   "metadata": {},
   "source": [
    "#### to print sum of whole numbers "
   ]
  },
  {
   "cell_type": "code",
   "execution_count": 15,
   "id": "0714e45d-93d1-4f84-aa59-b80c67be177e",
   "metadata": {},
   "outputs": [
    {
     "name": "stdout",
     "output_type": "stream",
     "text": [
      "sum: 21\n"
     ]
    }
   ],
   "source": [
    "a = [1,2,3,4,5,6]\n",
    "sum1 = 0     # innitialization\n",
    "\n",
    "for i in a :\n",
    "    sum1= sum1+i\n",
    "\n",
    "print('sum:' , sum1)"
   ]
  },
  {
   "cell_type": "code",
   "execution_count": 16,
   "id": "0bb96dc0-557c-4070-a8e0-6ac5eb0688fc",
   "metadata": {},
   "outputs": [
    {
     "name": "stdout",
     "output_type": "stream",
     "text": [
      "sum: 1\n",
      "sum: 3\n",
      "sum: 6\n",
      "sum: 10\n",
      "sum: 15\n",
      "sum: 21\n"
     ]
    }
   ],
   "source": [
    "a = [1,2,3,4,5,6]\n",
    "sum1 = 0     # innitialization\n",
    "\n",
    "for i in a :\n",
    "    sum1= sum1+i\n",
    "    print('sum:' , sum1)"
   ]
  },
  {
   "cell_type": "markdown",
   "id": "27203992-0d5a-4f07-a93a-dde0956cf9ea",
   "metadata": {},
   "source": [
    "### program toiterate through a list using indexing "
   ]
  },
  {
   "cell_type": "code",
   "execution_count": 17,
   "id": "cfcf8736-c927-4578-a0cd-84a9a6691436",
   "metadata": {},
   "outputs": [
    {
     "name": "stdout",
     "output_type": "stream",
     "text": [
      "I like anshu\n"
     ]
    }
   ],
   "source": [
    "z = ['anshu','suresh','santosh','abhinab','happy']\n",
    "\n",
    "for i in range (1):\n",
    "    print('I like', z[i])"
   ]
  },
  {
   "cell_type": "markdown",
   "id": "26462729-9a8a-46a5-b6bb-52847f8d0f94",
   "metadata": {},
   "source": [
    "#### write a python program to get all the even numbers from 11 to 50 (inclusive )\n"
   ]
  },
  {
   "cell_type": "code",
   "execution_count": 21,
   "id": "2cca5b40-a9c8-4001-b7ea-4cec175561a1",
   "metadata": {},
   "outputs": [
    {
     "name": "stdin",
     "output_type": "stream",
     "text": [
      "enter lower bounds values:  20\n",
      "enter upper bounds values:  50\n"
     ]
    },
    {
     "name": "stdout",
     "output_type": "stream",
     "text": [
      "20,22,24,26,28,30,32,34,36,38,40,42,44,46,48,50,"
     ]
    }
   ],
   "source": [
    "lb = int(input('enter lower bounds values: '))\n",
    "ub = int(input('enter upper bounds values: '))\n",
    "\n",
    "for i in range (lb,ub+1):\n",
    "    if i%2==0:\n",
    "        print(i,end=',')"
   ]
  },
  {
   "cell_type": "code",
   "execution_count": 23,
   "id": "f618765a-c120-42aa-ba7f-f43b4c3e4432",
   "metadata": {},
   "outputs": [
    {
     "name": "stdin",
     "output_type": "stream",
     "text": [
      "enter a number: 6\n"
     ]
    },
    {
     "name": "stdout",
     "output_type": "stream",
     "text": [
      "* * * * * * "
     ]
    }
   ],
   "source": [
    "n = int(input('enter a number:'))\n",
    "for i in range(n):                # print *\n",
    "    print(\"*\",end=\" \")"
   ]
  },
  {
   "cell_type": "markdown",
   "id": "6c6d9d72-d7ac-4234-8c4f-9fe23e75191e",
   "metadata": {},
   "source": [
    "####  python program sum of even numbers in between given range "
   ]
  },
  {
   "cell_type": "code",
   "execution_count": 24,
   "id": "f3f370cf-383d-42b3-9255-e610eaf89ec3",
   "metadata": {},
   "outputs": [
    {
     "name": "stdin",
     "output_type": "stream",
     "text": [
      " 4\n",
      " 24\n"
     ]
    },
    {
     "name": "stdout",
     "output_type": "stream",
     "text": [
      "4 6 8 10 12 14 16 18 20 22 24 \n",
      "sum is  154\n"
     ]
    }
   ],
   "source": [
    "lb=int(input())\n",
    "ub=int(input())\n",
    "s=0\n",
    "\n",
    "for i in range(lb,ub+1):\n",
    "    if (i%2==0):\n",
    "        s=s+i\n",
    "        print(i,end=' ')\n",
    "\n",
    "print('\\nsum is ', s )"
   ]
  },
  {
   "cell_type": "markdown",
   "id": "93854e42-b883-482a-a9a4-64d7c17f23ee",
   "metadata": {},
   "source": [
    "#### write program that gives numbers between 1 to 100 whic are divisible by 5 "
   ]
  },
  {
   "cell_type": "code",
   "execution_count": 25,
   "id": "7cdeb7e1-720a-4043-afab-cd3ed2e1ed37",
   "metadata": {},
   "outputs": [
    {
     "name": "stdout",
     "output_type": "stream",
     "text": [
      "5\n",
      "10\n",
      "15\n",
      "20\n",
      "25\n",
      "30\n",
      "40\n",
      "45\n",
      "50\n",
      "55\n",
      "60\n",
      "65\n",
      "75\n",
      "80\n",
      "85\n",
      "90\n",
      "95\n"
     ]
    }
   ],
   "source": [
    "for num in range (1,100):\n",
    "    if  num%5 == 0 and num%7!=0 :\n",
    "        print(num)\n",
    "        \n",
    "        "
   ]
  },
  {
   "cell_type": "markdown",
   "id": "358724b6-bf83-4b3b-8491-b71e6e461cc4",
   "metadata": {},
   "source": [
    "#### program to print multiple mathematical tables "
   ]
  },
  {
   "cell_type": "code",
   "execution_count": 28,
   "id": "76f735e6-9a89-4c0f-96c5-19304d190a69",
   "metadata": {},
   "outputs": [
    {
     "name": "stdin",
     "output_type": "stream",
     "text": [
      "enter multiplication table: 6\n"
     ]
    },
    {
     "name": "stdout",
     "output_type": "stream",
     "text": [
      "6 * 1 = 6\n",
      "6 * 2 = 12\n",
      "6 * 3 = 18\n",
      "6 * 4 = 24\n",
      "6 * 5 = 30\n",
      "6 * 6 = 36\n",
      "6 * 7 = 42\n",
      "6 * 8 = 48\n",
      "6 * 9 = 54\n",
      "6 * 10 = 60\n"
     ]
    }
   ],
   "source": [
    "a = int (input('enter multiplication table:'))\n",
    "for i in range (1,11):\n",
    "    print(a,'*',i,'=',a*i)"
   ]
  },
  {
   "cell_type": "code",
   "execution_count": 30,
   "id": "16c78436-7084-408e-a7a1-ec6d93006d8f",
   "metadata": {},
   "outputs": [
    {
     "name": "stdin",
     "output_type": "stream",
     "text": [
      "enter the number  4\n"
     ]
    },
    {
     "name": "stdout",
     "output_type": "stream",
     "text": [
      "* * * * * * * * * * * * * * * * * * * * "
     ]
    }
   ],
   "source": [
    "n = int (input( 'enter the number '))\n",
    "for i in range (n):\n",
    "    for j in range (n+1,):\n",
    "        print('*',end=' ')"
   ]
  },
  {
   "cell_type": "markdown",
   "id": "cf803db5-3aeb-4c87-b4f5-181d965d4862",
   "metadata": {},
   "source": [
    "# LIST COMPREHENSION"
   ]
  },
  {
   "cell_type": "code",
   "execution_count": 34,
   "id": "9f04a55d-7562-4253-9926-71613a1e2b9b",
   "metadata": {},
   "outputs": [
    {
     "name": "stdout",
     "output_type": "stream",
     "text": [
      "[0, 1, 4, 9, 16, 25, 36, 49, 64, 81]\n"
     ]
    }
   ],
   "source": [
    "# without list comprehension \n",
    "squares = []\n",
    "\n",
    "for i in range(10):\n",
    "    squares.append(i**2)     # list append \n",
    "\n",
    "print(squares)"
   ]
  },
  {
   "cell_type": "code",
   "execution_count": 35,
   "id": "15b505a2-c30f-4a6e-94b4-6b303dfc61c0",
   "metadata": {},
   "outputs": [
    {
     "name": "stdout",
     "output_type": "stream",
     "text": [
      "[0, 1, 4, 9, 16, 25, 36, 49, 64, 81]\n"
     ]
    }
   ],
   "source": [
    "# using list comprehension \n",
    "\n",
    "squares =[i**2 for i in range(10)]\n",
    "print (squares)"
   ]
  },
  {
   "cell_type": "code",
   "execution_count": 35,
   "id": "c7ba827b-c16f-4571-a8b0-f269ac669a4f",
   "metadata": {},
   "outputs": [
    {
     "data": {
      "text/plain": [
       "[6, 6, 8, 8]"
      ]
     },
     "execution_count": 35,
     "metadata": {},
     "output_type": "execute_result"
    }
   ],
   "source": [
    "movies = ['horrer','comedy','romantic','suspence']\n",
    "[len(movie) for movie in movies ]"
   ]
  },
  {
   "cell_type": "code",
   "execution_count": 37,
   "id": "3e92eeda-6c04-4c1a-8cd9-c2d3a40dd7dc",
   "metadata": {},
   "outputs": [
    {
     "data": {
      "text/plain": [
       "[2, 4, 5, 8, 3, 5]"
      ]
     },
     "execution_count": 37,
     "metadata": {},
     "output_type": "execute_result"
    }
   ],
   "source": [
    "list2 = [-2,-4,-5,-8,3,5]\n",
    "absv = [abs(x) for x in list2]\n",
    "absv"
   ]
  },
  {
   "cell_type": "code",
   "execution_count": 38,
   "id": "75fc9d76-167c-4404-86f4-fd4b5b5bfbc9",
   "metadata": {},
   "outputs": [
    {
     "data": {
      "text/plain": [
       "[2, 4, 5, 8, 27, 125]"
      ]
     },
     "execution_count": 38,
     "metadata": {},
     "output_type": "execute_result"
    }
   ],
   "source": [
    "list2 = [-2,-4,-5,-8,3,5]\n",
    "both = []\n",
    "for x in list2 :\n",
    "    if x<0:\n",
    "        both.append (abs(x))\n",
    "    else:\n",
    "        both.append (x**3)\n",
    "\n",
    "both"
   ]
  },
  {
   "cell_type": "code",
   "execution_count": 39,
   "id": "8e8073e3-55df-45c7-90f2-0446e09d0b79",
   "metadata": {},
   "outputs": [
    {
     "data": {
      "text/plain": [
       "[2, 4, 5, 8, 27, 125]"
      ]
     },
     "execution_count": 39,
     "metadata": {},
     "output_type": "execute_result"
    }
   ],
   "source": [
    "# list comprehension \n",
    "\n",
    "[abs (x) if x<0 else x**3 for x in list2]"
   ]
  },
  {
   "cell_type": "markdown",
   "id": "e576d03c-6559-4882-9caf-94a2ccbd2aac",
   "metadata": {},
   "source": [
    "# SET COMPREHENSION"
   ]
  },
  {
   "cell_type": "code",
   "execution_count": 41,
   "id": "e69367d4-828c-4bf9-9ebb-5efcc3212e35",
   "metadata": {},
   "outputs": [
    {
     "data": {
      "text/plain": [
       "{6, 8}"
      ]
     },
     "execution_count": 41,
     "metadata": {},
     "output_type": "execute_result"
    }
   ],
   "source": [
    "movies = ['horrer','comedy','romantic','suspence']\n",
    "a=set()\n",
    "for i in movies :\n",
    "    a.add(len(i))\n",
    "\n",
    "a"
   ]
  },
  {
   "cell_type": "code",
   "execution_count": 6,
   "id": "8a1f80cc-10bd-4884-8fb3-0b1be7c8f0ca",
   "metadata": {},
   "outputs": [
    {
     "data": {
      "text/plain": [
       "{6, 8}"
      ]
     },
     "execution_count": 6,
     "metadata": {},
     "output_type": "execute_result"
    }
   ],
   "source": [
    "# comprehension \n",
    "\n",
    "movies = ['horrer','comedy','romantic','suspence']\n",
    "                                # In set same number is not allowed\n",
    "{len(i) for i in movies }"
   ]
  },
  {
   "cell_type": "markdown",
   "id": "be71938b-e7f7-405c-a9c5-18523db7268e",
   "metadata": {},
   "source": [
    "# ENUMURATE "
   ]
  },
  {
   "cell_type": "code",
   "execution_count": 10,
   "id": "b72b2250-88c7-4166-b479-fa8f8f1dbf33",
   "metadata": {},
   "outputs": [
    {
     "data": {
      "text/plain": [
       "{0: 'departed', 1: 'titanic', 2: 'aviator ', 3: 'avatar', 4: '2012'}"
      ]
     },
     "execution_count": 10,
     "metadata": {},
     "output_type": "execute_result"
    }
   ],
   "source": [
    "movies = {'departed':9,'titanic':9.2,'aviator ':8.7,'avatar':9.1,'2012':8.6}\n",
    "{movie: rating for movie ,rating in enumerate(movies) }\n"
   ]
  },
  {
   "cell_type": "markdown",
   "id": "deeb7562-4802-4737-adc0-b51dfdca76de",
   "metadata": {},
   "source": [
    "\n",
    "# python break statement"
   ]
  },
  {
   "cell_type": "markdown",
   "id": "91d05f2f-a5b5-4d5e-afe0-0346936280d4",
   "metadata": {},
   "source": [
    "In python , break and continue statements can after the flow of a normal loop.\n",
    "\n",
    "Loops iterate over a block of code untill test expression is false , but somestimes we wish\n",
    "to terminate  the currentt iteration or even the whole loop without checking test expresiion \n",
    "\n",
    "\n",
    "\n"
   ]
  },
  {
   "cell_type": "code",
   "execution_count": 29,
   "id": "56dbe649-702c-412b-8034-0705651c3a94",
   "metadata": {},
   "outputs": [],
   "source": [
    "numbers = [1,2,3,4,5]\n",
    "for num in numbers :\n",
    "    if num== 4:\n",
    "        break\n",
    "        print(num)"
   ]
  },
  {
   "cell_type": "code",
   "execution_count": 31,
   "id": "c067c252-7745-4dc5-bca3-3486cc2ffc5d",
   "metadata": {},
   "outputs": [
    {
     "name": "stdout",
     "output_type": "stream",
     "text": [
      "in every loop 1\n",
      "in every loop 2\n",
      "in every loop 3\n",
      "in every loop 5\n",
      "in every loop 6\n"
     ]
    }
   ],
   "source": [
    "numbers = [1,2,3,4,5,6]\n",
    "for num in numbers :\n",
    "    if num== 4:\n",
    "        continue \n",
    "    print('in every loop',num)"
   ]
  },
  {
   "cell_type": "code",
   "execution_count": 32,
   "id": "00a00afb-e7ec-489c-b635-4757f82f51e9",
   "metadata": {},
   "outputs": [
    {
     "name": "stdout",
     "output_type": "stream",
     "text": [
      "this is the 1st num 4\n",
      "6\n"
     ]
    }
   ],
   "source": [
    "numbers = [1,2,3,4,5,6]\n",
    "for num in numbers :\n",
    "    if num== 4:\n",
    "        print('this is the 1st num',num)\n",
    "        continue \n",
    "        print('this is the 2nd num',num) \n",
    "\n",
    "numbers = [1,2,3,4,5,6]\n",
    "print ( num )"
   ]
  },
  {
   "cell_type": "code",
   "execution_count": 33,
   "id": "a78f11b1-59d4-4b59-98e5-72f320f8eab3",
   "metadata": {},
   "outputs": [
    {
     "name": "stdout",
     "output_type": "stream",
     "text": [
      "6\n"
     ]
    }
   ],
   "source": [
    "numbers = [1,2,3,4,5,6]\n",
    "for num in numbers :\n",
    "    if num== 4:\n",
    "        continue \n",
    "print ( num )"
   ]
  },
  {
   "cell_type": "code",
   "execution_count": null,
   "id": "6bf85ab3-ac6b-4847-a437-e3caa4aa2164",
   "metadata": {},
   "outputs": [],
   "source": []
  },
  {
   "cell_type": "code",
   "execution_count": null,
   "id": "8f7c4869-7c2b-4936-968e-dd703ae5ba51",
   "metadata": {},
   "outputs": [],
   "source": []
  },
  {
   "cell_type": "markdown",
   "id": "982cd2d0-0863-410c-bc52-dd7c6dca8623",
   "metadata": {},
   "source": [
    "# python continue statement"
   ]
  },
  {
   "cell_type": "markdown",
   "id": "f0567689-8a34-40db-908c-166289151eed",
   "metadata": {},
   "source": [
    "### flow chat"
   ]
  },
  {
   "cell_type": "markdown",
   "id": "ba2f90b2-fdd2-4f35-9bd2-d8f595e8316a",
   "metadata": {},
   "source": [
    "#### print odd numbers present in a list\n"
   ]
  },
  {
   "cell_type": "code",
   "execution_count": 46,
   "id": "92240bda-a685-4861-99cc-57da576f8114",
   "metadata": {},
   "outputs": [
    {
     "name": "stdout",
     "output_type": "stream",
     "text": [
      "1\n",
      "3\n",
      "5\n"
     ]
    }
   ],
   "source": [
    "numbers = [1,2,3,4,5]\n",
    "\n",
    "for num in numbers :\n",
    "    if num % 2 == 0 :\n",
    "        continue \n",
    "    print (num)"
   ]
  },
  {
   "cell_type": "markdown",
   "id": "4a5aeb4e-7ac6-46de-8367-af1a79f2d67e",
   "metadata": {},
   "source": [
    "# for loop with else "
   ]
  },
  {
   "cell_type": "code",
   "execution_count": 47,
   "id": "d6ccf4e6-8960-4b5b-b8a0-934e7619824c",
   "metadata": {},
   "outputs": [
    {
     "name": "stdout",
     "output_type": "stream",
     "text": [
      "1\n",
      "2\n",
      "3\n",
      "4\n",
      "5\n",
      "no items left in the list\n"
     ]
    }
   ],
   "source": [
    "numbers = [1,2,3,4,5]\n",
    "\n",
    "# iterating over the list\n",
    "for item in numbers :\n",
    "    print(item)\n",
    "\n",
    "else:\n",
    "    print(\"no items left in the list\")"
   ]
  },
  {
   "cell_type": "code",
   "execution_count": 48,
   "id": "67779887-ffb9-4fa9-863d-3242951a8c9c",
   "metadata": {},
   "outputs": [
    {
     "name": "stdout",
     "output_type": "stream",
     "text": [
      "2\n"
     ]
    }
   ],
   "source": [
    "numbers = [1,2,3,4,5]\n",
    "\n",
    "for item in numbers :\n",
    "    if item%2 == 0:\n",
    "        print(item)\n",
    "        break\n",
    "        "
   ]
  },
  {
   "cell_type": "code",
   "execution_count": 49,
   "id": "f02801a8-9245-446b-8d00-2bc75e2149e6",
   "metadata": {},
   "outputs": [
    {
     "name": "stdout",
     "output_type": "stream",
     "text": [
      "2\n",
      "4\n"
     ]
    }
   ],
   "source": [
    "numbers = [1,2,3,4,5]\n",
    "\n",
    "for item in numbers :\n",
    "    if item%2 == 0:\n",
    "        print(item)"
   ]
  },
  {
   "cell_type": "markdown",
   "id": "1977cace-e716-4cba-bdc3-07854636ba0d",
   "metadata": {},
   "source": [
    "# WHILE LOOP"
   ]
  },
  {
   "cell_type": "code",
   "execution_count": 50,
   "id": "5fea3122-20d4-4590-b560-ddcd82aec27b",
   "metadata": {},
   "outputs": [
    {
     "name": "stdout",
     "output_type": "stream",
     "text": [
      "1\n",
      "2\n",
      "3\n",
      "4\n",
      "5\n",
      "6\n"
     ]
    }
   ],
   "source": [
    "x = 0 \n",
    "while x<6:\n",
    "    x=x+1\n",
    "    print(x)"
   ]
  },
  {
   "cell_type": "code",
   "execution_count": 55,
   "id": "68ca39a5-c917-454e-9af9-d256d7b16df2",
   "metadata": {},
   "outputs": [
    {
     "name": "stdout",
     "output_type": "stream",
     "text": [
      "x is  0\n",
      "x is  1\n",
      "x is  2\n",
      "x is  3\n",
      "x is  4\n",
      "x is  5\n",
      "x is  6\n",
      "x is  7\n"
     ]
    }
   ],
   "source": [
    "x=0\n",
    "while x < 8:\n",
    "    print('x is ', x)\n",
    "    x = x+1"
   ]
  },
  {
   "cell_type": "code",
   "execution_count": 59,
   "id": "f7dc96fb-66af-42a7-99fd-cb569dd4828b",
   "metadata": {},
   "outputs": [],
   "source": [
    "x = 0\n",
    "while x >  1 :\n",
    "    print(\"x is {}\".format(x))\n",
    "    x-=1"
   ]
  },
  {
   "cell_type": "code",
   "execution_count": 60,
   "id": "e9764921-efae-44bd-a148-c639ab321ac8",
   "metadata": {},
   "outputs": [
    {
     "name": "stdout",
     "output_type": "stream",
     "text": [
      "1520\n"
     ]
    }
   ],
   "source": [
    "i = 100\n",
    "s =20\n",
    "\n",
    "while i<=500:\n",
    "    s=s+i\n",
    "    i=i+100\n",
    "\n",
    "print(s)"
   ]
  },
  {
   "cell_type": "code",
   "execution_count": 62,
   "id": "e86556c7-7fdb-4728-bc5b-f7b0c40c4e24",
   "metadata": {},
   "outputs": [
    {
     "name": "stdout",
     "output_type": "stream",
     "text": [
      "6\n"
     ]
    }
   ],
   "source": [
    "i = 0\n",
    "s =0\n",
    "\n",
    "while i<=5:\n",
    "    s=s+i\n",
    "    i+=2\n",
    "\n",
    "print(s)"
   ]
  },
  {
   "cell_type": "code",
   "execution_count": 63,
   "id": "8b9859d3-0067-4275-b141-403ce6242778",
   "metadata": {},
   "outputs": [
    {
     "name": "stdout",
     "output_type": "stream",
     "text": [
      "0\n",
      "5\n"
     ]
    }
   ],
   "source": [
    "x = 0\n",
    "print(x)\n",
    "\n",
    "while x < 5 :\n",
    "    x = x +1\n",
    "\n",
    "print(x)"
   ]
  },
  {
   "cell_type": "code",
   "execution_count": 64,
   "id": "5ddef9ee-c820-4036-91f2-528ca9143770",
   "metadata": {},
   "outputs": [
    {
     "name": "stdout",
     "output_type": "stream",
     "text": [
      "0 1 2 3 4 5 6 7 8 9 10 11 12 13 14 15 16 17 18 19 20 21 22 23 24 25 26 27 28 29 30 31 32 33 34 35 36 37 38 39 40 41 42 43 44 45 46 47 48 49 50 51 52 53 54 55 56 57 58 59 60 61 62 63 64 65 66 67 68 69 70 71 72 73 74 75 76 77 78 79 80 81 82 83 84 85 86 87 88 89 90 91 92 93 94 95 96 97 98 99 100 "
     ]
    }
   ],
   "source": [
    "#### program to print 0 to 100 (inclusive) whole numbers \n",
    "i = 0 \n",
    "while (i<=100):\n",
    "    print(i,end=' ')\n",
    "    i=i+1"
   ]
  },
  {
   "cell_type": "code",
   "execution_count": 66,
   "id": "67218846-9fb7-4629-a91f-f6523926c37a",
   "metadata": {},
   "outputs": [
    {
     "name": "stdin",
     "output_type": "stream",
     "text": [
      "enter n: 6\n"
     ]
    },
    {
     "name": "stdout",
     "output_type": "stream",
     "text": [
      "the sum is  21\n"
     ]
    }
   ],
   "source": [
    "#### program  to \"n\" odd  natural nummbers --> sum = 1+2+3....+n\n",
    "\n",
    "n = int (input(\"enter n:\"))\n",
    "sum = 0 \n",
    "i=1\n",
    "\n",
    "while i <= n:\n",
    "    sum = sum + i\n",
    "    i = i +1 \n",
    "print('the sum is ', sum)"
   ]
  },
  {
   "cell_type": "code",
   "execution_count": 68,
   "id": "eb1abc1d-95c1-478b-9893-f1e4a579f767",
   "metadata": {},
   "outputs": [
    {
     "name": "stdout",
     "output_type": "stream",
     "text": [
      "product is 15 :\n"
     ]
    }
   ],
   "source": [
    "#### find the product of all numbers present in a list\n",
    "\n",
    "lst = [1,2,3,4,5,6]\n",
    "product = 1 \n",
    "index = 0 \n",
    "\n",
    "while index < len(lst):\n",
    "    product *= lst[index]\n",
    "    index += 2 \n",
    "\n",
    "print(\"product is {} :\".format(product))"
   ]
  },
  {
   "cell_type": "code",
   "execution_count": 62,
   "id": "7999b064-6598-47c3-adbf-80fcd92c7408",
   "metadata": {},
   "outputs": [
    {
     "name": "stdin",
     "output_type": "stream",
     "text": [
      "enter a value : 5\n",
      "enter a value : 7\n",
      "enter a value : 8\n",
      "enter a value : done\n"
     ]
    },
    {
     "name": "stdout",
     "output_type": "stream",
     "text": [
      "20\n"
     ]
    }
   ],
   "source": [
    "# ask  the use to enter the nmbers and sum it \n",
    "\n",
    "s = 0\n",
    "while True :\n",
    "    a = input (\"enter a value :\")\n",
    "    if (a == 'done'):\n",
    "        break\n",
    "    s= s+int(a)\n",
    "    \n",
    "print(s)\n",
    "\n"
   ]
  },
  {
   "cell_type": "markdown",
   "id": "4354f303-4282-405b-98da-94361da4228c",
   "metadata": {},
   "source": [
    " #### prratice "
   ]
  },
  {
   "cell_type": "code",
   "execution_count": 53,
   "id": "b339ca39-3820-4f12-b825-320dc74b2ec7",
   "metadata": {},
   "outputs": [],
   "source": [
    "a = 0\n",
    "while a >= 10 :\n",
    "    print(a)\n",
    "    a= a+1\n",
    "   \n",
    "     \n"
   ]
  },
  {
   "cell_type": "markdown",
   "id": "9164764c-498c-47fc-85d1-a862b719f9a8",
   "metadata": {},
   "source": [
    "### Take  a number of user input and get the factorial of that number usiing for loop or while loop ?"
   ]
  },
  {
   "cell_type": "code",
   "execution_count": 1,
   "id": "cb88f82d-bf05-44dd-9e0d-716816a65a6b",
   "metadata": {},
   "outputs": [
    {
     "name": "stdin",
     "output_type": "stream",
     "text": [
      "Enter a number:  5\n"
     ]
    },
    {
     "name": "stdout",
     "output_type": "stream",
     "text": [
      "The factorial of 5 using for loop is: 120\n"
     ]
    }
   ],
   "source": [
    "# using  for  loop \n",
    "\n",
    "def factorial_for_loop(n):\n",
    "    factorial = 1\n",
    "    for i in range(1, n + 1):\n",
    "        factorial *= i\n",
    "    return factorial\n",
    "\n",
    "number = int(input(\"Enter a number: \"))\n",
    "print(f\"The factorial of {number} using for loop is: {factorial_for_loop(number)}\")\n"
   ]
  },
  {
   "cell_type": "code",
   "execution_count": 6,
   "id": "aec50a9e-84bf-4a20-a690-49777a1247df",
   "metadata": {},
   "outputs": [
    {
     "name": "stdin",
     "output_type": "stream",
     "text": [
      "Enter a number:  5\n"
     ]
    },
    {
     "name": "stdout",
     "output_type": "stream",
     "text": [
      "The factorial of 5 using while loop is: 120\n"
     ]
    }
   ],
   "source": [
    "#  USING WHILE LOOP\n",
    "\n",
    "def factorial_while_loop(n):\n",
    "    factorial = 1\n",
    "    while n > 0:\n",
    "        factorial *= n\n",
    "        n -= 1\n",
    "    return factorial\n",
    "\n",
    "# Example usage:\n",
    "number = int(input(\"Enter a number: \"))\n",
    "print(f\"The factorial of {number} using while loop is: {factorial_while_loop(number)}\")\n"
   ]
  },
  {
   "cell_type": "code",
   "execution_count": 8,
   "id": "7cdb3a40-23ad-414b-b72e-c05bb912126f",
   "metadata": {},
   "outputs": [
    {
     "name": "stdin",
     "output_type": "stream",
     "text": [
      "Enter a number:  0\n"
     ]
    },
    {
     "name": "stdout",
     "output_type": "stream",
     "text": [
      "The factorial of 0 using while loop is: 1\n"
     ]
    }
   ],
   "source": [
    "def factorial_while_loop(n):\n",
    "    factorial = 1\n",
    "    while n > 0:\n",
    "        factorial *= n          \n",
    "        n -= 1\n",
    "    return factorial\n",
    "\n",
    "# Example usage:\n",
    "number = int(input(\"Enter a number: \"))\n",
    "print(f\"The factorial of {number} using while loop is: {factorial_while_loop(number)}\")\n"
   ]
  },
  {
   "cell_type": "code",
   "execution_count": null,
   "id": "ffa886e0-ec12-4cdc-823d-1e56d22083a0",
   "metadata": {},
   "outputs": [],
   "source": []
  },
  {
   "cell_type": "code",
   "execution_count": null,
   "id": "3beab1de-e200-4ba0-a904-3a18d45be9a8",
   "metadata": {},
   "outputs": [],
   "source": []
  },
  {
   "cell_type": "code",
   "execution_count": null,
   "id": "ed025a00-9383-44eb-84ed-fb85242f4f2c",
   "metadata": {},
   "outputs": [],
   "source": []
  },
  {
   "cell_type": "code",
   "execution_count": null,
   "id": "949ca2ad-4148-4a9b-bdb4-a4d4e434a538",
   "metadata": {},
   "outputs": [],
   "source": []
  },
  {
   "cell_type": "code",
   "execution_count": null,
   "id": "bac18c04-360b-45a4-821d-eea79c26cf85",
   "metadata": {},
   "outputs": [],
   "source": []
  }
 ],
 "metadata": {
  "kernelspec": {
   "display_name": "Python 3 (ipykernel)",
   "language": "python",
   "name": "python3"
  },
  "language_info": {
   "codemirror_mode": {
    "name": "ipython",
    "version": 3
   },
   "file_extension": ".py",
   "mimetype": "text/x-python",
   "name": "python",
   "nbconvert_exporter": "python",
   "pygments_lexer": "ipython3",
   "version": "3.11.7"
  }
 },
 "nbformat": 4,
 "nbformat_minor": 5
}
